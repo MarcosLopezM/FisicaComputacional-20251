{
 "cells": [
  {
   "cell_type": "markdown",
   "id": "161ffad7",
   "metadata": {},
   "source": [
    "<h3 align=\"center\">$\\mathbb{A}\\vec{x} = \\vec{b}$</h3> \n"
   ]
  },
  {
   "cell_type": "markdown",
   "id": "e839feaa",
   "metadata": {},
   "source": [
    "<h3 align=\"center\">$\n",
    "\\begin{pmatrix}\n",
    "2 & 1 & 4 & 1\\\\\n",
    "3 & 4 & -1 & -1\\\\\n",
    "1 & -4 & 1 & 5\\\\\n",
    "2 & -2 & 1 & 3\\\\\n",
    "\\end{pmatrix}\n",
    "  \\begin{align}\n",
    "    \\begin{pmatrix}\n",
    "           w \\\\\n",
    "           x \\\\\n",
    "           y \\\\\n",
    "           z \n",
    "    \\end{pmatrix}\n",
    "    =\n",
    "    \\begin{pmatrix}\n",
    "           -4 \\\\\n",
    "           3 \\\\\n",
    "           9 \\\\\n",
    "           7 \n",
    "         \\end{pmatrix}\n",
    "  \\end{align}\n",
    "$</h3> "
   ]
  },
  {
   "cell_type": "code",
   "execution_count": null,
   "id": "e5015405",
   "metadata": {},
   "outputs": [],
   "source": []
  },
  {
   "cell_type": "code",
   "execution_count": 1,
   "id": "a5324d18",
   "metadata": {},
   "outputs": [],
   "source": [
    "import numpy as np\n",
    "import scipy as sp\n",
    "import matplotlib.pyplot as plt"
   ]
  },
  {
   "cell_type": "code",
   "execution_count": 2,
   "id": "cfb89412",
   "metadata": {},
   "outputs": [],
   "source": [
    "\n",
    "# Matriz que representa el sistema a resolver\n",
    "A = np.array([[ 2,  1,  4,  1 ],\n",
    "           [ 3,  4, -1, -1 ],\n",
    "           [ 1, -4,  1,  5 ],\n",
    "           [ 2, -2,  1,  3 ]],float)\n",
    "\n",
    "\n",
    "v = np.array([ -4, 3, 9, 7 ],float)  # Vector del sistema a resolver\n"
   ]
  },
  {
   "cell_type": "markdown",
   "id": "3541308d",
   "metadata": {},
   "source": [
    "## Eliminación Gussiana"
   ]
  },
  {
   "cell_type": "code",
   "execution_count": 15,
   "id": "832f657a",
   "metadata": {},
   "outputs": [],
   "source": [
    "v = np.array([ -4, 3, 9, 7 ],float)  # Vector del sistema a resolver\n",
    "N = len(v)   #dimension\n",
    "\n",
    "A = np.array([[ 2,  1,  4,  1 ],\n",
    "           [ 3,  4, -1, -1 ],\n",
    "           [ 1, -4,  1,  5 ],\n",
    "           [ 2, -2,  1,  3 ]],float)\n",
    "\n",
    "\n",
    "# Eliminacion Gaussiana\n",
    "for m in range(N):\n",
    "    \n",
    "    # Localizo el elemento a pivotear\n",
    "    div = A[m,m]    \n",
    "    A[m,:] /= div  # divido el renglon que toca entre su pivote    \n",
    "    v[m] /= div      # También dividimos al vector del sistema por el pivote\n",
    "\n",
    "    for i in range(m+1,N):\n",
    "        mult = A[i,m]          #encontramos el elemento por el que debemos multiplicar\n",
    "        A[i,:] = A[i,:] - mult*A[m,:]   # y multiplicamo el renglon por dicho numero y se lo restamos al renglón de abajo\n",
    "        v[i] = v[i] - mult*v[m]        # hacemos las mismas operaciones para el vector de resultados     \n",
    "        \n",
    "        \n",
    "\n",
    "############ Una vez \"triangulizada\" la matriz  realizamos el  Backsubstitution\n",
    "\n",
    "x = np.empty(N,float)  #definimos unvector x vacio\n",
    "\n",
    "for m in range(N-1,-1,-1):\n",
    "    x[m] = v[m]               #asignamos a x el valor del ultimo elemento\n",
    "    # print(x)\n",
    "    for i in range(m+1,N):\n",
    "        x[m] -= A[m,i]*x[i]\n",
    "# print(\"********************************\")    "
   ]
  },
  {
   "cell_type": "code",
   "execution_count": 18,
   "id": "f3c0573e-9185-4345-a030-dcfde6d4fd34",
   "metadata": {},
   "outputs": [
    {
     "name": "stdout",
     "output_type": "stream",
     "text": [
      "A = \n",
      " [[ 1.   0.5  2.   0.5]\n",
      " [ 0.   1.  -2.8 -1. ]\n",
      " [-0.  -0.   1.  -0. ]\n",
      " [-0.  -0.  -0.   1. ]]\n",
      "-----------------\n",
      "\n",
      " x =  [ 2. -1. -2.  1.]\n"
     ]
    }
   ],
   "source": [
    "print(\"A = \\n\",A)\n",
    "print(\"-----------------\")\n",
    "print(\"\\n x = \",x)"
   ]
  },
  {
   "cell_type": "code",
   "execution_count": null,
   "id": "7838860e-cbab-4e22-8559-375589b638fd",
   "metadata": {},
   "outputs": [],
   "source": []
  },
  {
   "cell_type": "code",
   "execution_count": null,
   "id": "9f29dcb7-53ff-4855-8699-646adf70ea6d",
   "metadata": {},
   "outputs": [],
   "source": []
  },
  {
   "cell_type": "code",
   "execution_count": 22,
   "id": "c8eb804c",
   "metadata": {},
   "outputs": [],
   "source": [
    "A = np.array([[ 2,  1,  4,  1 ],\n",
    "           [ 3,  4, -1, -1 ],\n",
    "           [ 1, -4,  1,  5 ],\n",
    "           [ 2, -2,  1,  3 ]],float)\n",
    "\n",
    "P,L,U = sp.linalg.lu(A)"
   ]
  },
  {
   "cell_type": "code",
   "execution_count": 23,
   "id": "a7f08185",
   "metadata": {},
   "outputs": [
    {
     "data": {
      "text/plain": [
       "array([[ 3.,  4., -1., -1.],\n",
       "       [ 1., -4.,  1.,  5.],\n",
       "       [ 2.,  1.,  4.,  1.],\n",
       "       [ 2., -2.,  1.,  3.]])"
      ]
     },
     "execution_count": 23,
     "metadata": {},
     "output_type": "execute_result"
    }
   ],
   "source": [
    "LU = np.dot(L,U)\n",
    "LU"
   ]
  },
  {
   "cell_type": "code",
   "execution_count": 26,
   "id": "386dbb6a",
   "metadata": {},
   "outputs": [
    {
     "data": {
      "text/plain": [
       "array([[ 2.,  1.,  4.,  1.],\n",
       "       [ 3.,  4., -1., -1.],\n",
       "       [ 1., -4.,  1.,  5.],\n",
       "       [ 2., -2.,  1.,  3.]])"
      ]
     },
     "execution_count": 26,
     "metadata": {},
     "output_type": "execute_result"
    }
   ],
   "source": [
    "np.dot(P,LU)"
   ]
  },
  {
   "cell_type": "code",
   "execution_count": null,
   "id": "9975b3f2",
   "metadata": {},
   "outputs": [],
   "source": []
  }
 ],
 "metadata": {
  "@webio": {
   "lastCommId": null,
   "lastKernelId": null
  },
  "kernelspec": {
   "display_name": "Python 3 (ipykernel)",
   "language": "python",
   "name": "python3"
  },
  "language_info": {
   "codemirror_mode": {
    "name": "ipython",
    "version": 3
   },
   "file_extension": ".py",
   "mimetype": "text/x-python",
   "name": "python",
   "nbconvert_exporter": "python",
   "pygments_lexer": "ipython3",
   "version": "3.12.3"
  }
 },
 "nbformat": 4,
 "nbformat_minor": 5
}
