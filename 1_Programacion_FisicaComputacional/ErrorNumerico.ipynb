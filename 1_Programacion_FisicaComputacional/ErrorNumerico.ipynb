{
 "cells": [
  {
   "cell_type": "markdown",
   "id": "93035ed9",
   "metadata": {},
   "source": [
    "<h1 align=\"center\">Física Computacional.</h1>\n",
    "<h1 align=\"center\">Semestre 2015-1</h1>\n",
    "\n",
    "<h2>Sergio A. Alcalá Corona </h2> \n",
    "\n",
    "---\n",
    "### Rodrigo Vega Vilchis\n",
    "### Joel Gómez Uribe\n",
    "---"
   ]
  },
  {
   "cell_type": "markdown",
   "id": "96d58981",
   "metadata": {},
   "source": [
    "<h1 align=\"center\">Programación para la física computacional</h1> \n",
    "\n",
    "# 1.2. Error numérico.\n",
    "\n",
    "---"
   ]
  },
  {
   "cell_type": "markdown",
   "id": "3bd128e5",
   "metadata": {},
   "source": [
    "Ya hemos visto los elementos básicos de la _programación en **`Python`**_: entrada y salida, variables y aritmética, ciclos y sentencias *if*, *while*, etc., con lo que podemos realizar una gran variedad de cálculos. También hemos visto cómo visualizar nuestros resultados utilizando varios tipos de gráficos por computadora. Con lo que tenemos los componentes principales listos para empezar a hacer Física con la computadora, en donde tenemos que considerar el nivel de precisión para nuestros calculos, además de manejar números extremadamente grandes o pequeños, como por ejemplo:\n",
    "\n",
    "- La constante de Cavendish $\\displaystyle{ \\; \\; G = 6.6743 \\times 10^{-11}  \\; m^2/Kg^2}$\n",
    "</br>\n",
    "\n",
    "- La velocidad de la luz en el vacío $\\displaystyle{ \\; \\; c = 299792458  \\; m/s}$\n",
    "</br>\n",
    "\n",
    "- La constante de Boltzmann $\\displaystyle{ \\; \\; k_{\\rm {B}} = 1.380649 \\times 10^{-23} J/K}$\n",
    "</br>\n",
    "\n",
    "- El número de Avogadro $\\displaystyle{ \\; \\; N_{\\rm {A}} = 6.022140857 \\times 10^{23} \\; mol^{-1} }$\n",
    "</br>\n",
    "\n",
    "- La constante de Planck $\\displaystyle{ \\; \\; h = 6.62607015 \\times 10^{-34} \\; Js}$\n",
    "</br>\n",
    "\n",
    "- La constante de Stefan-Boltzmann $\\displaystyle{ \\; \\; \\sigma = 5.670373 \\times 10^{-8} \\; W / m^2 k^4}$\n",
    "</br>\n",
    "\n",
    "- La constante universal de los gases $\\displaystyle{ \\; \\; R = 8.314472 \\; J / mol K}$\n",
    "</br>\n",
    "\n",
    "- La constante de Rydberg $\\displaystyle{ \\; \\;  R_{\\infty } = 1.0973731568539 \\times 10^{7} \\; m^{-1} }$\n",
    "</br>\n",
    "\n",
    "- La carga eléctrica del electrón $\\displaystyle{ \\; \\; e^{-} = -1.602 \\times 10^{-19} \\; C}$\n",
    "</br>\n",
    "\n",
    "- La masa del electrón $\\displaystyle{ \\; \\; m_{e} = 9.1091 \\times 10^{-31} \\; kg}$\n",
    "</br>\n",
    "\n",
    "- La masa de la Tierra $\\displaystyle{ \\; \\; M_{T} = 5.972 \\times 10^{24} \\; kg}$\n",
    "</br>"
   ]
  },
  {
   "cell_type": "markdown",
   "id": "2208b0ba",
   "metadata": {},
   "source": [
    "Sin embargo, hay una cuestión fundamental que hay que abordar antes. Las variables de *`Python`* pueden contener números que abarcan una amplia gama de valores, incluidos números muy grandes, pero no pueden contener números que sean arbitrariamente grandes. \n",
    "\n",
    "Además, **las computadoras tienen limitaciones**. No pueden almacenar números reales con un número infinito de decimales, hay un límite para los números más grandes y más pequeños que se pueden almacenar. \n",
    "\n",
    "Pueden realizar cálculos rápidamente, pero no infinitamente rápido. En muchos casos, estas cuestiones no tienen porque preocuparnos: la computadora es lo suficientemente rápida y precisa para muchos de los cálculos que hacemos en física. Sin embargo, también hay situaciones en las que las limitaciones de la computadora nos afectarán significativamente, por lo que será crucial que comprendamos esas limitaciones, así como los métodos para mitigarlas o solucionarlas cuando sea necesario."
   ]
  },
  {
   "cell_type": "markdown",
   "id": "ba0fc085",
   "metadata": {},
   "source": [
    "## 1.2.1 Capacidad limitada\n",
    "\n",
    "En los Notebooks anteriores, hemos visto ejemplos del uso de variables incluidas las enteras, de punto flotante y complejas, así como listas y matrices. Por ejemplo, en el primer Notebook sumamos los elementos de la lista de la siguiente manera:\n"
   ]
  },
  {
   "cell_type": "code",
   "execution_count": 1,
   "id": "84277dd8",
   "metadata": {},
   "outputs": [
    {
     "name": "stdout",
     "output_type": "stream",
     "text": [
      "0.2999999999999998\n"
     ]
    }
   ],
   "source": [
    "r = [ 1.0, 1.5, -2.2 ]\n",
    "total = sum(r)\n",
    "print(total)"
   ]
  },
  {
   "cell_type": "markdown",
   "id": "e51f676c",
   "metadata": {},
   "source": [
    "Como puedes notar, el resultado no es lo esperado. Ahora considera lo siguiente:"
   ]
  },
  {
   "cell_type": "code",
   "execution_count": 2,
   "id": "82ca0862",
   "metadata": {},
   "outputs": [
    {
     "name": "stdout",
     "output_type": "stream",
     "text": [
      "3.3000000000000003\n"
     ]
    }
   ],
   "source": [
    "a = 1.10\n",
    "b = 2.20\n",
    "suma = a+b\n",
    "print(suma)"
   ]
  },
  {
   "cell_type": "code",
   "execution_count": 3,
   "id": "71c788b5",
   "metadata": {},
   "outputs": [],
   "source": [
    "if suma==3.3:\n",
    "    print(suma)"
   ]
  },
  {
   "cell_type": "markdown",
   "id": "c1b2b5eb",
   "metadata": {},
   "source": [
    "Nuevamente, el resultado no es totalmente exacto. **¿Por qué?**"
   ]
  },
  {
   "cell_type": "markdown",
   "id": "5b84e962",
   "metadata": {},
   "source": [
    "Incluso, si vemos la diferencia entre ambos resultados, tenemos que:"
   ]
  },
  {
   "cell_type": "code",
   "execution_count": 4,
   "id": "d3d58d67",
   "metadata": {},
   "outputs": [
    {
     "data": {
      "text/plain": [
       "3.0000000000000004"
      ]
     },
     "execution_count": 4,
     "metadata": {},
     "output_type": "execute_result"
    }
   ],
   "source": [
    "suma-total"
   ]
  },
  {
   "cell_type": "markdown",
   "id": "e9a98b94",
   "metadata": {},
   "source": [
    "Otro caso es el siguiente. Sabemos que el valor real de $\\pi$ tiene infinitos decimales, después del punto.\n",
    "<h4 align=\"center\">$\\pi = 3.1415926535897932384626 \\ldots$</h4>\n",
    "\n",
    "Sin embargo:"
   ]
  },
  {
   "cell_type": "code",
   "execution_count": 5,
   "id": "0140fb6a",
   "metadata": {},
   "outputs": [
    {
     "data": {
      "text/plain": [
       "3.141592653589793"
      ]
     },
     "execution_count": 5,
     "metadata": {},
     "output_type": "execute_result"
    }
   ],
   "source": [
    "import math as mt\n",
    "mt.pi"
   ]
  },
  {
   "cell_type": "code",
   "execution_count": 6,
   "id": "0aa67b55",
   "metadata": {},
   "outputs": [
    {
     "name": "stdout",
     "output_type": "stream",
     "text": [
      "3.141592653589793\n",
      "0.0\n"
     ]
    }
   ],
   "source": [
    "Pi = 3.1415926535897932384626\n",
    "print(Pi)\n",
    "print(abs(Pi - mt.pi))"
   ]
  },
  {
   "cell_type": "code",
   "execution_count": null,
   "id": "78beea6e",
   "metadata": {},
   "outputs": [],
   "source": []
  },
  {
   "cell_type": "markdown",
   "id": "68b1e60a",
   "metadata": {},
   "source": [
    "Otro ejemplo:"
   ]
  },
  {
   "cell_type": "code",
   "execution_count": 7,
   "id": "12d6572f",
   "metadata": {},
   "outputs": [
    {
     "data": {
      "text/plain": [
       "-9.992007221626409e-16"
      ]
     },
     "execution_count": 7,
     "metadata": {},
     "output_type": "execute_result"
    }
   ],
   "source": [
    "x = 0.666666666666666\n",
    "y = 0.666666666666667\n",
    "x-y"
   ]
  },
  {
   "cell_type": "markdown",
   "id": "f697179a",
   "metadata": {},
   "source": [
    "O bien, si queremos escribir un numero muy grande, puede ocurrir lo siguiente:"
   ]
  },
  {
   "cell_type": "code",
   "execution_count": 8,
   "id": "de8a3177",
   "metadata": {
    "scrolled": true
   },
   "outputs": [
    {
     "ename": "OverflowError",
     "evalue": "(34, 'Numerical result out of range')",
     "output_type": "error",
     "traceback": [
      "\u001b[0;31m---------------------------------------------------------------------------\u001b[0m",
      "\u001b[0;31mOverflowError\u001b[0m                             Traceback (most recent call last)",
      "Cell \u001b[0;32mIn[8], line 1\u001b[0m\n\u001b[0;32m----> 1\u001b[0m \u001b[38;5;28mprint\u001b[39m(\u001b[38;5;241;43m2.\u001b[39;49m\u001b[38;5;241;43m*\u001b[39;49m\u001b[38;5;241;43m*\u001b[39;49m\u001b[38;5;241;43m1000000\u001b[39;49m)\n",
      "\u001b[0;31mOverflowError\u001b[0m: (34, 'Numerical result out of range')"
     ]
    }
   ],
   "source": [
    "print(2.**1000000)"
   ]
  },
  {
   "cell_type": "code",
   "execution_count": null,
   "id": "3b36a483",
   "metadata": {},
   "outputs": [],
   "source": [
    "# import sys\n",
    "# sys.set_int_max_str_digits(301030)"
   ]
  },
  {
   "cell_type": "code",
   "execution_count": null,
   "id": "d98db54a",
   "metadata": {},
   "outputs": [],
   "source": [
    "num = 10*2**(1025)**2\n",
    "# num"
   ]
  },
  {
   "cell_type": "markdown",
   "id": "eeea2b08",
   "metadata": {},
   "source": [
    "Ahora, consideremos los siguientes dos números:\n",
    "\n",
    "$ x = 1 \\; $ y $  \\; y = 1 + 10^{-14} \\sqrt{2}$\n",
    "\n",
    "Substituyendo $x$, en la segunda ecuación tenemos que:\n",
    "\n",
    "$ y = x + 10^{-14} \\sqrt{2}$\n",
    "\n",
    "De tal manera que:\n",
    "\n",
    "$\\sqrt{2} = 10^{14}(y - x)$\n",
    "\n",
    "Calculemos numericamente $\\sqrt{2}$ usando lo anterior y comparemos con el valor de $\\sqrt{2}$:"
   ]
  },
  {
   "cell_type": "code",
   "execution_count": null,
   "id": "86a518c2",
   "metadata": {},
   "outputs": [],
   "source": [
    "from math import sqrt\n",
    "\n",
    "x = 1.0\n",
    "y = 1.0 + (1e-14)*sqrt(2)\n",
    "\n",
    "print((1e14)*(y-x))\n",
    "print(sqrt(2))"
   ]
  },
  {
   "cell_type": "code",
   "execution_count": null,
   "id": "9c5a13b6",
   "metadata": {},
   "outputs": [],
   "source": [
    "x = 1.0\n",
    "y = 1.0 + (1e-20)*sqrt(2)\n",
    "\n",
    "print((1e20)*(y-x))\n",
    "print(sqrt(2))"
   ]
  },
  {
   "cell_type": "markdown",
   "id": "66157b3c",
   "metadata": {},
   "source": [
    "Como se puede ver, el cálculo es preciso sólo hasta el primer decimal; después de eso, el resto no sirve.\n",
    "\n",
    "Los errores grandes en cálculos que implican la resta de números casi iguales surge con cierta frecuencia en física y es quizás la causa más común de error numérico significativo. Por lo que es necesario tenerlo presente este problema en todo momento al escribir programas."
   ]
  },
  {
   "cell_type": "markdown",
   "id": "99ef9447",
   "metadata": {},
   "source": [
    "Los errores anteriores, ocurren pues en realidad, las computadoras no pueden contener números que sean arbitrariamente grandes o pequeños; pues están limitadas en la cantidad de memoria que tienen para almacenar números.\n",
    "\n",
    "Se debe elegir un conjunto finito de \"*bits*\" para representar nuestros números con valores reales, divididos entre la parte entera del número y la parte fraccionaria del mismo. Esto se conoce como **representación de punto flotante**. \n",
    "\n"
   ]
  },
  {
   "cell_type": "markdown",
   "id": "c1520394",
   "metadata": {},
   "source": [
    "## 1.2.1 Representación de punto flotante\n",
    "\n",
    "En general, las computadoras utilizan la **_representación de punto flotante_** para codificar números reales, la cual funciona de manera similar a la notación científica al garantizar que todos los números, independientemente de su tamaño, se representen utilizando el mismo número de cifras significativas.\n",
    "\n",
    "Para entender este concepto, partamos de algo conocido, que es cómo se escriben números en base 10 y base 2. <br>\n",
    "Por ejemplo, tomemos el número 2022.51:\n",
    "\n",
    "$2022.51 = 2 \\times 10^3 + 0  \\times 10^2 + 2  \\times 10^1 + 2  \\times 10^0 + 5 \\times 10^{-1} + 1 \\times 10^{-2}$\n",
    "\n",
    "Las computadoras digitales, por otro lado, usan la base 2 o representación binaria para la aritmética. Al igual que la base 10, el binario también se escribe usando notación posicional, aunque restringido a solo los dígitos 0 y 1. Por ejemplo, el número binario $10110.12$ se puede convertir a base 10 de la siguiente manera:\n",
    "\n",
    "$10110.1 = 1 \\times 2^4  + 0 \\times 2^3 + 1 \\times 2^2 + 1 \\times 2^1 + 0 \\times 2^0 + 1 \\times 2^{-1}$\n",
    "\n",
    "$10110.1_{(2)} =  16 + 4 + 2 + {1 \\over 2}$\n",
    "        \n",
    "$10110.1_{(2)} = 22.5_{(10)}$\n",
    "\n",
    "---"
   ]
  },
  {
   "cell_type": "markdown",
   "id": "78f34bc2",
   "metadata": {},
   "source": [
    "También, recordemos un poco cómo es la representación de números muy grandes o pequeños, en lo que conocemos como _**Notación Científica**_.\n",
    "\n",
    "<img src=\"img/NotacionCientifica.jpg\" style=\"aling:center\" width=250/>\n",
    "\n",
    "Y tomemos como ejemplo el valor de la _magnitud de la velocidad_ de la luz $c$:\n",
    "\n",
    "<h5 align=\"center\">\n",
    "$c \\approx 300,000\\;km/s$\n",
    "</h5>\n",
    "\n",
    "El cual, también podemos escribirlo de la siguiente manera:\n",
    "\n",
    "$c = 299,792,458\\;m/s$\n",
    "\n",
    "o bien,\n",
    "\n",
    "$\\require{color}$\n",
    "$c = \\color{red}{2.99792458}$\n",
    "$×10\\color{blue}{^{8}}$ $\\;m/s$\n"
   ]
  },
  {
   "cell_type": "markdown",
   "id": "a7ac64ba",
   "metadata": {},
   "source": [
    "Tomemos la siguiente representación, en la cual todos los valores relevantes (_mantisa_), quedan a la derecha del punto decimal:\n",
    "\n",
    "<h3 align=\"center\">\n",
    "$c = 0.\\color{red}{299792458}$\n",
    "$\\times 10\\color{blue}{^{9}}$ $\\;m/s$\n",
    "</h3>\n",
    "\n",
    "Entonces podemos escribir el valor como:\n",
    "\n",
    "<h4 align=\"center\">\n",
    "$\\displaystyle c = \\left(\\color{red}{2\\times10^{-1} + 9\\times10^{-2} + 9\\times10^{-3} + 7\\times10^{-4} + 9\\times10^{-5} + 2\\times10^{-6} + 4\\times10^{-7} + 5\\times10^{-8} + 8\\times10^{-9}}\\right)$\n",
    "$\\times 10\\color{blue}{^{9}}$ $\\;m/s$\n",
    "</h4>\n",
    "\n",
    "Es decir:\n",
    "\n",
    "<h3 align=\"center\">\n",
    "$\\displaystyle c =  \\left(\\color{red}{\\sum_{i=1}^9 M_i 10^{-i}} \\right)$\n",
    "$\\times 10\\color{blue}{^{9}}$ $\\;m/s$\n",
    "</h3>\n",
    "\n",
    "En general, podemos escribir cualquier número en _notación científica_ base 10 de la siguiente manera:\n",
    "\n",
    "<h2 align=\"center\">\n",
    "$\\color{green}{\\mathbf{\\pm}}$ $\\displaystyle \\left(\\color{red}{\\sum_{i=1}^E M_i 10^{-i}} \\right)$$\\times 10\\color{blue}{^{E}}$\n",
    "</h2>\n",
    "\n",
    "es decir:\n",
    "\n",
    "<h3 align=\"center\">\n",
    "$\\color{green}{\\mathbf{signo}}$ $\\displaystyle \\left(\\color{red}{Mantisa} \\right)$$\\times 10\\color{blue}{^{Exp}}$\n",
    "</h3>\n",
    "\n",
    "Y podemos hacer lo mismo para la base 2:\n",
    "\n",
    "<h3 align=\"center\">\n",
    "$\\color{green}{\\mathbf{signo}}$ $\\displaystyle \\left(\\color{red}{Mantisa} \\right)$$\\times 2\\color{blue}{^{Exp}}$\n",
    "</h3>\n",
    "\n",
    "---"
   ]
  },
  {
   "cell_type": "markdown",
   "id": "9e5caf17",
   "metadata": {},
   "source": [
    "### Ejercicio:\n",
    "\n",
    "Representar los siguientes valores (en base 10) en notación cientifica de base 2:\n",
    "\n",
    "- 13\n",
    "- -0.8125 \n",
    "- -5.75 \n",
    "- 9.2"
   ]
  },
  {
   "cell_type": "markdown",
   "id": "b6b94dea",
   "metadata": {},
   "source": [
    "### Solución:\n",
    "\n",
    "Comencemos por escribirlos en _binario_:\n",
    "\n",
    "<h4 align=\"center\">\n",
    "$\\displaystyle 13_{(10)} = 8 + 4 + 1 = \\left(\\color{red}{\\mathbf{1}\\cdot2^{3} + \\mathbf{1}\\cdot2^{2} + \\mathbf{0}\\cdot2^{1} + \\mathbf{1}\\cdot2^{0}}\\right) = 1010_{(2)}$\n",
    "</h4>\n",
    "\n",
    "<br>\n",
    "\n",
    "<h4 align=\"center\">\n",
    "$\\displaystyle -0.8125_{(10)} = \\color{green}{\\mathbf{-}}$ $\\left(\\color{red}{\\mathbf{1}\\cdot2^{-1} + \\mathbf{1}\\cdot2^{-2} + \\mathbf{0}\\cdot2^{-3}} + \\mathbf{1}\\cdot2^{-4}\\right)$ $= -0.1101_{(2)}$\n",
    "</h4>\n",
    "<h4 align=\"center\">\n",
    "$\\displaystyle =  \\color{green}{\\mathbf{-}} \\left(\\color{red}{\\mathbf{1}\\cdot\\frac{1}{2}+ \\mathbf{1}\\cdot\\frac{1}{2^2} + \\mathbf{0}\\cdot\\frac{1}{2^3} + \\mathbf{1}\\cdot\\frac{1}{2^4}}\\right)$\n",
    "</h4>\n",
    "\n",
    "<br>\n",
    "\n",
    "<h4 align=\"center\">\n",
    "$\\displaystyle -5.75_{(10)} = \\color{green}{\\mathbf{-}}$ $\\left(\\color{red}{\\mathbf{0}\\cdot2^{3} + \\mathbf{1}\\cdot2^{2} + \\mathbf{0}\\cdot2^{1} + \\mathbf{1}\\cdot2^{0} + \\mathbf{1}\\cdot2^{-1} + \\mathbf{1}\\cdot2^{-2} + \\mathbf{0}\\cdot2^{-3}} \\right)$ $= -0101.1100_{(2)}$\n",
    "</h4>\n",
    "<h4 align=\"center\">\n",
    "$\\displaystyle -5.75_{(10)} = -101.11_{(2)}$\n",
    "</h4>\n",
    "\n",
    "<br>\n",
    "\n",
    "<h4 align=\"center\">\n",
    "$\\displaystyle 9.2_{(10)} = 1001.\\mathbf{0011}0011\\mathbf{0011}0011\\ldots_{(2)}$ \n",
    "</h4>\n",
    "\n",
    "<h4 align=\"center\">\n",
    "$\\mathbf{1}\\cdot2^{3} + \\mathbf{0}\\cdot2^{2} + \\mathbf{0}\\cdot2^{1} + \\mathbf{1}\\cdot2^{0}+$\n",
    "</h4>\n",
    "\n",
    "<h4 align=\"center\">   \n",
    "$\\mathbf{0}\\cdot2^{-1} + \\mathbf{0}\\cdot2^{-2} + \\mathbf{1}\\cdot2^{-3} + \\mathbf{1}\\cdot2^{-4} + $\n",
    "</h4>\n",
    "\n",
    "<h4 align=\"center\">   \n",
    "$\\mathbf{0}\\cdot2^{-5} + \\mathbf{0}\\cdot2^{-6} + \\mathbf{1}\\cdot2^{-7} + \\mathbf{1}\\cdot2^{-8} + $\n",
    "</h4>\n",
    "\n",
    "<h4 align=\"center\">   \n",
    "$\\mathbf{0}\\cdot2^{-9} + \\mathbf{0}\\cdot2^{-10} + \\mathbf{1}\\cdot2^{-11} + \\mathbf{1}\\cdot2^{-12}$ \n",
    "</h4>\n",
    "\n",
    "<h4 align=\"center\">   \n",
    "$\\mathbf{0}\\cdot2^{-13} + \\mathbf{0}\\cdot2^{-14} + \\mathbf{1}\\cdot2^{-15} + \\mathbf{1}\\cdot2^{-16}$ \n",
    "</h4>\n",
    "<h4 align=\"center\">   \n",
    "$\\ldots$ \n",
    "</h4>\n",
    "\n",
    "**Mucha atención** con este último caso. Pues a pesar de que en base 10, el valor tiene una representación fínita, al representarlo en base 2, la parte fraccionaria se vuelve periodica. Por lo que hay que cortar la *mantiza* en algun momento, dado que no se puede tener una representación infinita del valor en la computadora.\n",
    "\n",
    "Asimiso, podemos darnos cuenta que si tomamos una representación **trunca** de este valor y lo convertimos a base 10 nuevamente, no obtendremos el valor exacto.\n",
    "\n",
    "<h4 align=\"center\">\n",
    "$\\displaystyle 1001.001100110011_{(2)} = 2^3 + 2^0 + 2^{-3} + 2^{2} + 2^{-4} + 2^{-7} + 2^{-8} + 2^{-11} + 2^{-12} = 9.19995_{(10)}$ \n",
    "</h4>"
   ]
  },
  {
   "cell_type": "code",
   "execution_count": 1,
   "id": "28c54a72",
   "metadata": {},
   "outputs": [
    {
     "data": {
      "text/plain": [
       "0.1999969482421875"
      ]
     },
     "execution_count": 1,
     "metadata": {},
     "output_type": "execute_result"
    }
   ],
   "source": [
    "(1/2**3)+(1/2**4)+(1/2**7)+(1/2**8)+(1/2**11)+(1/2**12)+(1/2**15)+(1/2**16)"
   ]
  },
  {
   "cell_type": "code",
   "execution_count": 2,
   "id": "8b68e8ff",
   "metadata": {},
   "outputs": [
    {
     "data": {
      "text/plain": [
       "0.199981689453125"
      ]
     },
     "execution_count": 2,
     "metadata": {},
     "output_type": "execute_result"
    }
   ],
   "source": [
    "1/8+1/16+1/128+1/256+1/2048+1/4096+1/32768"
   ]
  },
  {
   "cell_type": "markdown",
   "id": "9713d966",
   "metadata": {},
   "source": [
    "Finalmente, escribamos lo valores en notación científica, de igual manera que como lo hacemos en base 10, es decir, recorriendo el punto hacia la izquierda y elevando a un exponente igual al número de lugares que recorrimos el punto.\n",
    "\n",
    "En este caso, **dejaremos sólo un 1 a la izquierda del punto**. Con lo que tenemos que:\n",
    "\n",
    "<h4 align=\"center\">\n",
    "$\\displaystyle 13_{(10)} = 1101_{(2)} = 1\\color{red}{.101_{(2)}}$ $\\times 2\\color{blue}{^{3}}$\n",
    "</h4>\n",
    "\n",
    "<h4 align=\"center\">\n",
    "$\\displaystyle -5.75_{(10)} = -101.11_{(2)} = \\color{green}{-}$$1\\color{red}{.0111_{(2)}}$ $\\times 2\\color{blue}{^{2}}$\n",
    "</h4>\n",
    "\n",
    "<h4 align=\"center\">\n",
    "$\\displaystyle -0.8125_{(10)} = -0.1101_{(2)} = \\color{green}{-}$$1\\color{red}{.101_{(2)}}$ $\\times 2\\color{blue}{^{-1}}$\n",
    "</h4>\n",
    "\n",
    "<h4 align=\"center\">\n",
    "$\\displaystyle 9.2_{(10)} = \\mathbf{1001.}0011001100110011 \\cdots_{(2)} \\approx 1\\color{red}{.0010011_{(2)}}$ $\\times 2\\color{blue}{^{3}}$\n",
    "</h4>\n",
    "\n",
    "---\n"
   ]
  },
  {
   "cell_type": "markdown",
   "id": "8e357253",
   "metadata": {},
   "source": [
    "Así, de manera general; podemos representar cualquier valor (*número real*), en _**notación cientifica base 2**_, de la siguiente manera:\n",
    "<h1 align=\"center\">\n",
    "$\\color{green}{(-1)^S}$$\\cdot 2\\color{blue}{^{E}}$ $\\displaystyle \\left(1 +\\color{red}{\\sum_{i=1}^E M_i 2^{-i}} \\right)$\n",
    "</h1>\n",
    "\n",
    "En donde los valores de $S$, $E$ y cada uno de los $M_i$, se pueden representar de forma binaria, es decir con $0$'s y $1$'s."
   ]
  },
  {
   "cell_type": "markdown",
   "id": "5bb27ccf",
   "metadata": {},
   "source": [
    "## 1.2.2 El estandar IEEE754\n",
    "\n",
    "La representación matemática anterior, dio paso al _**estándar para la aritmética binaria de punto flotante**_, publicado en 1985 por el _Instituto para Ingenieros Eléctricos y Electrónicos_ (_**IEEE**; Institute for Electrical and Electronic Engineers_), en un réporte llamado *Binary Floating Point Arithmetic Standar 754-1985* y el cual es el más común para la representación de punto flotante. De hecho, este estándar es tan universal que es muy poco probable que encontremos una computadora que no lo use hoy en día.\n",
    "\n",
    "El número de punto flotante de _precisión simple de **32 bits IEEE754**_ se denomina así debido a que usa 32 bits para implementar este estándar; asignados de la siguiente manera:\n",
    "\n",
    "- 1 bit para el bit de **signo**\n",
    "- 8 bits para el **exponente** y \n",
    "- 23 bits para la **mantisa**. \n",
    "\n",
    "<img src=\"img/PrecisionSImple_IEEE-754.png\" style=\"aling:center\" width=350/>"
   ]
  },
  {
   "cell_type": "markdown",
   "id": "a1d06382",
   "metadata": {},
   "source": [
    "Al usar 8 dígitos binarios para representar el exponente, se provee un rango de $0$ a $2^8 - 1$ valores, es decir 256 números (de 0 a 255), para exponentes. Sin embargo, usar sólo enteros positivos para esto, no permitiría una representación completa de los números con magnitud pequeña. Para garantizar que estos números sean igualmente representados, se resta 127 a este conjunto de valores, el cual se denomina _\"exceso\"_ (y se suele representar con la letra $d$, dependiendo de la literatura); para que el rango del exponente este entre -127 a 128, lo que permite tener exponentes negativos, es decir:\n",
    "\n",
    "<h4 align=\"center\"> $\\displaystyle E \\in \\left[-127,0 \\right) \\cup \\left(0,127\\right]$ </h4>\n",
    "<br>\n",
    "\n",
    "por lo que $ E = e - d = e  - \\mathbf{127}$."
   ]
  },
  {
   "cell_type": "code",
   "execution_count": null,
   "id": "c80f4887",
   "metadata": {},
   "outputs": [],
   "source": []
  },
  {
   "cell_type": "markdown",
   "id": "b0f82438",
   "metadata": {},
   "source": [
    "Es probable que hayas notado que el intervalo\n",
    "\n",
    "<h4 align=\"center\"> $\\displaystyle E \\in  \\left\\lbrace -127,-126, \\ldots,-1, 0, 1,2, \\ldots ,126,127 \\right\\rbrace $</h4>\n",
    "\n",
    "no contiene $256 = 2^8$ valores, sino que sólo son 255. Lo anterior ocurre por que el valor $11111111$ para el exponente, está reservado en el estandar IEEE754 para valores no numéricos. Particularmente si el exponente está compuesto únicamente por 1's y la mantisa está compuesta únicamente por ceros, esto representa un infinito positivo o negativo, según el bit de signo:\n",
    "\n",
    "<h4 align=\"center\"> $0 \\; 11111111 \\; 00000000000000000000000 \\equiv +\\infty$</h4>\n",
    "\n",
    "<h4 align=\"center\"> $1 \\;  11111111 \\; 00000000000000000000000 \\equiv -\\infty$</h4>\n",
    "\n",
    "Lo anaerior se basa en que si sumamos $1$ al número más grande que se pueda representar con *punto flotante*, entonces obtendremos $\\infty$ como resultado. Por otro lado, si el exponente está compuesto únicamente por 1's y la mantisa contiene algún $1$, esto representa un _**NaN**_ (es decir un **N**ot **a** **N**umber). Los **NaN** son el resultado de operaciones no válidas, como sacar la raíz cuadrada de un número negativo (puesto quer el estandar IEEE754 representa números reales) o intentar dividir por cero.\n",
    "\n",
    "<h4 align=\"center\"> $0 \\; 11111111 \\; 00000001000000100001001 \\equiv \\textbf{NaN}$</h4>"
   ]
  },
  {
   "cell_type": "markdown",
   "id": "f1a07ac9",
   "metadata": {},
   "source": [
    "### Representación del número cero en el estandar IEEE754\n",
    "\n",
    "Ahora discutamos cómo es que se codifica el $0$ como un número de *punto flotante* en el estandar IEEE754. En primer lugar, el signo no importa en este caso, por lo que podemos tomarlo positivo, es decir el que primer bit sea $0$. El valor más pequeño posible para el exponente (usando los 8 bits), $00000000$ es decir  $e = 0_{(10)}$, por lo que $ E = 0 - \\mathbf{127} = -127$. \n",
    "\n",
    "<h4 align=\"center\">\n",
    "$\\displaystyle (-1)^0 2^{-127} \\left(1 + \\sum_{i=1}^{23} M_i 2^{-i} \\right)$\n",
    "</h4>\n",
    "\n",
    "Pero ojo. Hay que considerar el $1$ inicial en la mantisa. Si elegimos los 23 digitos como $0$ (i.e. $M_i = 0, \\; \\forall i $),\n",
    "\n",
    "<h4 align=\"center\">\n",
    "$\\displaystyle 2^{-127} \\left(1 + \\sum_{i=1}^{23} 0 \\cdot 2^{-i} \\right)$\n",
    "</h4>\n",
    "\n",
    "todavía nos quedaría un valor de  $1 \\times 2^{−127}$, es decir $5.88 \\times 10^{−39}$, en base 10. $\\;$ Un número muy pequeño, sin duda, ¡pero definitivamente no es cero!\n",
    "\n",
    "Para garantizar la codificación del cero como una *representación de punto flotante*, el _**Estandar IEEE754**_ dispone que **si todos los bits del exponente son cero** $00000000$ (es decir $e = 0$), **entonces el $1$ inicial implícito en la mantisa se reemplaza por un $0$, y el exponente representado se cambia por $E = −d + 1$**, lo que da como resultado $E = −126$.\n",
    "\n",
    "<h4 align=\"center\"> $\\displaystyle 2^{-126} \\cdot \\left( 0 \\right)$ </h4>\n",
    "\n",
    "Lo anterior se conoce como forma desnormalizada del IEEE754, en parte de la literatura. \n",
    "\n",
    "Finalmente entonces, la representación de **_precisión simple de 32 bits IEEE754_** se maneja en el hardware de la computadora de la siguiente manera:\n",
    "\n",
    "<img src=\"img/Mantissa.png\" style=\"aling:center\" width=650/>\n",
    "\n",
    "De tal manera que tomando en cuenta el dígito inicial implícito, se tienen 24 bits de precisión para la mantisa y 8 bits para el exponente (con un exceso $d = 127$). Para entender mejor cómo funciona esto, veamos algunos ejemplos:"
   ]
  },
  {
   "cell_type": "code",
   "execution_count": null,
   "id": "ec348bc2",
   "metadata": {},
   "outputs": [],
   "source": [
    "127*2+1"
   ]
  },
  {
   "cell_type": "code",
   "execution_count": null,
   "id": "32bf5890",
   "metadata": {},
   "outputs": [],
   "source": [
    "2**8"
   ]
  },
  {
   "cell_type": "code",
   "execution_count": null,
   "id": "4ecf5922",
   "metadata": {},
   "outputs": [],
   "source": []
  },
  {
   "cell_type": "markdown",
   "id": "3b162baf",
   "metadata": {},
   "source": [
    "Consideremos el siguiente **_`número de maquina`_**:\n",
    "\n",
    "<h3 align=\"center\"> $0 \\; 10000010 \\; 10100000000000000000000$</h3>\n",
    "\n",
    "Y tratemos de ver a que valor (en base 10) representa, de acuerdo a la forma:\n",
    "\n",
    "<h4 align=\"center\">\n",
    "$\\color{green}{(-1)^S}$$\\cdot 2\\color{blue}{^{E}}$ $\\displaystyle \\left(1 +\\color{red}{\\sum_{i=1}^E M_i 2^{-i}} \\right)$\n",
    "</h4>\n",
    "\n",
    "Según el estandar **_IEEE 754_** podemos verlo asi:\n",
    "\n",
    "<h3 align=\"center\"> $\\color{green}{0}$ $\\; \\color{blue}{10000010}$ $\\; \\color{red}{10100000000000000000000}$</h3>\n",
    "\n",
    "en donde los bits de color azúl, codifican el exponente, el de color verde al signo y los de color rojo a la mantiza. "
   ]
  },
  {
   "cell_type": "markdown",
   "id": "82da9e6b",
   "metadata": {},
   "source": [
    "Así entonces, podemos calcular el exponente $\\color{blue}{e}$, de la siguiente manera:\n",
    "\n",
    "$\\color{blue}{e = \\mathbf{1} \\cdot  2^7 + \\mathbf{0} \\cdot  2^6 + \\mathbf{0} \\cdot  2^5 + \\mathbf{0} \\cdot  2^4 + \\mathbf{0} \\cdot 2^3 + \\mathbf{0} \\cdot  2^2 + \\mathbf{1} \\cdot  2^1 + \\mathbf{0} \\cdot  2^0}$\n",
    "\n",
    "$\\color{blue}{e = \\mathbf{1}  \\cdot  2^{7}+ \\mathbf{1}  \\cdot  2^1}$\n",
    "\n",
    "$\\color{blue}{e = 128 + 2 = 130}$\n",
    "\n",
    "Y de manera similar la mantiza $\\color{red}{M}$\n",
    "\n",
    "$\\color{red}{ \\displaystyle M = \\mathbf{1}  \\cdot \\left( \\dfrac{1}{2} \\right)^1 + \\mathbf{0}  \\cdot \\left( \\dfrac{1}{2} \\right)^2 + \\mathbf{1}  \\cdot \\left( \\dfrac{1}{2} \\right)^3} $"
   ]
  },
  {
   "cell_type": "markdown",
   "id": "e581c69a",
   "metadata": {},
   "source": [
    "y substituyendo en la forma general,\n",
    "<h2 align=\"center\">\n",
    "$\\displaystyle (-1)^{\\color{green}{S}}$ $2\\color{blue}{^{e-127}}$$(1+\\color{red}{M}$ $)$\n",
    "</h2>\n",
    "tenemos que:\n",
    "<h3 align=\"center\">\n",
    "$\\displaystyle = (-1)^{\\color{green}{0}}$ $2\\color{blue}{^{130-127}}$$ \\left(1+\\color{red}{\\dfrac{1}{2}+ \\dfrac{1}{8}} \\right)$\n",
    "</h3>\n",
    "\n",
    "<h3 align=\"center\">\n",
    "$\\displaystyle = 2\\color{blue}{^{3}}$$ \\left(\\color{red}{1.625} \\right)$\n",
    "</h3>\n",
    "\n",
    "<h3 align=\"center\">    \n",
    "$ = \\mathbf{13.0} $\n",
    "</h3>\n",
    "\n",
    "\n",
    "\n"
   ]
  },
  {
   "cell_type": "markdown",
   "id": "40814154",
   "metadata": {},
   "source": [
    "$ E = e - d $\n",
    "\n",
    "$\\; \\; \\; \\;= e  - \\mathbf{127} = 130 - 127 = \\color{blue}{3}$ \n",
    "\n",
    "\n",
    "\n",
    "$ M = \\color{red}{101}$ \n",
    "\n",
    "<h3 align=\"center\">   \n",
    "$1.\\color{red}{101}$$ \\times 2\\color{blue}{^3}$ $= {1101}$\n",
    "</h3>\n",
    "\n",
    "<h3 align=\"center\">   \n",
    "$\\mathbf{1101}_{(2)} = 13_{(10)}$\n",
    "</h3>"
   ]
  },
  {
   "cell_type": "markdown",
   "id": "96a76ae1",
   "metadata": {},
   "source": [
    "Ahora, consideremos este otro ejemplo:\n",
    "\n",
    "<h3 align=\"center\"> $\\color{green}{0}$ $\\; \\color{blue}{10000011}$ $\\; \\color{red}{10111001000100000000000}$</h3>\n"
   ]
  },
  {
   "cell_type": "markdown",
   "id": "7223092e",
   "metadata": {},
   "source": [
    "$ e = $ $\\color{blue}{\\mathbf{1} \\cdot  2^7 + \\mathbf{0} \\cdot  2^6 + \\mathbf{0} \\cdot  2^5 + \\mathbf{0} \\cdot  2^4 + \\mathbf{0} \\cdot 2^3 + \\mathbf{0} \\cdot  2^2 + \\mathbf{1} \\cdot  2^1 + \\mathbf{1} \\cdot  2^0}$\n",
    "\n",
    "$ e = $ $\\color{blue}{\\mathbf{1}  \\cdot  2^{7}+ \\mathbf{1}  \\cdot  2^1 + \\mathbf{1}  \\cdot  2^0}$\n",
    "\n",
    "$ e = 128 + 2 + 1 = 131$\n",
    "\n",
    "$ \\displaystyle M = \\color{red}{\\mathbf{1} \\left( \\dfrac{1}{2} \\right)^1 + \\mathbf{0} \\left( \\dfrac{1}{2} \\right)^2 + \\mathbf{1} \\left( \\dfrac{1}{2} \\right)^3 + \\mathbf{1}  \\left( \\dfrac{1}{2} \\right)^4 + \\mathbf{1} \\left( \\dfrac{1}{2} \\right)^5 + \\mathbf{0} \\left( \\dfrac{1}{2} \\right)^6 + \\mathbf{0} \\left( \\dfrac{1}{2} \\right)^7 +\\mathbf{1} \\left( \\dfrac{1}{2} \\right)^8 + \\mathbf{0} \\left( \\dfrac{1}{2} \\right)^9 + \\mathbf{0} \\left( \\dfrac{1}{2} \\right)^{10} + \\mathbf{0} \\left( \\dfrac{1}{2} \\right)^{11} + \\mathbf{1} \\left( \\dfrac{1}{2} \\right)^{12}} $"
   ]
  },
  {
   "cell_type": "markdown",
   "id": "fe511391",
   "metadata": {},
   "source": [
    "<h3 align=\"center\">\n",
    "$\\displaystyle = (-1)^{\\color{green}{0}}$ $2\\color{blue}{^{131-127}}$$ \\left(1+\\color{red}{\\dfrac{1}{2}+ \\dfrac{1}{8}+ \\dfrac{1}{16}+ \\dfrac{1}{32}+ \\dfrac{1}{256}+ \\dfrac{1}{4096}} \\right)$\n",
    "</h3>\n",
    "\n",
    "<h3 align=\"center\">    \n",
    "$ = \\mathbf{27.56640625} $\n",
    "</h3>\n",
    "\n",
    "\n",
    "\n"
   ]
  },
  {
   "cell_type": "markdown",
   "id": "3f202dac",
   "metadata": {},
   "source": [
    "$ E = e - \\mathbf{127} = 131 - 127 = \\color{blue}{4}$ \n",
    "\n",
    "$ M = \\color{red}{101110010001}$ \n",
    "\n",
    "<h3 align=\"center\">   \n",
    "$1.\\color{red}{101110010001}$$ \\times 2\\color{blue}{^4}$ $= {11011.10010001}$\n",
    "</h3>\n",
    "\n",
    "<h3 align=\"center\">   \n",
    "$\\mathbf{11011.10010001}_{(2)} = 27.56640625_{(10)}$\n",
    "</h3>"
   ]
  },
  {
   "cell_type": "markdown",
   "id": "33f7d140",
   "metadata": {},
   "source": [
    "<!-- <img src=\"img/IEEE-754.jpg\" style=\"aling:center\" width=750/> -->"
   ]
  },
  {
   "cell_type": "markdown",
   "id": "7366b014",
   "metadata": {},
   "source": [
    "En 2008 se publicó una versión actualizada del estandar, con el nombre de **IEEE754-2008**; el cual proporciona estándares para números de punto flotante decimales y binarios, formatos para intercambio de datos, algoritmos para redondear operaciones aritméticas y manejo de excepciones. En el mismo, se especifica cuáles son los formatos para las precisiones individuales, dobles y amplias y, en general, todos los fabricantes de microcomputadoras que fabrican harreare de punto flotante siguen estos estándares.\n",
    "\n",
    "### 1.2.3 El estandar IEEE754 de _doble precisión_ de 64 bits\n",
    "\n",
    "Si bien los _números de punto flotante de **precisión simple**_ son extremadamente útiles, en los cálculos cotidianos a veces necesitamos más precisión (es decir, dígitos más significativos, lo que requiere un mayor número de bits en la mantisa o un rango mayor en el exponente). El estándar de punto flotante de **doble precisión IEEE754 de 64 bits** ayuda con ambos problemas, ya que ahora tenemos 64 bits para trabajar; esto se divide para dar 1 bit de signo (como antes), 11 bits de exponente y 52 bits de mantisa.\n",
    "<br>\n",
    "\n",
    "<img src=\"img/PrecisionDoble_IEEE-754.png\" style=\"aling:center\" width=530>\n",
    "\n",
    "Con 11 bits de exponente, podemos formar números enteros del $0$ al $2^{11} − 1 = 2047$; por lo tanto, el exceso o compensación para números de punto flotante de doble precisión es ${2^{11} / 2} - 1 = 1023$. Por lo que el rango del exponente en realidad se encuentra entre -1023 y 1024.\n",
    "\n",
    "<br>\n",
    "\n",
    "<img src=\"img/Precisiones_EEE-754.ppm\" style=\"aling:center\" width=500 />\n",
    "\n",
    "Por medio de este sistema obtenemos un número de punto flotante de la forma:\n",
    "\n",
    "<h3 align=\"center\">\n",
    "$\\color{green}{(-1)^S}$$\\cdot 2\\color{blue}{^{e-1023}}$ $\\displaystyle \\left(1 +\\color{red}{\\sum_{i=1}^E M_i 2^{-i}} \\right)$\n",
    "</h3>"
   ]
  },
  {
   "cell_type": "markdown",
   "id": "2f5fdce0",
   "metadata": {},
   "source": [
    "Consideremos el último ejemplo anterior, pero en su representación de  **_`número de maquina`_** en el estandar **IEEE754 de doble precisión (de 64 bits)**:\n",
    "<br>\n",
    "\n",
    "<h3 align=\"center\"> $0 \\; 10000000011 \\; 1011100100010000000000000000000000000000000000000000$</h3>\n",
    "<br>\n",
    "\n",
    "Y confirmemos el valor (en base 10) que representa, de acuerdo a la forma:\n",
    "\n",
    "<h4 align=\"center\">\n",
    "$\\color{green}{(-1)^S}$$\\cdot 2\\color{blue}{^{e-1023}}$ $\\displaystyle \\left(1 +\\color{red}{\\sum_{i=1}^E M_i 2^{-i}} \\right)$\n",
    "</h4>"
   ]
  },
  {
   "cell_type": "markdown",
   "id": "27dfcaf8",
   "metadata": {},
   "source": [
    "\n",
    "$\\color{blue}{e = \\mathbf{1} \\times 2^{10}+  \\mathbf{0} \\cdot 2^9 + \\mathbf{0} \\cdot  2^8 + \\mathbf{0} \\cdot  2^7 + \\mathbf{0} \\cdot  2^6 + \\mathbf{0} \\cdot  2^5 + \\mathbf{0} \\cdot  2^4 + \\mathbf{0} \\cdot 2^3 + \\mathbf{0} \\cdot  2^2 + \\mathbf{1} \\cdot  2^1 + \\mathbf{1} \\cdot  2^0}$\n",
    "\n",
    "$\\color{blue}{e = 1 \\cdot  2^{10}+ 1 \\cdot  2^1 + 1 \\cdot  2^0}$\n",
    "\n",
    "$\\color{blue}{e = 1024 + 2 + 1 = 1027}$\n",
    "\n",
    "$\\color{red}{e =  \\displaystyle M = 1 \\cdot \\left( \\dfrac{1}{2} \\right)^1 + 1 \\cdot \\left( \\dfrac{1}{2} \\right)^3 + 1 \\cdot \\left( \\dfrac{1}{2} \\right)^4 + 1 \\cdot \\left( \\dfrac{1}{2} \\right)^5  +1 \\cdot \\left( \\dfrac{1}{2} \\right)^8  + 1 \\cdot \\left( \\dfrac{1}{2} \\right)^{12} } $\n",
    "\n",
    "<br>\n",
    "\n",
    "Entonces:\n",
    "\n",
    "<h4 align=\"center\">\n",
    "$\\displaystyle \\color{green}{(-1)^S}$ $\\cdot 2\\color{blue}{^{e-1023}}$ $\\displaystyle \\left(1 +\\color{red}{\\sum_{i=1}^E M_i 2^{-i}} \\right) = $ $\\displaystyle \\color{green}{(-1)^0}$ $\\displaystyle \\cdot 2\\color{blue}{^{1027-1023}}$ $\\displaystyle \\left( 1 + \\color{red}{\\dfrac{1}{2}+ \\dfrac{1}{8}+ \\dfrac{1}{16}+ \\dfrac{1}{32}+ \\dfrac{1}{256}+ \\dfrac{1}{4096}} \\right)$\n",
    "</h4>\n",
    "\n",
    "<h4 align=\"center\">\n",
    "$\\displaystyle 2\\color{blue}{^{4}}$ $\\displaystyle \\left( 1\\color{red}{.722900390625} \\right)$ $= 27.56640625 $\n",
    "</h4>"
   ]
  },
  {
   "cell_type": "code",
   "execution_count": null,
   "id": "30ae16bb",
   "metadata": {},
   "outputs": [],
   "source": [
    "(1+1/2+1/8+1/16+1/32+1/256+1/4096)*2**4"
   ]
  },
  {
   "cell_type": "code",
   "execution_count": null,
   "id": "1571a378",
   "metadata": {},
   "outputs": [],
   "source": []
  },
  {
   "cell_type": "markdown",
   "id": "d4fc0236",
   "metadata": {},
   "source": [
    "### Ejercicio 1:\n",
    "\n",
    "En el estandar *IEEE754 de punto flotante, de doble precisión (64 bits)*:\n",
    "\n",
    "1) ¿cuál es la magnitud del número más grande? y \n",
    "2) ¿cuál es la magnitud del número más pequeño?,\n",
    "\n",
    "que se puede representar (ignorando el caso de cero).\n",
    "\n",
    "\n"
   ]
  },
  {
   "cell_type": "markdown",
   "id": "2f81befa",
   "metadata": {},
   "source": [
    "### Solución:\n",
    "\n",
    "1) \n",
    "El exponente para el número positivo más grande posible, debería ser $E = 1023$. \n",
    "\n",
    "Por lo que $ E = e - \\mathbf{1023} = 1023$, es decir, $ e = 2046_{(10)} = 11111111110_{(2)}$. Recordemos que $e$ no pueden ser todos 1's, es decir, no puede ser $2047_{(10)} = 11111111111_{(2)}$ puesto que para el exponente $11111111111$ está reservado para valores no numéricos. Caso contrario para la matisa en la cual, los 52 digitos deberían ser 1, para tener el valor más alto. Como estamos considerando la magnitud del número, el signo realmente es irrelevante, por lo que podemos tomarlo positivo, sin perdida de generalidad. Por lo que la representación del número más grande sería:\n",
    "\n",
    "<h3 align=\"center\"> $\\color{green}{0} \\;$ $\\color{blue}{11111111110} \\;$ $\\color{red}{ 1111111111111111111111111111111111111111111111111111}$</h3>\n",
    "<br>\n",
    "\n",
    "Lo que en base 10 es:\n",
    "<h3 align=\"center\">\n",
    "$\\displaystyle 2\\color{blue}{^{1023}}$ $\\displaystyle \\left(1 +\\color{red}{\\sum_{i=1}^{52} 2^{-i}} \\right) \\;$ $\\approx 1.797693 \\times 10^{308}$\n",
    "</h3>"
   ]
  },
  {
   "cell_type": "markdown",
   "id": "5108c1c9",
   "metadata": {},
   "source": [
    "Así, el valor más grande que se puede dar a una variable de punto flotante es aproximadamente $1.8 \\times 10^{308}$ (y también existe un valor negativo más grande correspondiente de aproximadamente $-1.8 \\times 10^{308}$ ). De manera similar, en los números complejos la parte real como la imaginaria pueden llegar hasta aproximadamente $\\pm  \\times 10^{308}$, pero no más. "
   ]
  },
  {
   "cell_type": "code",
   "execution_count": null,
   "id": "a3bfee00",
   "metadata": {},
   "outputs": [],
   "source": [
    "S = 0\n",
    "for i in range(0,53):\n",
    "#     print(S,\"+ 2^(\",\"-\",i,\")\")\n",
    "#     print(S,\"+\",2**-i)\n",
    "    S = S + 2**-i\n",
    "(2**(1023))*S"
   ]
  },
  {
   "cell_type": "markdown",
   "id": "94dd0d9d",
   "metadata": {},
   "source": [
    "2) \n",
    "\n",
    "El exponente para el número de positivo más pequeño posible, debería ser $E = -1023$. \n",
    "\n",
    "Por lo que $ E = e - \\mathbf{1023} = 1023$, es decir, $ e = 0_{(10)} = 00000000000_{(2)}$. Y la matisa debería ser el siguiente número depúes del $0$, es decir, los 52 digitos deberían ser 0, excepto por el último. Al igual que en el caso anterior, el signo es irrelevante, pues estamos considerando la magnitud. Por lo que la representación del número más pequeño sería:\n",
    "\n",
    "<h3 align=\"center\"> $\\color{green}{0} \\;$ $\\color{blue}{00000000000} \\;$ $\\color{red}{ 0000000000000000000000000000000000000000000000000001}$</h3>\n",
    "<br>\n",
    "\n",
    "Lo que en base 10 es:\n",
    "<h3 align=\"center\">\n",
    "$\\displaystyle 2\\color{blue}{^{-1023}}$ $\\displaystyle \\left(1 +\\color{red}{2^{-52}} \\right) $\n",
    "</h3>\n",
    "<br>\n",
    "\n",
    "Pero recordemos la regla del _**Estandar IEEE754**_ que dispone que **si todos los bits del exponente son cero entonces el $1$ inicial en la mantisa se reemplaza por un $0$, y el exponente representado se cambia por $E = -d + 1$**, por lo que tenemos que:\n",
    "<br>\n",
    "\n",
    "<h3 align=\"center\">\n",
    "$\\displaystyle 2\\color{blue}{^{-1023 + 1}}$ $\\displaystyle \\left(\\color{red}{2^{-52}} \\right) = $\n",
    "$\\displaystyle 2\\color{blue}{^{-1022}}$ $\\displaystyle \\left(\\color{red}{2^{-52}} \\right) = {2^{-1074}} \\approx 5 \\times 10^{-324}$     \n",
    "</h3>"
   ]
  },
  {
   "cell_type": "code",
   "execution_count": null,
   "id": "3cfef95d",
   "metadata": {},
   "outputs": [],
   "source": [
    "(2**(-1022))*(1/(2**52))"
   ]
  },
  {
   "cell_type": "code",
   "execution_count": null,
   "id": "35c66d2f",
   "metadata": {},
   "outputs": [],
   "source": [
    "2**(-1074)"
   ]
  },
  {
   "cell_type": "code",
   "execution_count": null,
   "id": "62cd837d",
   "metadata": {},
   "outputs": [],
   "source": [
    "2**(-1075)"
   ]
  },
  {
   "cell_type": "markdown",
   "id": "53e84a15",
   "metadata": {},
   "source": [
    "En realidad la parte más importante de la regla de cuando _todos los bits del exponente son cero_, es precisamente cambiar el exponente por $E = -d + 1$, pues podriamos pensar que comparado con el orden de magnitud de $2\\color{blue}{^{-1023 + 1}}$, el valor de $(1 +\\color{red}{2^{-52}}$ $) \\approx 1$, por lo que:\n",
    "\n",
    "<h3 align=\"center\">\n",
    "$\\displaystyle 2\\color{blue}{^{-1023}}$ $\\displaystyle \\left(1 +\\color{red}{2^{-52}} \\right) \\approx 2\\color{blue}{^{-1022}}$ $\\approx 2.22507 \\times 10^{-308}$\n",
    "</h3>"
   ]
  },
  {
   "cell_type": "code",
   "execution_count": null,
   "id": "45bd8c70",
   "metadata": {},
   "outputs": [],
   "source": [
    "2**(-1022)"
   ]
  },
  {
   "cell_type": "markdown",
   "id": "4c522fc1",
   "metadata": {},
   "source": [
    "Así, el valor más pequeño que se puede representar con una variable de *punto flotante* es aproximadamente $5 \\times 10^{-324}$ (con su respectivo valor negativo aproximadamente $-5 \\times 10^{-324}$). Que inlcuso sin llegar a ese limite, podemos tener magnitudes del orden de $10^{-308}$ (o $2^{-1022}$) a groso modo. Lo cual es suficiente para la mayoría de los cálculos que hacemos en Física; incluso todas **las constantes físicas listadas al principio del Notebook** (y mucho más), se pueden representar con este estandar. Sin embargo, veremos que hay ocasiones en las que nos podemos topar con algunos problemas."
   ]
  },
  {
   "cell_type": "markdown",
   "id": "4692c08c",
   "metadata": {},
   "source": [
    "<img src=\"img/FormatosIEEE-754B.png\" style=\"aling:center\" width=550/>"
   ]
  },
  {
   "cell_type": "markdown",
   "id": "ef8823bd",
   "metadata": {},
   "source": [
    "Si el valor de una variable excede el número de punto flotante más grande que se puede almacenar en la computadora, decimos que la variable se ha desbordado. Por ejemplo, si una variable de punto flotante x contiene un número cercano al valor máximo permitido de 10308 y luego ejecutamos una declaración como \"y = 10*x\", es probable que el resultado sea mayor que el máximo y la variable y se desbordará (pero no la variable x, cuyo valor no cambia).\n",
    "\n",
    "Si esto sucediera durante el curso de un cálculo, podría imaginar que el programa se detendría y tal vez mostraría un mensaje de error, pero en Python esto no es lo que sucede. En lugar de eso, la computadora establecerá la variable en el valor especial \"inf\", que significa infinito. Si imprime dicha variable con una declaración de impresión, la computadora realmente imprimirá la palabra \"inf\" en la pantalla. En efecto, todo número superior al 1T308 es infinito en lo que respecta a la computadora."
   ]
  },
  {
   "cell_type": "code",
   "execution_count": null,
   "id": "80e53f6d",
   "metadata": {},
   "outputs": [],
   "source": [
    "mx = 1.7976931348623157e308\n",
    "mx"
   ]
  },
  {
   "cell_type": "code",
   "execution_count": null,
   "id": "38059f43",
   "metadata": {},
   "outputs": [],
   "source": [
    "2*mx"
   ]
  },
  {
   "cell_type": "code",
   "execution_count": null,
   "id": "625d3300",
   "metadata": {},
   "outputs": [],
   "source": [
    "1e309"
   ]
  },
  {
   "cell_type": "markdown",
   "id": "6ef3f73c",
   "metadata": {},
   "source": [
    "Podemos preguntar a Python, cuales son sus números máximo y mínimo que puede representar mediante una variables de *punto flotante*, de la siguiente manera:"
   ]
  },
  {
   "cell_type": "code",
   "execution_count": null,
   "id": "2eb6a627",
   "metadata": {},
   "outputs": [],
   "source": [
    "import sys\n",
    "sys.float_info.max "
   ]
  },
  {
   "cell_type": "code",
   "execution_count": null,
   "id": "a366fb75",
   "metadata": {},
   "outputs": [],
   "source": [
    "sys.float_info.min"
   ]
  },
  {
   "cell_type": "markdown",
   "id": "ba623e1b",
   "metadata": {},
   "source": [
    "Es importante recordar que los números muy grandes se pueden especificar en *notación científica*, utilizando una `e` para indicar el exponente, lo cual en la mayoría de las ocasiones facilita mucho la programación.\n",
    "\n",
    "Por ejemplo, `3e8` significa $3 \\times 10^{8}$ y `1.602e-19` significa $1.602 \\times 10^{-19}$ Hay que tener en cuenta que **los números especificados en notación científica siempre son flotantes**. Incluso si el número es, matemáticamente hablando, un entero (como `3e8`), la computadora lo tratará como un flotante."
   ]
  },
  {
   "cell_type": "code",
   "execution_count": null,
   "id": "8d71289c",
   "metadata": {},
   "outputs": [],
   "source": [
    "print(3e8)\n",
    "print(1.602e-19)"
   ]
  },
  {
   "cell_type": "markdown",
   "id": "7f9bdeac",
   "metadata": {},
   "source": [
    "### Ejercicio 2:\n",
    "\n",
    "Convierte alguna de **las constantes físicas listadas al principio del Notebook** en:\n",
    "\n",
    "1) Su representación de punto flotante de presición simple (32 bits)\n",
    "\n",
    "2) Su representación de punto flotante de presición doble (64 bits)\n"
   ]
  },
  {
   "cell_type": "markdown",
   "id": "fa18229d",
   "metadata": {},
   "source": [
    "## 1.2.3 Error de redondeo\n",
    "<!-- ## 1.2.3 Aritmetica de punto flotante -->\n",
    "\n",
    "Como acabamos de ver, el problema con los calculos, puede que no necesariamente se deba al representar números demasiado grandes o demasiado pequeños; pues el estandar IEEE754 proporciona un buen rango.\n",
    "\n",
    "El error que se produce cuando se utiliza una calculadora o computadora para realizar cálculos con números reales recibe el nombre de error de redondeo. Se presenta porque la aritmética realizada en una máquina incluye números con un sólo número finito de dígitos, y esto da como resultado cálculos realizados únicamente con representaciones aproximadas de los números reales.\n",
    "\n",
    "Consideremos el último ejemplo que vimos de representación en el estandar *IEEE754 de doble precisión (de 64 bits)*, donde teníamos el siguiente  **_`número de maquina`_**:\n",
    "<br>\n",
    "\n",
    "<h3 align=\"center\"> $\\color{green}{0} \\;$ $\\color{blue}{10000000011} \\;$ $\\color{red}{ 1011100100010000000000000000000000000000000000000000}$</h3>\n",
    "<br>\n",
    "\n",
    "El cual (como calculamos), representa al número real:\n",
    "\n",
    "\n",
    "<h3 align=\"center\">\n",
    "$\\displaystyle 2\\color{blue}{^{4}}$ $\\displaystyle \\left( 1\\color{red}{.722900390625} \\right)$ $= 27.56640625 $\n",
    "</h3>"
   ]
  },
  {
   "cell_type": "markdown",
   "id": "245d9b05",
   "metadata": {},
   "source": [
    "Sin embargo, el siguiente **número de máquina** más pequeño es:\n",
    "\n",
    "\n",
    "<h4 align=\"center\"> $\\color{green}{0} \\;$ $\\color{blue}{10000000011} \\;$ $\\color{red}{ 1011100100001111111111111111111111111111111111111111}$</h4>\n",
    "\n",
    "El cual equivale al número real:\n",
    "\n",
    "<h4 align=\"center\">$27.5664062499999982236431605997495353221893310546875$</h4>\n",
    "<br>\n",
    "\n",
    "y el siguiente **número de máquina** más grande es\n",
    "\n",
    "<h4 align=\"center\"> $\\color{green}{0} \\;$ $\\color{blue}{10000000011} \\;$ $\\color{red}{ 1011100100010000000000000000000000000000000000000001}$</h4>\n",
    "<br>\n",
    "\n",
    "El cual equivale al número real:\n",
    "\n",
    "<h4 align=\"center\">$27.5664062500000017763568394002504646778106689453125$</h4>\n",
    "\n",
    "Esto significa que nuestro número de maquina original, no sólo representa a $27.56640625$, sino que también representa a todos los número reales que se encuentran comprendidos en el intervalo:\n",
    "\n",
    "\n",
    "<h5 align=\"center\"> $\\displaystyle \\left[ 27.5664062499999982236431605997495353221893310546875, \\; \\; 27.5664062500000017763568394002504646778106689453125 \\right)$</h5>\n",
    "\n",
    "Así entonces, en la computadora, **sólo un subconjunto relativamente pequeño del sistema de números reales se usa para la representación de todos los números reales**. Este subconjunto sólo contiene números racionales, tanto positivos como negativos, y almacena la parte fraccionaria, junto con una parte exponencial.\n",
    "\n",
    "Por lo que los números que se pueden llegar a presentar en los cálculos que tienen una magnitud menor que $2^{−1022} \\cdot \\left(1 + 0 \\right)$\n",
    "\n",
    "resultan en un subdesbordamiento y, en general, se configuran en cero. Los números superiores a\n",
    "\n",
    "$2^{1023} \\cdot \\left(2 − 2^{-52} \\right)$\n",
    "\n",
    "resultan en desbordamiento y, comúnmente, causan que los cálculos se detengan (a menos que el programa haya sido diseñado para detectar estás presencias).\n",
    "\n",
    "\n",
    "<!-- Además, los 53 bits binarios de precisión (52 de la mantisa y 1 del dígito principal implícito) dan como resultado log10 253 ≈ 15,9 cifras significativas en base 10, más del doble del número de dígitos significativos en el caso de precisión simple. ¡Puedes ver cómo los números de doble precisión pueden ser mucho más útiles cuando necesitas trabajar con números grandes y muchos dígitos significativos!\n",
    "\n",
    "Podemos llegar incluso más allá del doble de precisión si queremos; un IEEE754\n",
    "El estándar también existe para precisión cuádruple (cuádruple) de 128 bits, que contiene 1 bit de signo, 15 bits de exponente y 112 bits de mantisa, para un total de 128 bits. En la Tabla 1.1 se proporciona un resumen de precisión simple, doble y cuádruple.\n",
    " -->"
   ]
  },
  {
   "cell_type": "code",
   "execution_count": null,
   "id": "1489edbc",
   "metadata": {},
   "outputs": [],
   "source": []
  },
  {
   "cell_type": "code",
   "execution_count": null,
   "id": "3c36c3f9",
   "metadata": {},
   "outputs": [],
   "source": []
  }
 ],
 "metadata": {
  "@webio": {
   "lastCommId": null,
   "lastKernelId": null
  },
  "kernelspec": {
   "display_name": "Python 3 (ipykernel)",
   "language": "python",
   "name": "python3"
  },
  "language_info": {
   "codemirror_mode": {
    "name": "ipython",
    "version": 3
   },
   "file_extension": ".py",
   "mimetype": "text/x-python",
   "name": "python",
   "nbconvert_exporter": "python",
   "pygments_lexer": "ipython3",
   "version": "3.12.3"
  }
 },
 "nbformat": 4,
 "nbformat_minor": 5
}
