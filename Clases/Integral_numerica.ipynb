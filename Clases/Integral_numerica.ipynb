{
 "cells": [
  {
   "cell_type": "markdown",
   "id": "84668b07-626f-4ca8-9a45-a9c48a8e91dc",
   "metadata": {},
   "source": [
    "<h1>Integración numérica por el método del trapecio</h1>\n",
    "\n",
    "\\begin{equation*}\n",
    "    I(a, b) = h \\Biggl[\\dfrac{f(a) + f(b)}{2} + \\sum_{k=1}^{N-1}f(a + kh)\\Biggr]\n",
    "\\end{equation*}"
   ]
  },
  {
   "cell_type": "code",
   "execution_count": 26,
   "id": "2a44561e-6049-4f6d-be59-dba90a24be6e",
   "metadata": {},
   "outputs": [],
   "source": [
    "import numpy as np"
   ]
  },
  {
   "cell_type": "code",
   "execution_count": 27,
   "id": "2a6c1ebb-9689-442b-9f1d-1e8886f35c66",
   "metadata": {},
   "outputs": [],
   "source": [
    "def trapezoid_rule(a, b, N, f):\n",
    "    h = (b - a) / N\n",
    "    area_bajo = (f(a) + f(b)) / 2 # Inicializada con la suma del primer y último elemento\n",
    "\n",
    "    for k in range(1, N): # Hasta N - 1\n",
    "        area_bajo += f(a + k*h)\n",
    "    return h * area_bajo"
   ]
  },
  {
   "cell_type": "code",
   "execution_count": 13,
   "id": "c8eb14ff-b49d-4b43-8968-791c552217a6",
   "metadata": {},
   "outputs": [],
   "source": [
    "# f = lambda x: x**4 - 2*x + 1"
   ]
  },
  {
   "cell_type": "code",
   "execution_count": 28,
   "id": "d122629d-9ae5-42b7-a0a2-ba5c5d7c0496",
   "metadata": {},
   "outputs": [],
   "source": [
    "f_exp = lambda x: np.exp(-x**2)"
   ]
  },
  {
   "cell_type": "code",
   "execution_count": 31,
   "id": "fb683daf-8848-47c9-900d-e586dfe65e84",
   "metadata": {},
   "outputs": [
    {
     "name": "stdout",
     "output_type": "stream",
     "text": [
      "1.7724538509055159\n"
     ]
    }
   ],
   "source": [
    "print(trapezoid_rule(-1000., 1000., 1000000, f_exp))"
   ]
  },
  {
   "cell_type": "code",
   "execution_count": 30,
   "id": "bdd1b58d-2f21-4455-a765-9ee85e031191",
   "metadata": {},
   "outputs": [
    {
     "data": {
      "text/plain": [
       "np.float64(1.7724538509055159)"
      ]
     },
     "execution_count": 30,
     "metadata": {},
     "output_type": "execute_result"
    }
   ],
   "source": [
    "np.sqrt(np.pi)"
   ]
  },
  {
   "cell_type": "code",
   "execution_count": null,
   "id": "8ba0b8de-5d74-4385-8562-858dc85e8c4b",
   "metadata": {},
   "outputs": [],
   "source": []
  }
 ],
 "metadata": {
  "kernelspec": {
   "display_name": "Python 3 (ipykernel)",
   "language": "python",
   "name": "python3"
  },
  "language_info": {
   "codemirror_mode": {
    "name": "ipython",
    "version": 3
   },
   "file_extension": ".py",
   "mimetype": "text/x-python",
   "name": "python",
   "nbconvert_exporter": "python",
   "pygments_lexer": "ipython3",
   "version": "3.12.3"
  }
 },
 "nbformat": 4,
 "nbformat_minor": 5
}
