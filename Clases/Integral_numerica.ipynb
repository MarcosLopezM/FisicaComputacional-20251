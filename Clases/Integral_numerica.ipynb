{
 "cells": [
  {
   "cell_type": "markdown",
   "id": "84668b07-626f-4ca8-9a45-a9c48a8e91dc",
   "metadata": {},
   "source": [
    "<h1>Integración numérica por el método del trapecio</h1>\n",
    "\n",
    "\\begin{equation*}\n",
    "    I(a, b) \\simeq h \\Biggl[\\dfrac{f(a) + f(b)}{2} + \\sum_{k=1}^{N-1}f(a + kh)\\Biggr]\n",
    "\\end{equation*}"
   ]
  },
  {
   "cell_type": "code",
   "execution_count": 19,
   "id": "2a6c1ebb-9689-442b-9f1d-1e8886f35c66",
   "metadata": {},
   "outputs": [],
   "source": [
    "def trapezoid_rule(a, b, N, f):\n",
    "    h = (b - a) / N\n",
    "    area_bajo = (f(a) + f(b)) / 2 # Inicializada con el primer elemento de la suma\n",
    "\n",
    "    for k in range(1, N): # Hasta N - 1\n",
    "        area_bajo += f(a + k*h)\n",
    "    return h * area_bajo"
   ]
  },
  {
   "cell_type": "code",
   "execution_count": 20,
   "id": "c8eb14ff-b49d-4b43-8968-791c552217a6",
   "metadata": {},
   "outputs": [],
   "source": [
    "f = lambda x: x**4 - 2*x + 1"
   ]
  },
  {
   "cell_type": "code",
   "execution_count": 22,
   "id": "fb683daf-8848-47c9-900d-e586dfe65e84",
   "metadata": {},
   "outputs": [
    {
     "data": {
      "text/plain": [
       "4.400000000010726"
      ]
     },
     "execution_count": 22,
     "metadata": {},
     "output_type": "execute_result"
    }
   ],
   "source": [
    "trapezoid_rule(0., 2., 1000000, f)"
   ]
  },
  {
   "cell_type": "code",
   "execution_count": null,
   "id": "2b2e2d94-f9db-4670-80ba-73467c90a1d3",
   "metadata": {},
   "outputs": [],
   "source": []
  }
 ],
 "metadata": {
  "kernelspec": {
   "display_name": "Python 3 (ipykernel)",
   "language": "python",
   "name": "python3"
  },
  "language_info": {
   "codemirror_mode": {
    "name": "ipython",
    "version": 3
   },
   "file_extension": ".py",
   "mimetype": "text/x-python",
   "name": "python",
   "nbconvert_exporter": "python",
   "pygments_lexer": "ipython3",
   "version": "3.12.3"
  }
 },
 "nbformat": 4,
 "nbformat_minor": 5
}
