{
 "cells": [
  {
   "cell_type": "code",
   "execution_count": 21,
   "id": "afb505f3-86da-4bd7-a7f6-27c66c8e2245",
   "metadata": {},
   "outputs": [],
   "source": [
    "import numpy as np\n",
    "\n",
    "def cuadratura_gauss(a, b, N, f):\n",
    "    x, w = np.polynomial.legendre.leggauss(N)\n",
    "    \n",
    "    const_1 = (b - a) / 2\n",
    "    const_2 = (b + a) / 2\n",
    "    \n",
    "    x_prima = const_1 * x + const_2\n",
    "    w_prima = const_1 * w\n",
    "    \n",
    "    suma = 0\n",
    "    \n",
    "    for k in range(N):\n",
    "        suma += w_prima[k] * f(x_prima[k])\n",
    "\n",
    "    return suma"
   ]
  },
  {
   "cell_type": "code",
   "execution_count": 22,
   "id": "0d0c9bb2-800c-4c93-afdc-6fd5cdeb6763",
   "metadata": {},
   "outputs": [
    {
     "name": "stdout",
     "output_type": "stream",
     "text": [
      "19.99361643706708\n",
      "19.993616437067406\n",
      "19.993616437067416\n",
      "19.993616437067416\n",
      "19.993616437067416\n"
     ]
    }
   ],
   "source": [
    "N = 100\n",
    "b = 2 * np.pi\n",
    "\n",
    "f = lambda x: ((x**4) * np.exp(x)) / (np.exp(x) - 1)**2\n",
    "\n",
    "for a in [1e-4, 1e-6, 1e-8, 1e-10, 1e-12]:\n",
    "    print(cuadratura_gauss(a, b, N, f))"
   ]
  },
  {
   "cell_type": "code",
   "execution_count": null,
   "id": "5d161071-832e-4e64-8f11-3c171251d57d",
   "metadata": {},
   "outputs": [],
   "source": []
  }
 ],
 "metadata": {
  "kernelspec": {
   "display_name": "Python 3 (ipykernel)",
   "language": "python",
   "name": "python3"
  },
  "language_info": {
   "codemirror_mode": {
    "name": "ipython",
    "version": 3
   },
   "file_extension": ".py",
   "mimetype": "text/x-python",
   "name": "python",
   "nbconvert_exporter": "python",
   "pygments_lexer": "ipython3",
   "version": "3.12.3"
  }
 },
 "nbformat": 4,
 "nbformat_minor": 5
}
