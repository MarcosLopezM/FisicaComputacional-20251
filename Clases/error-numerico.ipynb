{
 "cells": [
  {
   "cell_type": "markdown",
   "id": "6fbb9f14-66e8-4de0-b413-fa810e708893",
   "metadata": {},
   "source": [
    "\\begin{equation*}\n",
    "    c = \\Biggl(\\sum_{i=1}^{9}M_{i}10^{-i}\\Biggl)\\times 10^{9}\n",
    "\\end{equation*}"
   ]
  },
  {
   "cell_type": "markdown",
   "id": "c88331f2-91ed-45b9-985a-87dad9ec9687",
   "metadata": {},
   "source": [
    "$$\n",
    "\\Biggl(\\sum_{i=1}^{E}M_{i}2^{-i}\\Biggr)\\times 2^{E}\n",
    "$$"
   ]
  },
  {
   "cell_type": "code",
   "execution_count": null,
   "id": "d4c34599-17e7-4104-902d-7386ba558530",
   "metadata": {},
   "outputs": [],
   "source": []
  },
  {
   "cell_type": "code",
   "execution_count": 5,
   "id": "882d1ea8-3c6c-4d57-af01-a0f7f1e1dbb3",
   "metadata": {},
   "outputs": [
    {
     "data": {
      "text/plain": [
       "0.19921875"
      ]
     },
     "execution_count": 5,
     "metadata": {},
     "output_type": "execute_result"
    }
   ],
   "source": [
    "1/8 + 1/16 + 1/128 + 1/256"
   ]
  },
  {
   "cell_type": "code",
   "execution_count": 6,
   "id": "f31e8278-8502-4c62-afa3-ab8ab6bd9968",
   "metadata": {},
   "outputs": [
    {
     "data": {
      "text/plain": [
       "256"
      ]
     },
     "execution_count": 6,
     "metadata": {},
     "output_type": "execute_result"
    }
   ],
   "source": [
    "2**8"
   ]
  },
  {
   "cell_type": "code",
   "execution_count": null,
   "id": "9be1fd67-6835-47af-ae07-273e844e4bae",
   "metadata": {},
   "outputs": [],
   "source": []
  }
 ],
 "metadata": {
  "kernelspec": {
   "display_name": "Python 3 (ipykernel)",
   "language": "python",
   "name": "python3"
  },
  "language_info": {
   "codemirror_mode": {
    "name": "ipython",
    "version": 3
   },
   "file_extension": ".py",
   "mimetype": "text/x-python",
   "name": "python",
   "nbconvert_exporter": "python",
   "pygments_lexer": "ipython3",
   "version": "3.12.3"
  }
 },
 "nbformat": 4,
 "nbformat_minor": 5
}
