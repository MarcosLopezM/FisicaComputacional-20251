{
 "cells": [
  {
   "cell_type": "markdown",
   "id": "84668b07-626f-4ca8-9a45-a9c48a8e91dc",
   "metadata": {},
   "source": [
    "<h1>Integración numérica por el método del trapecio</h1>\n",
    "\n",
    "\\begin{equation*}\n",
    "    I(a, b) = h \\Biggl[\\dfrac{f(a) + f(b)}{2} + \\sum_{k=1}^{N-1}f(a + kh)\\Biggr]\n",
    "\\end{equation*}"
   ]
  },
  {
   "cell_type": "code",
   "execution_count": 1,
   "id": "2a44561e-6049-4f6d-be59-dba90a24be6e",
   "metadata": {},
   "outputs": [],
   "source": [
    "import numpy as np"
   ]
  },
  {
   "cell_type": "code",
   "execution_count": 2,
   "id": "2a6c1ebb-9689-442b-9f1d-1e8886f35c66",
   "metadata": {},
   "outputs": [],
   "source": [
    "def trapezoid_rule(a, b, N, f):\n",
    "    h = (b - a) / N\n",
    "    area_bajo = (f(a) + f(b)) / 2 # Inicializada con la suma del primer y último elemento\n",
    "\n",
    "    for k in range(1, N): # Hasta N - 1\n",
    "        area_bajo += f(a + k*h)\n",
    "    return h * area_bajo"
   ]
  },
  {
   "cell_type": "code",
   "execution_count": 3,
   "id": "d122629d-9ae5-42b7-a0a2-ba5c5d7c0496",
   "metadata": {},
   "outputs": [],
   "source": [
    "f = lambda x: np.exp(np.cos(x)) + np.log(x / 5)"
   ]
  },
  {
   "cell_type": "code",
   "execution_count": 4,
   "id": "fb683daf-8848-47c9-900d-e586dfe65e84",
   "metadata": {},
   "outputs": [
    {
     "name": "stdout",
     "output_type": "stream",
     "text": [
      "9.355920640868591\n"
     ]
    }
   ],
   "source": [
    "a, b = 1, 10\n",
    "N = 100\n",
    "\n",
    "print(trapezoid_rule(a, b, N, f))"
   ]
  },
  {
   "cell_type": "code",
   "execution_count": 5,
   "id": "bdd1b58d-2f21-4455-a765-9ee85e031191",
   "metadata": {},
   "outputs": [],
   "source": [
    "def simpson_rule(a, b, N, f):\n",
    "    h = (b - a) / N\n",
    "    area = 0\n",
    "\n",
    "    for k in range(1, int(N /2) + 1):\n",
    "        area += f(a + 2*(k - 1)*h) + f(a + 2*(k - 1)*h) + 4*f(a + (2*k - 1)*h)\n",
    "    \n",
    "    return (h / 3) * area"
   ]
  },
  {
   "cell_type": "code",
   "execution_count": 6,
   "id": "8ba0b8de-5d74-4385-8562-858dc85e8c4b",
   "metadata": {},
   "outputs": [
    {
     "name": "stdout",
     "output_type": "stream",
     "text": [
      "9.324847393069536\n"
     ]
    }
   ],
   "source": [
    "a, b = 1, 10\n",
    "N = 100\n",
    "\n",
    "print(simpson_rule(a, b, N, f))"
   ]
  },
  {
   "cell_type": "code",
   "execution_count": 30,
   "id": "c6a4f75f-164b-4c0e-bff8-fb28f86fe205",
   "metadata": {},
   "outputs": [],
   "source": [
    "def simpson_rule_simplificada(a, b, N, f):\n",
    "    h = (b - a) / N\n",
    "    s_extremos = f(a) + f(b)\n",
    "    s_par = 0\n",
    "    s_impar = 0\n",
    "\n",
    "    # Suma de los términos pares\n",
    "    for k in range(1, int(N/2)): # N/2 - 1\n",
    "        s_par += 2*f(a + 2*k*h)\n",
    "\n",
    "    # Suma de los términos impares\n",
    "    for k in range(1, int(N /2) + 1): # N/2\n",
    "        s_impar += 4*f(a + (2*k - 1)*h)\n",
    "    \n",
    "    \n",
    "    return (h / 3) * (s_extremos + s_par + s_impar)"
   ]
  },
  {
   "cell_type": "code",
   "execution_count": 29,
   "id": "42bea900-db0c-4adc-8fa8-783eb5875cee",
   "metadata": {},
   "outputs": [
    {
     "name": "stdout",
     "output_type": "stream",
     "text": [
      "9.355392521079938\n"
     ]
    }
   ],
   "source": [
    "a, b = 1, 10\n",
    "N = 100\n",
    "\n",
    "print(simpson_rule_simplificada(a, b, N, f))"
   ]
  },
  {
   "cell_type": "code",
   "execution_count": 35,
   "id": "a5eec235-2a81-4d89-935d-a1471c4fc907",
   "metadata": {},
   "outputs": [],
   "source": [
    "def simpson_rule_simplificada_2(a, b, N, f):\n",
    "    h = (b - a) / N\n",
    "    s = f(a) + f(b) # Suma iniciada con los extremos\n",
    "    s_impar = 0 # Suma de los términos impares\n",
    "\n",
    "    # Suma de todos los términos\n",
    "    for k in range(1, N): # N - 1\n",
    "        s += 2*f(a + k*h)\n",
    "\n",
    "    # Suma de los términos impares\n",
    "    for k in range(1, int(N /2) + 1): # N/2\n",
    "        s_impar += 2*f(a + (2*k - 1)*h)\n",
    "    \n",
    "    \n",
    "    return (h / 3) * (s + s_impar)"
   ]
  },
  {
   "cell_type": "code",
   "execution_count": 36,
   "id": "a0f51e23-ceea-4bfc-8bd7-ae7694300e03",
   "metadata": {},
   "outputs": [
    {
     "name": "stdout",
     "output_type": "stream",
     "text": [
      "9.355392521079937\n"
     ]
    }
   ],
   "source": [
    "a, b = 1, 10\n",
    "N = 100\n",
    "\n",
    "print(simpson_rule_simplificada_2(a, b, N, f))"
   ]
  },
  {
   "cell_type": "code",
   "execution_count": null,
   "id": "80c7f764-d65c-4c59-87b8-480596633236",
   "metadata": {},
   "outputs": [],
   "source": []
  }
 ],
 "metadata": {
  "kernelspec": {
   "display_name": "Python 3 (ipykernel)",
   "language": "python",
   "name": "python3"
  },
  "language_info": {
   "codemirror_mode": {
    "name": "ipython",
    "version": 3
   },
   "file_extension": ".py",
   "mimetype": "text/x-python",
   "name": "python",
   "nbconvert_exporter": "python",
   "pygments_lexer": "ipython3",
   "version": "3.12.3"
  }
 },
 "nbformat": 4,
 "nbformat_minor": 5
}
