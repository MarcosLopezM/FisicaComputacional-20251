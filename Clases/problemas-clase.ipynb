{
 "cells": [
  {
   "cell_type": "markdown",
   "id": "9f7db34d-21d8-478b-a93c-f204cc0a8bba",
   "metadata": {},
   "source": [
    "#### **Ejercicio:** \n",
    "\n",
    "Escribe una función que tome como argumento un número entero y que regrese el factorial del mismo.\n",
    "\n",
    "<h4 align=\"center\">$\\displaystyle n! = \\prod_{i=1}^n i$</h4> \n",
    "\n",
    "Y pruebala para diferentes valores."
   ]
  },
  {
   "cell_type": "code",
   "execution_count": 1,
   "id": "ecb9f165-7417-44ef-bb4c-072c5c2fd0ba",
   "metadata": {},
   "outputs": [],
   "source": [
    "# Mi solución\n",
    "def factorial(n):\n",
    "    fact = n\n",
    "    i = 1\n",
    "\n",
    "    if n < 2:\n",
    "        return 1\n",
    "\n",
    "    while i < n:\n",
    "        fact *= n - i\n",
    "        i += 1\n",
    "\n",
    "    return fact\n",
    "    \n",
    "    "
   ]
  },
  {
   "cell_type": "code",
   "execution_count": 2,
   "id": "3a846cd1-bbaa-4cb3-b46c-43c006eb0ff5",
   "metadata": {},
   "outputs": [],
   "source": [
    "# Solución con recursión\n",
    "def fact(n):\n",
    "    if n < 2:\n",
    "        return 1\n",
    "    else:\n",
    "        return n * fact(n - 1)"
   ]
  },
  {
   "cell_type": "code",
   "execution_count": 3,
   "id": "1d925968-bbe3-4ee0-ba4c-3ad8063e71c9",
   "metadata": {},
   "outputs": [
    {
     "name": "stdout",
     "output_type": "stream",
     "text": [
      "Mi solución: El factorial de 0! es 1.\n",
      "Recursión: El factorial de 0! es 1.\n",
      "Mi solución: El factorial de 1! es 1.\n",
      "Recursión: El factorial de 1! es 1.\n",
      "Mi solución: El factorial de 2! es 2.\n",
      "Recursión: El factorial de 2! es 2.\n",
      "Mi solución: El factorial de 3! es 6.\n",
      "Recursión: El factorial de 3! es 6.\n",
      "Mi solución: El factorial de 4! es 24.\n",
      "Recursión: El factorial de 4! es 24.\n",
      "Mi solución: El factorial de 5! es 120.\n",
      "Recursión: El factorial de 5! es 120.\n"
     ]
    }
   ],
   "source": [
    "for num in range(6):\n",
    "    print(f\"Mi solución: El factorial de {num}! es {factorial(num)}.\")\n",
    "    print(f\"Recursión: El factorial de {num}! es {fact(num)}.\")"
   ]
  },
  {
   "cell_type": "markdown",
   "id": "6b85b6a6-e4e2-423c-9ee7-e7c40363471b",
   "metadata": {
    "jp-MarkdownHeadingCollapsed": true
   },
   "source": [
    "#### **Ejercicio:** \n",
    "\n",
    "Supongamos, que tenemos un punto $p$ especificado en coordenadas cilíndricas $r$, $\\theta$, $z$. Escribe una función que tome como argumentos los valores de las cordenadas del punto ($r$,$\\theta$,$z$) para que regrese la distancia $d$ del origena a $p$ y pruebala para diferentes valores. \n",
    "\n",
    "*Hint:* La forma más sencilla es usar el teorema de Pitagoras."
   ]
  },
  {
   "cell_type": "code",
   "execution_count": 4,
   "id": "487bb956-bb18-4b69-8150-bc47738a563c",
   "metadata": {},
   "outputs": [],
   "source": [
    "import math\n",
    "\n",
    "def distancia(r, theta, z):\n",
    "    theta_rad = (theta * math.pi) / 180\n",
    "    \n",
    "    x = r * math.sin(theta_rad)\n",
    "    y = r * math.cos(theta_rad)\n",
    "\n",
    "    return math.sqrt(x ** 2 + y ** 2 + z ** 2)"
   ]
  },
  {
   "cell_type": "code",
   "execution_count": 7,
   "id": "12d95293-5904-4fc1-9271-43fff2ad3663",
   "metadata": {},
   "outputs": [
    {
     "data": {
      "text/plain": [
       "10.77032961426901"
      ]
     },
     "execution_count": 7,
     "metadata": {},
     "output_type": "execute_result"
    }
   ],
   "source": [
    "distancia(10, 36.87, 4)"
   ]
  },
  {
   "cell_type": "code",
   "execution_count": 8,
   "id": "85047d75-d71d-46e6-b785-526bbddcfa1d",
   "metadata": {},
   "outputs": [
    {
     "data": {
      "text/plain": [
       "1.4142135623730951"
      ]
     },
     "execution_count": 8,
     "metadata": {},
     "output_type": "execute_result"
    }
   ],
   "source": [
    "distancia(1,0,1)"
   ]
  },
  {
   "cell_type": "markdown",
   "id": "381aa1a1-1558-4fb0-99d0-883f12bdf901",
   "metadata": {},
   "source": [
    "#### **Ejercicio:** \n",
    "\n",
    "Supongamos que tenemos un número entero $n$ y queremos saber sus **_factores primos_**. Los factores primos se pueden calcular con relativa facilidad dividiendo repetidamente por todos los números enteros desde 2 hasta $n$ y verificando si el resto es cero. \n",
    "\n",
    "Escribe una función que tome como argumento un número $n$ y devuelva una lista de sus factores primos."
   ]
  },
  {
   "cell_type": "code",
   "execution_count": 6,
   "id": "36713df4-3e32-400e-a96b-93bd1a6dad81",
   "metadata": {},
   "outputs": [],
   "source": [
    "def primos(n):\n",
    "    factores = []\n",
    "\n",
    "    for i in range(1, n + 1):\n",
    "        if n % i == 0:\n",
    "            factores.append(i)\n",
    "    return factores"
   ]
  },
  {
   "cell_type": "code",
   "execution_count": 20,
   "id": "8ec00be8-d3a8-4ad2-af44-430dc1c515e9",
   "metadata": {},
   "outputs": [],
   "source": [
    "import bibliobasica as bb"
   ]
  },
  {
   "cell_type": "code",
   "execution_count": 11,
   "id": "b5b177f3-a98d-4973-9dce-22f634a0bb67",
   "metadata": {},
   "outputs": [
    {
     "data": {
      "text/plain": [
       "1.4142135623730951"
      ]
     },
     "execution_count": 11,
     "metadata": {},
     "output_type": "execute_result"
    }
   ],
   "source": [
    "bb.distancia(1,0,1)"
   ]
  },
  {
   "cell_type": "code",
   "execution_count": 21,
   "id": "51c8cc0f-2901-41fe-8339-f6bdce576958",
   "metadata": {},
   "outputs": [
    {
     "data": {
      "text/plain": [
       "\u001b[0;31mSignature:\u001b[0m \u001b[0mbb\u001b[0m\u001b[0;34m.\u001b[0m\u001b[0mdistancia\u001b[0m\u001b[0;34m(\u001b[0m\u001b[0mr\u001b[0m\u001b[0;34m,\u001b[0m \u001b[0mtheta\u001b[0m\u001b[0;34m,\u001b[0m \u001b[0mz\u001b[0m\u001b[0;34m)\u001b[0m\u001b[0;34m\u001b[0m\u001b[0;34m\u001b[0m\u001b[0m\n",
       "\u001b[0;31mDocstring:\u001b[0m <no docstring>\n",
       "\u001b[0;31mSource:\u001b[0m   \n",
       "\u001b[0;32mdef\u001b[0m \u001b[0mdistancia\u001b[0m\u001b[0;34m(\u001b[0m\u001b[0mr\u001b[0m\u001b[0;34m,\u001b[0m \u001b[0mtheta\u001b[0m\u001b[0;34m,\u001b[0m \u001b[0mz\u001b[0m\u001b[0;34m)\u001b[0m\u001b[0;34m:\u001b[0m\u001b[0;34m\u001b[0m\n",
       "\u001b[0;34m\u001b[0m    \u001b[0;34m\"\"\"Función para calcular la distancia al origen.\u001b[0m\n",
       "\u001b[0;34m    Funciona siempre y cuando el ángulo no esté en radianes.\u001b[0m\n",
       "\u001b[0;34m    \"\"\"\u001b[0m\u001b[0;34m\u001b[0m\n",
       "\u001b[0;34m\u001b[0m    \u001b[0mtheta_rad\u001b[0m \u001b[0;34m=\u001b[0m \u001b[0;34m(\u001b[0m\u001b[0mtheta\u001b[0m \u001b[0;34m*\u001b[0m \u001b[0mmath\u001b[0m\u001b[0;34m.\u001b[0m\u001b[0mpi\u001b[0m\u001b[0;34m)\u001b[0m \u001b[0;34m/\u001b[0m \u001b[0;36m180\u001b[0m\u001b[0;34m\u001b[0m\n",
       "\u001b[0;34m\u001b[0m    \u001b[0;34m\u001b[0m\n",
       "\u001b[0;34m\u001b[0m    \u001b[0mx\u001b[0m \u001b[0;34m=\u001b[0m \u001b[0mr\u001b[0m \u001b[0;34m*\u001b[0m \u001b[0mmath\u001b[0m\u001b[0;34m.\u001b[0m\u001b[0msin\u001b[0m\u001b[0;34m(\u001b[0m\u001b[0mtheta_rad\u001b[0m\u001b[0;34m)\u001b[0m\u001b[0;34m\u001b[0m\n",
       "\u001b[0;34m\u001b[0m    \u001b[0my\u001b[0m \u001b[0;34m=\u001b[0m \u001b[0mr\u001b[0m \u001b[0;34m*\u001b[0m \u001b[0mmath\u001b[0m\u001b[0;34m.\u001b[0m\u001b[0mcos\u001b[0m\u001b[0;34m(\u001b[0m\u001b[0mtheta_rad\u001b[0m\u001b[0;34m)\u001b[0m\u001b[0;34m\u001b[0m\n",
       "\u001b[0;34m\u001b[0m\u001b[0;34m\u001b[0m\n",
       "\u001b[0;34m\u001b[0m    \u001b[0;32mreturn\u001b[0m \u001b[0mmath\u001b[0m\u001b[0;34m.\u001b[0m\u001b[0msqrt\u001b[0m\u001b[0;34m(\u001b[0m\u001b[0mx\u001b[0m \u001b[0;34m**\u001b[0m \u001b[0;36m2\u001b[0m \u001b[0;34m+\u001b[0m \u001b[0my\u001b[0m \u001b[0;34m**\u001b[0m \u001b[0;36m2\u001b[0m \u001b[0;34m+\u001b[0m \u001b[0mz\u001b[0m \u001b[0;34m**\u001b[0m \u001b[0;36m2\u001b[0m\u001b[0;34m)\u001b[0m\u001b[0;34m\u001b[0m\u001b[0;34m\u001b[0m\u001b[0m\n",
       "\u001b[0;31mFile:\u001b[0m      ~/Documents/University/2025-1/FisComp/FisicaComputacional_2025-1/Clases/bibliobasica.py\n",
       "\u001b[0;31mType:\u001b[0m      function"
      ]
     },
     "metadata": {},
     "output_type": "display_data"
    }
   ],
   "source": [
    "bb.distancia??"
   ]
  }
 ],
 "metadata": {
  "kernelspec": {
   "display_name": "Python 3 (ipykernel)",
   "language": "python",
   "name": "python3"
  },
  "language_info": {
   "codemirror_mode": {
    "name": "ipython",
    "version": 3
   },
   "file_extension": ".py",
   "mimetype": "text/x-python",
   "name": "python",
   "nbconvert_exporter": "python",
   "pygments_lexer": "ipython3",
   "version": "3.12.3"
  }
 },
 "nbformat": 4,
 "nbformat_minor": 5
}
