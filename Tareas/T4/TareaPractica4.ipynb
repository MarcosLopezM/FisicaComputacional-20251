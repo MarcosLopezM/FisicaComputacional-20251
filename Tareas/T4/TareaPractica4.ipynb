{
 "cells": [
  {
   "cell_type": "markdown",
   "id": "ad3b503a-0fad-46fa-b9a1-7d38553fa344",
   "metadata": {},
   "source": [
    "<h1 align=\"center\">Física Computacional.</h1>\n",
    "<h1 align=\"center\">Semestre 2015-1</h1>\n",
    "\n",
    "<h2>Sergio A. Alcalá Corona </h2> \n",
    "\n",
    "---\n",
    "### Rodrigo Vega Vilchis\n",
    "### Joel Gómez Uribe\n",
    "---"
   ]
  },
  {
   "cell_type": "markdown",
   "id": "c814e49c-ff46-4bb1-8875-b3e0b5b4674b",
   "metadata": {},
   "source": [
    "<h1 align=\"center\">Programación para la física computacional</h1> \n",
    "<hr>"
   ]
  },
  {
   "cell_type": "markdown",
   "id": "6e7c714e-aad5-4d23-b748-f1466de18fdb",
   "metadata": {},
   "source": [
    "- [x] Punto flotante\n",
    "- [ ] Funciones de conversión\n",
    "- [x] Factorial -> Solo discusión\n",
    "- [x] Ec. cuadráticas -> Solo discusión\n",
    "- [x] Derivadas -> Solo discusión"
   ]
  },
  {
   "cell_type": "code",
   "execution_count": 1,
   "id": "b2e02a0c-bd6a-4489-bc56-8dd9416c1de6",
   "metadata": {},
   "outputs": [],
   "source": [
    "import numpy as np"
   ]
  },
  {
   "cell_type": "markdown",
   "id": "35fdae1b-e17e-4064-ac97-fdf85661e2dc",
   "metadata": {},
   "source": [
    "<h2>1. Representación de punto flotante</h2>"
   ]
  },
  {
   "cell_type": "markdown",
   "id": "74af5855-fae7-4a48-a2f3-1608aca3672d",
   "metadata": {},
   "source": [
    "<h3>Conversión número de máquina en su representación decimal</h3>"
   ]
  },
  {
   "cell_type": "markdown",
   "id": "09463bc1-8387-4d1d-a8e3-2078c5507023",
   "metadata": {},
   "source": []
  },
  {
   "cell_type": "markdown",
   "id": "9c6828b7-64c3-43d1-9403-234e86cf6611",
   "metadata": {},
   "source": [
    "<h3>Conversión de constantes físicas en representación de punto flotante de 32 bits</h3>"
   ]
  },
  {
   "cell_type": "markdown",
   "id": "1a6f138e-e0e1-4394-877f-f927c6e4b8fc",
   "metadata": {},
   "source": []
  },
  {
   "cell_type": "markdown",
   "id": "43cbeef9-3e16-4491-9e81-15352a004f0d",
   "metadata": {},
   "source": [
    "<h2>2. Funciones de conversión</h2>"
   ]
  },
  {
   "cell_type": "markdown",
   "id": "8ceab494-81d2-410e-b154-a1f6ee69e4c7",
   "metadata": {},
   "source": [
    "<h3>Conversión de valor flotante a representación de punto flotante</h3>\n",
    "\n",
    "Toma como argumentos un valor flotante y el número 32 o 64. Entonces devuelve su <em>representación de punto flotante</em> (`números máquina`) de 32 o  64 bits."
   ]
  },
  {
   "cell_type": "code",
   "execution_count": 82,
   "id": "bf246424-327b-4eca-bf54-808a1c8c26b1",
   "metadata": {},
   "outputs": [],
   "source": [
    "def float_a_binario(num, representation):\n",
    "    # Determina el signo\n",
    "    signo = '0' if num >= 0 else '1'\n",
    "    num = abs(num)\n",
    "\n",
    "    # Caso especial: representación del 0 en estándar IEE754\n",
    "    if num == 0 or num == 0.:\n",
    "        signo = \"0\"\n",
    "        exponente = \"0\" * (8 if representation == 32 else 11)\n",
    "        mantisa = \"0\" * (23 if representation == 32 else 52)\n",
    "        return f\"{signo} {exponente} {mantisa}\"\n",
    "        \n",
    "    # Cálculo del exponente\n",
    "    \"\"\"\n",
    "        Escribir el número de tal forma que se encuentre en el rango 1 <= n < 2\n",
    "        y una potencia de 2\n",
    "        num < 1 => num / 2**-exp => num * 2**exp\n",
    "        num >= 2 => num / 2**exp \n",
    "    \"\"\"\n",
    "    exponente = 0\n",
    "    if num >= 2:\n",
    "        while num >= 2:\n",
    "            num /= 2\n",
    "            exponente += 1\n",
    "    elif num < 1:\n",
    "        while num < 1:\n",
    "            num *= 2\n",
    "            exponente -= 1\n",
    "\n",
    "    # Rango del exponente\n",
    "    bias = 127 if representation == 32 else 1023\n",
    "    exponente = f\"{exponente + bias:0{8 if representation == 32 else 11}b}\"\n",
    "\n",
    "    # Cálculo de la mantisa\n",
    "    num -= 1  # Restar 1 para \"ignorar\" la normalización\n",
    "    mantisa = ''\n",
    "    precision = 23 if representation == 32 else 52\n",
    "\n",
    "    while precision > 0:\n",
    "        num *= 2\n",
    "        digito = int(num) # Devuelve 0 o 1\n",
    "        mantisa += str(digito)\n",
    "        num -= digito # Actualiza la parte entera\n",
    "        precision -= 1\n",
    "\n",
    "    return f\"{signo} {exponente} {mantisa}\""
   ]
  },
  {
   "cell_type": "code",
   "execution_count": 88,
   "id": "8c3d6335-a28d-480b-86ba-b9405d2e7f44",
   "metadata": {},
   "outputs": [
    {
     "name": "stdout",
     "output_type": "stream",
     "text": [
      "Número flotante: 13.0\n",
      "32 bits: 0 10000010 10100000000000000000000\n",
      "64 bits: 0 10000000010 1010000000000000000000000000000000000000000000000000\n",
      "------------------------------------------------------------\n",
      "Número flotante: -5.75\n",
      "32 bits: 1 10000001 01110000000000000000000\n",
      "64 bits: 1 10000000001 0111000000000000000000000000000000000000000000000000\n",
      "------------------------------------------------------------\n",
      "Número flotante: -0.8125\n",
      "32 bits: 1 01111110 10100000000000000000000\n",
      "64 bits: 1 01111111110 1010000000000000000000000000000000000000000000000000\n",
      "------------------------------------------------------------\n",
      "Número flotante: -9.2\n",
      "32 bits: 1 10000010 00100110011001100110011\n",
      "64 bits: 1 10000000010 0010011001100110011001100110011001100110011001100110\n",
      "------------------------------------------------------------\n",
      "Número flotante: 0\n",
      "32 bits: 0 00000000 00000000000000000000000\n",
      "64 bits: 0 00000000000 0000000000000000000000000000000000000000000000000000\n",
      "------------------------------------------------------------\n",
      "Número flotante: 0.0\n",
      "32 bits: 0 00000000 00000000000000000000000\n",
      "64 bits: 0 00000000000 0000000000000000000000000000000000000000000000000000\n",
      "------------------------------------------------------------\n",
      "Número flotante: 2.7182817459106445\n",
      "32 bits: 0 10000000 01011011111100001010100\n",
      "64 bits: 0 10000000000 0101101111110000101010000000000000000000000000000000\n",
      "------------------------------------------------------------\n",
      "Número flotante: -3.1415927410125732\n",
      "32 bits: 1 10000000 10010010000111111011011\n",
      "64 bits: 1 10000000000 1001001000011111101101100000000000000000000000000000\n",
      "------------------------------------------------------------\n",
      "Número flotante: 1.6180340051651\n",
      "32 bits: 0 01111111 10011110001101110111101\n",
      "64 bits: 0 01111111111 1001111000110111011110100000000000000000000000000000\n",
      "------------------------------------------------------------\n",
      "Número flotante: -27.56666606665621\n",
      "32 bits: 1 10000011 10111001000100010001000\n",
      "64 bits: 1 10000000011 1011100100010001000100000111000000000000101010011000\n",
      "------------------------------------------------------------\n",
      "Número flotante: 5.482360766069652e+44\n",
      "32 bits: 0 100010011 10001001010101110001000\n",
      "64 bits: 0 10010010011 1000100101010111000100000111000001010001001010101001\n",
      "------------------------------------------------------------\n"
     ]
    }
   ],
   "source": [
    "nums_float = [13.0, -5.75, -0.8125, -9.2, 0, 0., 2.7182817459106445, -3.1415927410125732, 1.6180340051651, -27.56666606665621, 5.482360766069652e+44]\n",
    "for num in nums_float:\n",
    "    print(f\"Número flotante: {num}\")\n",
    "    print(f\"32 bits: {float_a_binario(num, 32)}\")\n",
    "    print(f\"64 bits: {float_a_binario(num, 64)}\")\n",
    "    print(\"-\" * 60)"
   ]
  },
  {
   "cell_type": "markdown",
   "id": "a71bffc3-e95b-4093-9859-3f78dadd1e0e",
   "metadata": {},
   "source": [
    "<p style=\"font-size:10px;font-style:italic;text-align:right\"><a href=\"https://mathcenter.oxford.emory.edu/site/cs170/ieee754/\" target=\"_blank\">Flotante a IEEE754</a></p>\n",
    "<p style=\"font-size:10px;font-style:italic;text-align:right\"><a href=\"https://cheatography.com/brianallan/cheat-sheets/python-f-strings-number-formatting/\" target=\"_blank\">Número a binario</a></p>"
   ]
  },
  {
   "cell_type": "markdown",
   "id": "475ea855-1a06-4201-9ec9-4346c1d36049",
   "metadata": {},
   "source": [
    "<h3>Conversión de número máquina a representación decimal</h3>\n",
    "\n",
    "Toma como argumentos un `número máquina` y el número 32 y 64 que representa si es número en estándar simple (32 bits) o doble (64 bits). Entonces devuelve su representación decimal."
   ]
  },
  {
   "cell_type": "code",
   "execution_count": 97,
   "id": "e10c56cd-c498-4e7b-a467-2a0a14d13ca0",
   "metadata": {},
   "outputs": [],
   "source": [
    "def num_maquina_decimal_conv(maquina_num, representacion):\n",
    "    # Conversión de la mantisa a decimal\n",
    "    def mantisa_conv(mantisa):\n",
    "        suma = 1 # Iniciamos la suma en 1\n",
    "        exp = -1\n",
    "        for digit in mantisa:\n",
    "            suma += int(digit)*(2**exp)\n",
    "            exp -= 1\n",
    "        return suma\n",
    "\n",
    "    # Conversión del exponente a decimal\n",
    "    def exponente_conv(exponente):\n",
    "        sum_exp = 0\n",
    "        exp = len(exponente) - 1\n",
    "    \n",
    "        for digit in exponente:\n",
    "            sum_exp += int(digit)*(2**exp)\n",
    "            exp -= 1\n",
    "        return sum_exp\n",
    "    \n",
    "    signo, exponente, mantisa = maquina_num.split(\" \")\n",
    "    \n",
    "    signo = -1 if int(signo) == 1 else 1\n",
    "    bias = 127 if representacion == 32 else 1023\n",
    "\n",
    "    # Conversión de la mantisa y el exponente a decimal\n",
    "    sum_exp = exponente_conv(exponente) # Exponente\n",
    "    mant = mantisa_conv(mantisa) # 1 + Mantisa\n",
    "\n",
    "    return signo * (2 ** (sum_exp - bias)) * mant"
   ]
  },
  {
   "cell_type": "code",
   "execution_count": 99,
   "id": "b2e6bef4-f1b8-45a8-a9fa-57353c147d36",
   "metadata": {},
   "outputs": [
    {
     "name": "stdout",
     "output_type": "stream",
     "text": [
      "2.7182817459106445\n",
      "-3.1415927410125732\n",
      "1.6180340051651\n",
      "-27.56666606665621\n",
      "5.482360766069652e+44\n"
     ]
    }
   ],
   "source": [
    "nums_maquina = [ \"0 10000000 01011011111100001010100\", \"1 10000000 10010010000111111011011\", \"0 01111111 10011110001101110111101\", \"1 10000000011 1011100100010001000100000111000000000000101010011000\", \"0 10010010011 1000100101010111000100000111000001010001001010101001\"]\n",
    "\n",
    "for num in nums_maquina:\n",
    "    if len(num) == 34:\n",
    "        print(num_maquina_decimal_conv(num, 32))\n",
    "    else:\n",
    "        print(num_maquina_decimal_conv(num, 64))"
   ]
  },
  {
   "cell_type": "markdown",
   "id": "9a7a2262-4a2e-435a-b6b9-7e8bafca20dd",
   "metadata": {},
   "source": [
    "<h2>3. Factorial (valores flotantes)</h2>\n",
    "\n",
    "Durante el curso, hemos escrito un par de programas para calcular e imprimir el factorial de un número ingresado por el usuario, usando valores <em>enteros</em> y no de <em>punto flotante</em>. Usa alguno de esos programas para calcular el factorial de 200 y modificalo para <strong>usar variables de <em>punto flotante</em></strong> y calcula nuevamente el factorial de 200. ¿Qué es lo que encuentras? Explica."
   ]
  },
  {
   "cell_type": "code",
   "execution_count": 4,
   "id": "d9d26d09-b987-4921-bbfc-430ce36dc306",
   "metadata": {},
   "outputs": [],
   "source": [
    "def factorial(n):\n",
    "    if n < 2:\n",
    "        return 1\n",
    "    return n * factorial(n - 1)"
   ]
  },
  {
   "cell_type": "code",
   "execution_count": 5,
   "id": "faa778b3-0c76-4175-a1db-1c14144c1b49",
   "metadata": {},
   "outputs": [
    {
     "name": "stdout",
     "output_type": "stream",
     "text": [
      "200! es 788657867364790503552363213932185062295135977687173263294742533244359449963403342920304284011984623904177212138919638830257642790242637105061926624952829931113462857270763317237396988943922445621451664240254033291864131227428294853277524242407573903240321257405579568660226031904170324062351700858796178922222789623703897374720000000000000000000000000000000000000000000000000\n"
     ]
    }
   ],
   "source": [
    "print(f\"200! es {factorial(200)}\")"
   ]
  },
  {
   "cell_type": "code",
   "execution_count": 6,
   "id": "da0fc6ce-fead-44d3-9656-770220aa73b2",
   "metadata": {},
   "outputs": [
    {
     "name": "stdout",
     "output_type": "stream",
     "text": [
      "200! es inf\n"
     ]
    }
   ],
   "source": [
    "print(f\"200! es {factorial(200.)}\")"
   ]
  },
  {
   "cell_type": "markdown",
   "id": "729c3bf8-071a-4394-a3fe-2fbb56c33ef0",
   "metadata": {},
   "source": [
    "<div class=\"alert alert-block alert-success\">\n",
    "\n",
    "**Success**\n",
    "\n",
    "This is a success notice!\n",
    "</div>"
   ]
  },
  {
   "cell_type": "markdown",
   "id": "945c54be-0f8d-4441-a45d-51ddfbb0e5e7",
   "metadata": {},
   "source": [
    "<h2>4. Ecuaciones cuadráticas</h2>\n",
    "\n",
    "Considera una ecuación cuadrática $ax^{2} + bx + c = 0$ que tiene soluciones reales."
   ]
  },
  {
   "cell_type": "markdown",
   "id": "d75d46d2-1700-4278-b1b3-e1bd48e69375",
   "metadata": {},
   "source": [
    "<h3>Solución estándar a la ec. cuadrática</h3>\n",
    "\n",
    "Escribe un programa que tome como entrada tres números, $a,\\ b$ y $c$, e imprima las dos soluciones de la ecuación cuadrática $ax^{2} + bx + c = 0$; usando la fórmula estándar.  \n",
    "\n",
    "Utiliza tu programa para calcular las soluciones de $0.001x^{2} + 100x + 0.001 = 0$."
   ]
  },
  {
   "cell_type": "code",
   "execution_count": 7,
   "id": "6f43c98c-39b1-44ad-8b97-64c7fb212188",
   "metadata": {},
   "outputs": [],
   "source": [
    "def sol_cuad_std(a, b, c):\n",
    "    disc = np.sqrt(b**2 - 4*a*c) # Discriminante\n",
    "    \n",
    "    pos_sol = (-b + disc) / (2*a)# Primera solución\n",
    "    neg_sol = (-b - disc) / (2*a) # Segunda solución\n",
    "\n",
    "    return pos_sol, neg_sol"
   ]
  },
  {
   "cell_type": "code",
   "execution_count": 8,
   "id": "c114f573-575c-4977-aefd-73059d5772e8",
   "metadata": {},
   "outputs": [
    {
     "name": "stdout",
     "output_type": "stream",
     "text": [
      "Las soluciones a la ec. cuadrática son x1 = -9.999894245993346e-07 y x2 = -999999.999999\n"
     ]
    }
   ],
   "source": [
    "a, b, c = 0.001, 1000, 0.001\n",
    "\n",
    "sols = sol_cuad_std(a, b, c)\n",
    "\n",
    "print(f\"Las soluciones a la ec. cuadrática son x1 = {sols[0]} y x2 = {sols[1]}\")"
   ]
  },
  {
   "cell_type": "markdown",
   "id": "be85fc8d-4998-4809-afd1-b11ef51a05bf",
   "metadata": {},
   "source": [
    "<h3>Otra forma de escribir las soluciones</h3>\n",
    "\n",
    "Demuestra que multiplicando la parte superior e inferior de la solución anterior por $-b \\mp \\sqrt{b^{2} - 4ac}$, las soluciones también se pueden escribir como:\n",
    "\n",
    "\\begin{equation*}\n",
    "    x_{1,2} = \\dfrac{2c}{-b \\mp \\sqrt{b^{2} - 4ac}}.\n",
    "\\end{equation*}"
   ]
  },
  {
   "cell_type": "markdown",
   "id": "f6995005-3e8a-4846-97ae-5ac0f76b55de",
   "metadata": {},
   "source": [
    "<!-- Demostración  -->\n"
   ]
  },
  {
   "cell_type": "markdown",
   "id": "eb8363bd-43de-4c52-9b39-4375cbb078ea",
   "metadata": {},
   "source": [
    "Agrega unas líneas a tu programa para imprimir también estos valores, además de los anteriores y entonces usa nuevamente el programa para resolver $0.001x^{2} + 100x + 0.001 = 0$. <strong>¿Qué es lo que ves? ¿Cómo lo explicas?</strong>"
   ]
  },
  {
   "cell_type": "code",
   "execution_count": 9,
   "id": "adabbca3-ad63-437d-8939-fbcec9a3ef22",
   "metadata": {},
   "outputs": [],
   "source": [
    "def sol_cuad(a, b, c):\n",
    "    disc = np.sqrt(b**2 - 4*a*c) # Discriminante\n",
    "    # Soluciones encontradas usando la fórmula estándar\n",
    "    pos_sol = (-b + disc) / (2*a)# Primera solución\n",
    "    neg_sol = (-b - disc) / (2*a) # Segunda solución\n",
    "\n",
    "    # Soluciones usando fórmula alternativa\n",
    "    alt_sol1 = 2*c / (-b - disc)\n",
    "    alt_sol2 = 2*c / (-b + disc)\n",
    "\n",
    "    print(\"Soluciones usando la fórmula estándar:\")\n",
    "    print(f\"Las soluciones a la ec. cuadrática son x1 = {pos_sol} y x2 = {neg_sol}\")\n",
    "    print(\"Soluciones usando la fórmula alternativa:\")\n",
    "    print(f\"Las soluciones a la ec. cuadrática son x1 = {alt_sol1} y x2 = {alt_sol2}\")"
   ]
  },
  {
   "cell_type": "code",
   "execution_count": 10,
   "id": "03340066-f404-4338-a4b9-d30e99f0955f",
   "metadata": {},
   "outputs": [
    {
     "name": "stdout",
     "output_type": "stream",
     "text": [
      "Soluciones usando la fórmula estándar:\n",
      "Las soluciones a la ec. cuadrática son x1 = -9.999894245993346e-07 y x2 = -999999.999999\n",
      "Soluciones usando la fórmula alternativa:\n",
      "Las soluciones a la ec. cuadrática son x1 = -1.000000000001e-06 y x2 = -1000010.5755125057\n"
     ]
    }
   ],
   "source": [
    "a, b, c = 0.001, 1000, 0.001\n",
    "\n",
    "sol_cuad(a, b, c)"
   ]
  },
  {
   "cell_type": "markdown",
   "id": "447477ee-ad07-493f-91c0-d817a58d6b48",
   "metadata": {},
   "source": [
    "<div class='alert alert-block alert-success'>\n",
    "    \n",
    "**Success**\n",
    "    \n",
    "</div>"
   ]
  },
  {
   "cell_type": "markdown",
   "id": "81dbd83b-d271-4fa4-9960-4d6c06d6c2ca",
   "metadata": {},
   "source": [
    "<h2>5. Cálculo de derivadas</h2>\n",
    "\n",
    "\\begin{equation*}\n",
    "    \\dfrac{\\text{d}f}{\\text{d}x} = \\lim_{\\delta x \\to 0} \\dfrac{f(x_{0} + \\delta x) - f(x_{0})}{\\delta x}.\n",
    "\\end{equation*}"
   ]
  },
  {
   "cell_type": "markdown",
   "id": "693dbc25-c6b0-4a31-8280-366b9628daad",
   "metadata": {},
   "source": [
    "<h3>Cálculo de derivada</h3>\n",
    "\n",
    "Calcula la derivada de $f(x) = x(x - 1)$ en el punto $x_{0} = 1$ usando la fórmula anterior con $\\delta x = 10^{-2}$."
   ]
  },
  {
   "cell_type": "code",
   "execution_count": 11,
   "id": "a70fe99d-44e7-4cdf-974d-15e30f8f4c8f",
   "metadata": {},
   "outputs": [],
   "source": [
    "def f(x):\n",
    "    return x*(x - 1)\n",
    "\n",
    "def derivada(x0, delta):\n",
    "    return (f(x0 + delta) - f(x0)) / delta"
   ]
  },
  {
   "cell_type": "code",
   "execution_count": 12,
   "id": "843dddf3-9981-4c2c-a190-c2c7727f1960",
   "metadata": {},
   "outputs": [
    {
     "data": {
      "text/plain": [
       "1.010000000000001"
      ]
     },
     "execution_count": 12,
     "metadata": {},
     "output_type": "execute_result"
    }
   ],
   "source": [
    "x0 = 1.\n",
    "deltax = 1e-2\n",
    "\n",
    "derivada(x0, deltax)"
   ]
  },
  {
   "cell_type": "markdown",
   "id": "186b86ba-70f8-412d-abd2-468f3c4734a4",
   "metadata": {},
   "source": [
    "Calcula analíticamente el valor real de la misma derivada y compáralo con la respuesta que da tu programa. Ambos no estarán perfectamente de acuerdo. <strong>¿Por qué pasa esto?</strong>"
   ]
  },
  {
   "cell_type": "markdown",
   "id": "00963721-a49f-4f48-9869-b49df5cb0d98",
   "metadata": {},
   "source": [
    "<!-- Demostración  -->"
   ]
  },
  {
   "cell_type": "markdown",
   "id": "fdba75f8-ad77-4908-908e-4616105b05e8",
   "metadata": {},
   "source": [
    "<div class=\"alert alert-block alert-success\">\n",
    "\n",
    "**Success**\n",
    "</div>"
   ]
  },
  {
   "cell_type": "markdown",
   "id": "e9ab6638-b092-47c2-b2e3-41085d18b4d1",
   "metadata": {},
   "source": [
    "<h3>Cálculo de la derivada para valores de $\\delta x$</h3>\n",
    "\n",
    "Repite el cálculo para $\\delta x = 10^{-4}, 10^{-6}, 10^{-8}, 10^{-10}, 10^{-12}$ y $10^{-14}$. Deberías ver que la precisión del cálculo inicialmente mejora a medida que $\\delta x$ se hace más pequeña, pero luego vuelve a empeorar. <strong>¿Por qué pasa esto?</strong>"
   ]
  },
  {
   "cell_type": "code",
   "execution_count": 13,
   "id": "58f57eca-999a-4f1e-a17a-38d2a2b057b6",
   "metadata": {},
   "outputs": [
    {
     "name": "stdout",
     "output_type": "stream",
     "text": [
      "1.0000999999998899\n",
      "1.0000009999177333\n",
      "1.0000000039225287\n",
      "1.000000082840371\n",
      "1.0000889005833413\n",
      "0.9992007221626509\n"
     ]
    }
   ],
   "source": [
    "x0 = 1\n",
    "deltas = [1e-4, 1e-6, 1e-8, 1e-10, 1e-12, 1e-14]\n",
    "\n",
    "for delta in deltas:\n",
    "    print(derivada(x0, delta))"
   ]
  },
  {
   "cell_type": "markdown",
   "id": "e9ffb715-15d9-4ec2-bfcc-3c53926894c7",
   "metadata": {},
   "source": [
    "\n",
    "<div class=\"alert alert-block alert-success\"><strong>Success</strong></div>"
   ]
  },
  {
   "cell_type": "code",
   "execution_count": null,
   "id": "2359f738-b668-454c-9485-c53e477da03c",
   "metadata": {},
   "outputs": [],
   "source": []
  }
 ],
 "metadata": {
  "kernelspec": {
   "display_name": "Python 3 (ipykernel)",
   "language": "python",
   "name": "python3"
  },
  "language_info": {
   "codemirror_mode": {
    "name": "ipython",
    "version": 3
   },
   "file_extension": ".py",
   "mimetype": "text/x-python",
   "name": "python",
   "nbconvert_exporter": "python",
   "pygments_lexer": "ipython3",
   "version": "3.12.3"
  }
 },
 "nbformat": 4,
 "nbformat_minor": 5
}
