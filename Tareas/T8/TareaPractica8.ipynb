{
 "cells": [
  {
   "cell_type": "markdown",
   "id": "ad3b503a-0fad-46fa-b9a1-7d38553fa344",
   "metadata": {},
   "source": [
    "<h1 align=\"center\">Física Computacional.</h1>\n",
    "<h1 align=\"center\">Semestre 2015-1</h1>\n",
    "\n",
    "<h2>Sergio A. Alcalá Corona </h2> \n",
    "\n",
    "---\n",
    "### Rodrigo Vega Vilchis\n",
    "### Joel Gómez Uribe\n",
    "---"
   ]
  },
  {
   "cell_type": "markdown",
   "id": "c814e49c-ff46-4bb1-8875-b3e0b5b4674b",
   "metadata": {},
   "source": [
    "<h1 align=\"center\" font-weight=\"bold\">Tarea-Práctica 8.</h1> \n",
    "<h2 align=\"center\">Métodos de solución numérica para ecuaciones ordinarias y parciales</h2> \n",
    "<hr>"
   ]
  },
  {
   "cell_type": "code",
   "execution_count": 1,
   "id": "b2e02a0c-bd6a-4489-bc56-8dd9416c1de6",
   "metadata": {},
   "outputs": [],
   "source": [
    "import matplotlib.pyplot as plt\n",
    "import numpy as np\n",
    "import scipy as sp\n",
    "from scipy import constants\n",
    "\n",
    "plt.rcParams.update({\n",
    "    \"text.usetex\": True,\n",
    "})"
   ]
  },
  {
   "cell_type": "markdown",
   "id": "35fdae1b-e17e-4064-ac97-fdf85661e2dc",
   "metadata": {},
   "source": [
    "<h2>1. El modelo de Lotka-Volterra (predador-presa)</h2>"
   ]
  },
  {
   "cell_type": "markdown",
   "id": "a0036ace-d24b-49ea-b937-3107b37e67ee",
   "metadata": {},
   "source": [
    "<h3>(a) Escribe un programa para resolver estás ecuaciones</h3>"
   ]
  },
  {
   "cell_type": "markdown",
   "id": "82d74a20-77f7-4b4a-9a1d-8955089ea3c2",
   "metadata": {},
   "source": [
    "En el modelo de Lotka-Volterra (_predador-presa_), los conejos se reproducen a un ritmo proporcional a su población, pero los zorros se los comen a un ritmo proporcional tanto a su propia población como a la población de zorros, es decir:\n",
    "\n",
    "$$\n",
    "\\begin{equation*}\n",
    "    \\dfrac{\\text{d}x}{\\text{d}t} = \\alpha x - \\beta x y,\n",
    "\\end{equation*}\n",
    "$$\n",
    "\n",
    "donde $\\alpha$ y $\\beta$ son constantes. Al mismo tiempo, los zorros se reproducen a un ritmo proporcional al ritmo al que comen conejos, porque necesitan alimento para crecer y reproducirse, pero también mueren de viejos a un ritmo proporcional a su propia población:\n",
    "\n",
    "$$\n",
    "\\begin{equation*}\n",
    "    \\dfrac{\\text{d}y}{\\text{d}t} = \\gamma xy - \\delta y,\n",
    "\\end{equation*}\n",
    "\n",
    "donde $\\gamma$ y $\\delta$ también son constantes."
   ]
  },
  {
   "cell_type": "markdown",
   "id": "4940e059-2c84-42d8-ae6d-68dbe0323e4f",
   "metadata": {},
   "source": [
    "<div class=\"alert alert-block alert-info\">\n",
    "    Resolver las ecuaciones para el caso $\\alpha = 1,\\ \\beta = \\gamma = 0.5$ y $\\delta = 2$, comenzado desde la condición inicial $x = y = 2$.\n",
    "</div>"
   ]
  },
  {
   "cell_type": "markdown",
   "id": "4f18e900-9424-4918-8694-0de27465155d",
   "metadata": {},
   "source": [
    "<h4>Método de Euler</h4>"
   ]
  },
  {
   "cell_type": "code",
   "execution_count": null,
   "id": "08585dd9-f073-448f-889a-b9656f455e41",
   "metadata": {},
   "outputs": [],
   "source": []
  },
  {
   "cell_type": "code",
   "execution_count": null,
   "id": "d8130991-502f-4c29-ba96-413a20f00ea7",
   "metadata": {},
   "outputs": [],
   "source": []
  },
  {
   "cell_type": "markdown",
   "id": "4be311f4-9a9b-4052-a9dc-32a7aa03fb04",
   "metadata": {},
   "source": [
    "<h4>Método de Runge-Kutta de cuarto orden</h4>"
   ]
  },
  {
   "cell_type": "code",
   "execution_count": null,
   "id": "a564b169-4ac0-41f5-8ee9-6b2222d3f85f",
   "metadata": {},
   "outputs": [],
   "source": []
  },
  {
   "cell_type": "code",
   "execution_count": null,
   "id": "76bce5d2-9ccc-4ab4-b32b-35057c221be6",
   "metadata": {},
   "outputs": [],
   "source": []
  },
  {
   "cell_type": "markdown",
   "id": "3ba78b07-89c5-401f-896a-618bd29aeb98",
   "metadata": {},
   "source": [
    "<h3>(b) Graficar</h3>"
   ]
  },
  {
   "cell_type": "markdown",
   "id": "765a7bd9-7e38-4dfb-b519-db5dc046d75b",
   "metadata": {},
   "source": [
    "<h4>Espacio fase del sistema ($x$ vs. $y$)</h4>"
   ]
  },
  {
   "cell_type": "code",
   "execution_count": null,
   "id": "01f07c21-d11b-4a1c-8c3f-84ad771741d7",
   "metadata": {},
   "outputs": [],
   "source": []
  },
  {
   "cell_type": "code",
   "execution_count": null,
   "id": "e28c1b82-59c8-406b-8062-482aef09892b",
   "metadata": {},
   "outputs": [],
   "source": []
  },
  {
   "cell_type": "markdown",
   "id": "02494ce3-4395-4446-8617-3ea909638c4d",
   "metadata": {},
   "source": [
    "<h4>Gráficas como función del tiempo $t = 0$ hasta $t = 30$</h4>"
   ]
  },
  {
   "cell_type": "code",
   "execution_count": null,
   "id": "d6e62837-c3db-4975-86ca-caef65a16a78",
   "metadata": {},
   "outputs": [],
   "source": []
  },
  {
   "cell_type": "code",
   "execution_count": null,
   "id": "e4f359d9-8e37-4a60-a777-6b394ad0c2cc",
   "metadata": {},
   "outputs": [],
   "source": []
  },
  {
   "cell_type": "markdown",
   "id": "b08afad9-ff0a-4fea-961a-4f752eccfda6",
   "metadata": {},
   "source": [
    "<h3>(c) Describe el sistema en</h3>"
   ]
  },
  {
   "cell_type": "code",
   "execution_count": null,
   "id": "86834d60-94d9-41b6-8a1a-8055f1c1cc2a",
   "metadata": {},
   "outputs": [],
   "source": []
  },
  {
   "cell_type": "code",
   "execution_count": null,
   "id": "070d1ab4-f3b2-4002-92b4-c1d514a42594",
   "metadata": {},
   "outputs": [],
   "source": []
  },
  {
   "cell_type": "markdown",
   "id": "3b620a17-19a0-4d87-84da-be0ec8437049",
   "metadata": {},
   "source": [
    "<h3>(d) Describe cómo se comparan ambos métodos</h3>"
   ]
  },
  {
   "cell_type": "code",
   "execution_count": null,
   "id": "0db0817a-c7c4-49f1-b839-50a39a9d0f37",
   "metadata": {},
   "outputs": [],
   "source": []
  },
  {
   "cell_type": "code",
   "execution_count": null,
   "id": "49bc3af1-fc61-4131-ba50-88407fd1a019",
   "metadata": {},
   "outputs": [],
   "source": []
  },
  {
   "cell_type": "markdown",
   "id": "259b602e-2704-4333-bdaa-6ef4108e42fb",
   "metadata": {},
   "source": [
    "<h2>2. El  péndulo doble</h2>"
   ]
  },
  {
   "cell_type": "markdown",
   "id": "5bfb5424-e010-4d07-bf19-0df2b344272b",
   "metadata": {},
   "source": [
    "Las cuatro ecuaciones de primer orden que definen el movimiento del péndulo doble son:\n",
    "\n",
    "$$\n",
    "\\begin{align*}\n",
    "    \\dot{\\theta_{1}} &= \\omega_{1},\\quad \\dot{\\theta_{2}} = \\omega_{2},\\\\\n",
    "    \\dot{\\omega_{1}} &= -\\dfrac{\\omega_{1}^{2}\\sin(2\\theta_{1} - 2\\theta_{2}) + 2\\omega_{2}^{2}\\sin(\\theta_{1} - \\theta_{2}) + (g/\\ell)[\\sin(\\theta_{1} - 2\\theta_{2}) + 3\\sin\\theta_{1}]}{3 - \\cos(2\\theta_{1} - 2\\theta_{2})},\\\\\n",
    "    \\dot{\\omega_{2}} &= \\dfrac{4\\omega_{1}^{2}\\sin(\\theta_{1} - \\theta_{2}) + 2\\omega_{2}^{2}\\sin(2\\theta_{1} - 2\\theta_{2}) 2(g/\\ell)[\\sin(2\\theta_{1} - \\theta_{2}) - \\sin\\theta_{2}]}{3 - \\cos(2\\theta_{1} - 2\\theta_{2})}\n",
    "\\end{align*}\n",
    "$$"
   ]
  },
  {
   "cell_type": "markdown",
   "id": "0410ee82-06b4-4804-95f8-80186c255220",
   "metadata": {},
   "source": [
    "<h3>(a) Deriva una expresión para la energía total</h3>"
   ]
  },
  {
   "cell_type": "code",
   "execution_count": null,
   "id": "1d718b1a-6893-4bae-956c-9329e7f0f353",
   "metadata": {},
   "outputs": [],
   "source": []
  },
  {
   "cell_type": "code",
   "execution_count": null,
   "id": "3c0aa7d9-948b-4644-bfe6-aa0133c9c814",
   "metadata": {},
   "outputs": [],
   "source": []
  },
  {
   "cell_type": "markdown",
   "id": "f041b5d8-bdce-40a7-9ff5-1f8703e162ae",
   "metadata": {},
   "source": [
    "<h3>(b) Resuelve usando Runge-Kutta de cuarto orden</h3>"
   ]
  },
  {
   "cell_type": "markdown",
   "id": "5a9c0231-8128-4fec-adfc-726de753cfff",
   "metadata": {},
   "source": [
    "<h4>Resolver el sistema</h4>"
   ]
  },
  {
   "cell_type": "markdown",
   "id": "84bf43c5-5c44-4919-aaf4-f1a90c5f07e2",
   "metadata": {},
   "source": [
    "<div class=\"alert alert-block alert-info\">\n",
    "    Resolver las ecuaciones de movimiento para el caso donde $\\ell = 40\\ \\text{cm}$, con las condiciones iniciales $\\theta_{1} = \\theta_{2} = 90\\degree$ y $\\omega_{1} = \\omega_{2} = 0$.\n",
    "</div>"
   ]
  },
  {
   "cell_type": "code",
   "execution_count": null,
   "id": "ca4ca05b-ad69-4c15-9e88-4722c98c1177",
   "metadata": {},
   "outputs": [],
   "source": []
  },
  {
   "cell_type": "code",
   "execution_count": null,
   "id": "d909a8bc-7f40-48ed-a04c-b66b6fe87a5d",
   "metadata": {},
   "outputs": [],
   "source": []
  },
  {
   "cell_type": "markdown",
   "id": "723ab122-66fd-4d41-a5f6-3ae05dc8108e",
   "metadata": {},
   "source": [
    "<h4>Calcula la energía del sistema con masas $1$ kg</h4>"
   ]
  },
  {
   "cell_type": "code",
   "execution_count": null,
   "id": "12b81487-86d4-4567-b511-024de270f896",
   "metadata": {},
   "outputs": [],
   "source": []
  },
  {
   "cell_type": "code",
   "execution_count": null,
   "id": "ceba9c41-de27-4636-aada-807b7fd171f1",
   "metadata": {},
   "outputs": [],
   "source": []
  },
  {
   "cell_type": "markdown",
   "id": "14cde4ed-e820-44a6-9715-a2c9b9bcd106",
   "metadata": {},
   "source": [
    "<h4>Gráfica de la energía desde $t = 0$ hasta $t = 100$ segundos</h4>"
   ]
  },
  {
   "cell_type": "code",
   "execution_count": null,
   "id": "3651ce09-de90-4ae8-98b8-e6f46722e091",
   "metadata": {},
   "outputs": [],
   "source": []
  },
  {
   "cell_type": "code",
   "execution_count": null,
   "id": "c5fad415-cbc1-4b6e-9ada-0a1d21783535",
   "metadata": {},
   "outputs": [],
   "source": []
  },
  {
   "cell_type": "markdown",
   "id": "6dc98dbc-93c3-4651-a628-915dfe58579d",
   "metadata": {},
   "source": [
    "<h3>(c) Muestra en una sola figura:</h3>\n",
    "\n",
    "<ul>\n",
    "    <li>Gráfica de la proyección del espacio fase del sistema en 3D para $\\theta_{1},\\ \\theta_{2}$ vs $\\omega_{1}$</li>\n",
    "    <li>Gráfica de la proyección del espacio fase del sistema para $\\theta_{1},\\ \\theta_{2}$ vs $\\omega_{2}$ (considera que el espacio fase es de 4 dimensiones)</li>\n",
    "    <li>En un gráfico diferente $\\theta_{1},\\ \\theta_{2},\\ \\omega_{1}$ y $\\omega_{2}$ como función del tiempo</li>\n",
    "</ul>\n"
   ]
  },
  {
   "cell_type": "code",
   "execution_count": null,
   "id": "49fbc66a-57b4-4537-b74d-c6e1a20368fd",
   "metadata": {},
   "outputs": [],
   "source": []
  },
  {
   "cell_type": "code",
   "execution_count": null,
   "id": "51823eeb-195c-4c05-88f0-b4a9cbc025c1",
   "metadata": {},
   "outputs": [],
   "source": []
  },
  {
   "cell_type": "markdown",
   "id": "b73054f4-f557-46b5-b9e6-d12f201af271",
   "metadata": {},
   "source": [
    "<div class=\"alert alert-block alert-warning\">\n",
    "    Debido a la conservación de la energía, la energía total debería ser constante en el timepo (e realidad debería ser cero para este conjunto particular de condiciones iniciales), pero encontrarás que no es perfectamente constante debido a la naturaleza aproximada de la solución de la ecuación diferencial.  \n",
    "    Elije un valor adecuado del tamaño del paso $h$ par agarantizar que la variación de energía se inferior a $10^{-5}\\ \\text{J}$ en el trascurso del cálculo.\n",
    "</div>"
   ]
  },
  {
   "cell_type": "markdown",
   "id": "a30fc608-43c1-4d65-8d05-7844b44d80f9",
   "metadata": {},
   "source": [
    "<h2>3. Ecuación de Poisson para un potencial electrostático</h2>\n",
    "\n",
    "Considera el siguiente sistema que consiste en una caja cuadrada de 1 metro de lado, con paredes conductoras conectadas a tierra a 0 volts.\n",
    "\n",
    "Dentro de la caja hay dos cargas cuadradas de 20 cm de lado, una positiva y otra negativa; colocadas a 20 cm de las paredes de la caja. La densidad de carga de ambas es uniforme de $\\pm 1\\ \\text{cm}^{-2}$ respectivamente. Considere el sistema en dos dimensiones."
   ]
  },
  {
   "cell_type": "markdown",
   "id": "29bd48a0-26cf-4d5d-a45e-df74e51bbd45",
   "metadata": {},
   "source": [
    "<h3>(a) Calcular el potencial $\\phi$ usando el método de relajación</h3>"
   ]
  },
  {
   "cell_type": "code",
   "execution_count": null,
   "id": "3a65939b-32bb-498e-a826-ea0a719d1647",
   "metadata": {},
   "outputs": [],
   "source": []
  },
  {
   "cell_type": "code",
   "execution_count": null,
   "id": "55586ae4-57fa-49a7-a765-0c520d99bde7",
   "metadata": {},
   "outputs": [],
   "source": []
  },
  {
   "cell_type": "markdown",
   "id": "1fa8d11b-f320-4f8e-92ae-abbc516a0c6d",
   "metadata": {},
   "source": [
    "<h3>(b) Gráfico de densidad del resultado</h3>"
   ]
  },
  {
   "cell_type": "code",
   "execution_count": null,
   "id": "2358c094-c4f0-474d-94d6-d98523694d14",
   "metadata": {},
   "outputs": [],
   "source": []
  },
  {
   "cell_type": "code",
   "execution_count": null,
   "id": "b464ec0a-4d52-4474-b8e0-dc4208c4d4f7",
   "metadata": {},
   "outputs": [],
   "source": []
  }
 ],
 "metadata": {
  "kernelspec": {
   "display_name": "Python 3 (ipykernel)",
   "language": "python",
   "name": "python3"
  },
  "language_info": {
   "codemirror_mode": {
    "name": "ipython",
    "version": 3
   },
   "file_extension": ".py",
   "mimetype": "text/x-python",
   "name": "python",
   "nbconvert_exporter": "python",
   "pygments_lexer": "ipython3",
   "version": "3.13.0"
  }
 },
 "nbformat": 4,
 "nbformat_minor": 5
}
