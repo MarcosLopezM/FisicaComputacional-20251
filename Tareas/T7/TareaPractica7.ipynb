{
 "cells": [
  {
   "cell_type": "markdown",
   "id": "ad3b503a-0fad-46fa-b9a1-7d38553fa344",
   "metadata": {},
   "source": [
    "<h1 align=\"center\">Física Computacional.</h1>\n",
    "<h1 align=\"center\">Semestre 2015-1</h1>\n",
    "\n",
    "<h2>Sergio A. Alcalá Corona </h2> \n",
    "\n",
    "---\n",
    "### Rodrigo Vega Vilchis\n",
    "### Joel Gómez Uribe\n",
    "---"
   ]
  },
  {
   "cell_type": "markdown",
   "id": "c814e49c-ff46-4bb1-8875-b3e0b5b4674b",
   "metadata": {},
   "source": [
    "<h1 align=\"center\" font-weight=\"bold\">Tarea-Práctica 7.</h1> \n",
    "<h2 align=\"center\">Métodos de solución numérica para ecuaciones lineales y no lineales</h2> \n",
    "<hr>"
   ]
  },
  {
   "cell_type": "code",
   "execution_count": 144,
   "id": "b2e02a0c-bd6a-4489-bc56-8dd9416c1de6",
   "metadata": {},
   "outputs": [],
   "source": [
    "import matplotlib.pyplot as plt\n",
    "import numpy as np\n",
    "import scipy as sp\n",
    "from scipy import constants\n",
    "\n",
    "plt.rcParams.update({\n",
    "    \"text.usetex\": True,\n",
    "})"
   ]
  },
  {
   "cell_type": "markdown",
   "id": "35fdae1b-e17e-4064-ac97-fdf85661e2dc",
   "metadata": {},
   "source": [
    "<h2>1. Descomposición LU</h2>"
   ]
  },
  {
   "cell_type": "markdown",
   "id": "a0036ace-d24b-49ea-b937-3107b37e67ee",
   "metadata": {},
   "source": [
    "<h3>(a) Escribe un programa que calcule la <strong>descomposición LU</strong> de una matriz</h3>"
   ]
  },
  {
   "cell_type": "code",
   "execution_count": 194,
   "id": "7619d8c5-6e00-4f58-adce-54b97372bcff",
   "metadata": {},
   "outputs": [
    {
     "name": "stdout",
     "output_type": "stream",
     "text": [
      "La matriz original es: \n",
      "[[ 2.  1.  4.  1.]\n",
      " [ 3.  4. -1. -1.]\n",
      " [ 1. -4.  1.  5.]\n",
      " [ 2. -2.  1.  3.]]\n",
      "LU = A: \n",
      "[[ 2.  1.  4.  1.]\n",
      " [ 3.  4. -1. -1.]\n",
      " [ 1. -4.  1.  5.]\n",
      " [ 2. -2.  1.  3.]]\n"
     ]
    }
   ],
   "source": [
    "A = np.array([[2, 1, 4, 1], [3, 4, -1, -1], [1, -4, 1, 5], [2, -2, 1, 3]], float)\n",
    "v = np.array([-4, 3, 9, 7])\n",
    "dim, _ = A.shape # Dimensión de la matriz\n",
    "\n",
    "U_temp = [] # [L0, L1, L2, L3]\n",
    "AA = A.copy() # Copia para no modificar la matriz original\n",
    "U = np.eye(dim)\n",
    "L = np.eye(dim)\n",
    "\n",
    "for n in range(dim):\n",
    "    L_n = np.eye(dim)\n",
    "    pivote = AA[n, n]\n",
    "    AA[n,:] /= pivote\n",
    "\n",
    "    for ele in range(n + 1, dim):\n",
    "        mult = AA[ele, n]\n",
    "        L_n[ele, n] = -mult / pivote\n",
    "        AA[ele, :] -= mult * A[n, :]\n",
    "        \n",
    "    U_temp.append(L_n) \n",
    "    U = L_n @ U #L0L1L2L3\n",
    "    \n",
    "# Matriz L\n",
    "for L_n in U_temp:\n",
    "    L = L @ np.linalg.inv(L_n)\n",
    "    \n",
    "print(f\"La matriz original es: \\n{A}\")\n",
    "# Recuperamos la matriz original LU = A\n",
    "print(f\"LU = A: \\n{L @ U @ A}\")"
   ]
  },
  {
   "cell_type": "markdown",
   "id": "9ba26494-54c9-4c58-a2a7-e1b817bf962c",
   "metadata": {},
   "source": [
    "<h3>(b) Prueba tu programa</h3>\n",
    "\n",
    "Calcula la descomposición LU de la matriz:\n",
    "\n",
    "$$\n",
    "    \\begin{equation}\n",
    "        \\begin{pmatrix}\n",
    "            2 & 1 & 4 & 2\\\\\n",
    "            3 & 4 & -1 & -1\\\\\n",
    "            1 & -4 & 1 & 5\\\\\n",
    "            2 & -2 & 1 & 3\n",
    "        \\end{pmatrix}\n",
    "        \\begin{pmatrix}\n",
    "        w \\\\ x \\\\ y \\\\ z\n",
    "        \\end{pmatrix}\n",
    "        =\n",
    "        \\begin{pmatrix}\n",
    "            -4\\\\ 3\\\\ 9\\\\ 7\n",
    "        \\end{pmatrix}\n",
    "        \\label{eq:sist1}\n",
    "    \\end{equation}\n",
    "$$"
   ]
  },
  {
   "cell_type": "code",
   "execution_count": null,
   "id": "dbb79bc2-1ff5-4e23-9775-f33b64280061",
   "metadata": {},
   "outputs": [],
   "source": []
  },
  {
   "cell_type": "code",
   "execution_count": null,
   "id": "406d8b24-6622-4e78-a753-68058328c369",
   "metadata": {},
   "outputs": [],
   "source": []
  },
  {
   "cell_type": "markdown",
   "id": "2f46463e-59c0-443e-9a59-6ce471b50466",
   "metadata": {},
   "source": [
    "<h3>(c) Multiplica las matrices $\\mathbb{L}$ y $\\mathbb{U}$</h3>"
   ]
  },
  {
   "cell_type": "code",
   "execution_count": null,
   "id": "cb21bae3-7ded-4490-b84c-387501ad2dbb",
   "metadata": {},
   "outputs": [],
   "source": []
  },
  {
   "cell_type": "code",
   "execution_count": null,
   "id": "e0901190-02f5-4353-a4a0-3ac823e8c313",
   "metadata": {},
   "outputs": [],
   "source": []
  },
  {
   "cell_type": "markdown",
   "id": "3ba78b07-89c5-401f-896a-618bd29aeb98",
   "metadata": {},
   "source": [
    "<h3>(d) Convierte tu programa en función</h3>"
   ]
  },
  {
   "cell_type": "code",
   "execution_count": null,
   "id": "a57f1185-bf6d-4bed-a594-10ddca23bb69",
   "metadata": {},
   "outputs": [],
   "source": []
  },
  {
   "cell_type": "code",
   "execution_count": null,
   "id": "dcfa8ade-5e41-4b12-a96b-fdfd19c771b9",
   "metadata": {},
   "outputs": [],
   "source": []
  },
  {
   "cell_type": "markdown",
   "id": "b08afad9-ff0a-4fea-961a-4f752eccfda6",
   "metadata": {},
   "source": [
    "<h3>(e) Usa numpy para resolver</h3>"
   ]
  },
  {
   "cell_type": "code",
   "execution_count": 195,
   "id": "1cf0a46e-ca5e-4ba0-a338-cb5854ea3edd",
   "metadata": {},
   "outputs": [
    {
     "name": "stdout",
     "output_type": "stream",
     "text": [
      "[[ 2.  1.  4.  1.]\n",
      " [ 3.  4. -1. -1.]\n",
      " [ 1. -4.  1.  5.]\n",
      " [ 2. -2.  1.  3.]]\n"
     ]
    }
   ],
   "source": [
    "A = np.array([[2, 1, 4, 1], [3, 4, -1, -1], [1, -4, 1, 5], [2, -2, 1, 3]], float)\n",
    "v = np.array([-4, 3, 9, 7])\n",
    "\n",
    "P, L, U = sp.linalg.lu(A)\n",
    "print(P @ L @ U)"
   ]
  },
  {
   "cell_type": "code",
   "execution_count": null,
   "id": "03af5209-73af-4eba-a2b9-a8d117e3ff2b",
   "metadata": {},
   "outputs": [],
   "source": []
  },
  {
   "cell_type": "markdown",
   "id": "259b602e-2704-4333-bdaa-6ef4108e42fb",
   "metadata": {},
   "source": [
    "<h2>2. Pozo cuántico asimétrico</h2>"
   ]
  },
  {
   "cell_type": "markdown",
   "id": "0410ee82-06b4-4804-95f8-80186c255220",
   "metadata": {},
   "source": [
    "<h3>(a) Demuestra que la ec. de Schrödinger se puede escribir en forma matricial</h3>"
   ]
  },
  {
   "cell_type": "code",
   "execution_count": null,
   "id": "8a5cb309-f3d3-466c-8171-afddfb8cf6fd",
   "metadata": {},
   "outputs": [],
   "source": []
  },
  {
   "cell_type": "code",
   "execution_count": null,
   "id": "fe81f54f-f764-478c-824b-433e34bbcfcf",
   "metadata": {},
   "outputs": [],
   "source": []
  },
  {
   "cell_type": "markdown",
   "id": "f041b5d8-bdce-40a7-9ff5-1f8703e162ae",
   "metadata": {},
   "source": [
    "<h3>(b) Escribe un programa para evular tu expresión para $H_{mn}$</h3>"
   ]
  },
  {
   "cell_type": "code",
   "execution_count": null,
   "id": "19d7866a-6c44-481c-a9ca-8ea9ac4d1751",
   "metadata": {},
   "outputs": [],
   "source": []
  },
  {
   "cell_type": "code",
   "execution_count": null,
   "id": "7019d42d-afa1-4b46-ad8f-9c67ef849590",
   "metadata": {},
   "outputs": [],
   "source": []
  },
  {
   "cell_type": "markdown",
   "id": "6dc98dbc-93c3-4651-a628-915dfe58579d",
   "metadata": {},
   "source": [
    "<h3>(c) Calcula los valores propios de esta matriz</h3>"
   ]
  },
  {
   "cell_type": "code",
   "execution_count": null,
   "id": "ef1897e7-33d2-401b-92ae-7d8d519c8a6c",
   "metadata": {},
   "outputs": [],
   "source": []
  },
  {
   "cell_type": "code",
   "execution_count": null,
   "id": "c78cead9-943a-49d1-9419-97f723a62cd3",
   "metadata": {},
   "outputs": [],
   "source": []
  },
  {
   "cell_type": "markdown",
   "id": "ed0d846c-36b7-44ac-a480-ab6ab3b3bdb3",
   "metadata": {},
   "source": [
    "<h3>(d) Usa una matriz $100\\times 100$</h3>"
   ]
  },
  {
   "cell_type": "code",
   "execution_count": null,
   "id": "76b6d202-6ea8-4164-ac9a-8ddec97b0185",
   "metadata": {},
   "outputs": [],
   "source": []
  },
  {
   "cell_type": "code",
   "execution_count": null,
   "id": "b3608753-b911-415b-9750-b38769b04575",
   "metadata": {},
   "outputs": [],
   "source": []
  },
  {
   "cell_type": "markdown",
   "id": "4c6f9dcc-0a59-40c6-b249-74bd0594b1a1",
   "metadata": {},
   "source": [
    "<h3>(e) Calcula la función de onda $\\psi(x)$ para el estado fundamental y los dos primeros estados excitados</h3>"
   ]
  },
  {
   "cell_type": "code",
   "execution_count": null,
   "id": "87754020-d277-4648-8227-3bc1f800db8d",
   "metadata": {},
   "outputs": [],
   "source": []
  },
  {
   "cell_type": "code",
   "execution_count": null,
   "id": "c37adfe4-4b5f-4695-8377-db324af8cfad",
   "metadata": {},
   "outputs": [],
   "source": []
  },
  {
   "cell_type": "markdown",
   "id": "a30fc608-43c1-4d65-8d05-7844b44d80f9",
   "metadata": {},
   "source": [
    "<h2>3. Método de relajación</h2>\n",
    "\n",
    "Considera la ecuación $x = 1 - \\mathrm{e}^{-cx}$, donde $c$ es un parámetro conocido y $x$ desconocido."
   ]
  },
  {
   "cell_type": "markdown",
   "id": "29bd48a0-26cf-4d5d-a45e-df74e51bbd45",
   "metadata": {},
   "source": [
    "<h3>(a) Resuelve la ecuación por método de relajación</h3>"
   ]
  },
  {
   "cell_type": "code",
   "execution_count": null,
   "id": "08a38aee-1549-4582-a826-5c6d91eb6dec",
   "metadata": {},
   "outputs": [],
   "source": []
  },
  {
   "cell_type": "code",
   "execution_count": null,
   "id": "64c8cff9-bbd3-4dad-9a82-9575b69464ef",
   "metadata": {},
   "outputs": [],
   "source": []
  },
  {
   "cell_type": "markdown",
   "id": "1fa8d11b-f320-4f8e-92ae-abbc516a0c6d",
   "metadata": {},
   "source": [
    "<h3>(b) Soluciones para valores de $c$ específicos</h3>"
   ]
  },
  {
   "cell_type": "code",
   "execution_count": null,
   "id": "aed05b2a-6c86-4b65-b1eb-6d0ddae909a6",
   "metadata": {},
   "outputs": [],
   "source": []
  },
  {
   "cell_type": "code",
   "execution_count": null,
   "id": "47388eaa-bfaa-46c4-89bf-6879813f6e0f",
   "metadata": {},
   "outputs": [],
   "source": []
  },
  {
   "cell_type": "markdown",
   "id": "8eccbc42-41ce-4185-be28-ca4fffa39f21",
   "metadata": {},
   "source": [
    "<h2>4. Glucólisis</h2>"
   ]
  },
  {
   "cell_type": "markdown",
   "id": "b6ebd2ff-b7a1-4df7-af4b-3aaf3bc19d94",
   "metadata": {},
   "source": [
    "<h3>(a) Demuestre analíticamente las soluciones</h3>\n",
    "La solución de estas ecuaciones es:\n",
    "\n",
    "$$\n",
    "    \\begin{equation*}\n",
    "        x = b,\\qquad y= \\dfrac{b}{a + b^{2}}\n",
    "    \\end{equation*}\n",
    "$$"
   ]
  },
  {
   "cell_type": "code",
   "execution_count": null,
   "id": "b6614039-394f-453b-a4a9-84788fd9bd2b",
   "metadata": {},
   "outputs": [],
   "source": []
  },
  {
   "cell_type": "code",
   "execution_count": null,
   "id": "2579d098-f571-4dd6-8433-e6738bc0dc9d",
   "metadata": {},
   "outputs": [],
   "source": []
  },
  {
   "cell_type": "markdown",
   "id": "d098df74-b060-47a5-959d-6ec0d7d15ce2",
   "metadata": {},
   "source": [
    "<h3>(b) Resuelve por método de relajación</h3>"
   ]
  },
  {
   "cell_type": "code",
   "execution_count": null,
   "id": "3de94bf8-2568-4ec2-a51a-50c646f5d26f",
   "metadata": {},
   "outputs": [],
   "source": []
  },
  {
   "cell_type": "code",
   "execution_count": null,
   "id": "680fd855-44b9-4f8f-a2b8-dce085187b7e",
   "metadata": {},
   "outputs": [],
   "source": []
  },
  {
   "cell_type": "markdown",
   "id": "ad2651ef-e0c3-4181-bad5-307321b10c81",
   "metadata": {},
   "source": [
    "<h3>(c) Encuentra una forma diferente de reorganizar</h3>"
   ]
  },
  {
   "cell_type": "code",
   "execution_count": null,
   "id": "4fb81fea-45b5-48fd-92ad-2791368a9a20",
   "metadata": {},
   "outputs": [],
   "source": []
  },
  {
   "cell_type": "code",
   "execution_count": null,
   "id": "e6c89053-efb9-451d-ad1b-616e14a4f37c",
   "metadata": {},
   "outputs": [],
   "source": []
  },
  {
   "cell_type": "markdown",
   "id": "331bf1ae-7aee-45d0-be97-63b55e48a10d",
   "metadata": {},
   "source": [
    "<h2>5. Constante de desplazamiento de Wien</h2>"
   ]
  },
  {
   "cell_type": "markdown",
   "id": "b97a260f-7008-40ac-b204-2d51a781163a",
   "metadata": {},
   "source": [
    "<h3>(a) Demuestra que $\\lambda$ obedece al desplazamiento de Wienley</h3>"
   ]
  },
  {
   "cell_type": "code",
   "execution_count": null,
   "id": "1b999d1b-c5fc-4fce-9308-14889e7d69aa",
   "metadata": {},
   "outputs": [],
   "source": []
  },
  {
   "cell_type": "code",
   "execution_count": null,
   "id": "4d258692-6122-444f-84d3-c24d2c7a3239",
   "metadata": {},
   "outputs": [],
   "source": []
  },
  {
   "cell_type": "markdown",
   "id": "b36c8e4d-da02-43cb-b131-9044ce19662b",
   "metadata": {},
   "source": [
    "<h3>(b) Resolver ecuación con precisión $\\epsilon = 10^{-6}$</h3>"
   ]
  },
  {
   "cell_type": "code",
   "execution_count": null,
   "id": "eacc7d5b-f4a1-4716-8bec-f990d2ac7165",
   "metadata": {},
   "outputs": [],
   "source": []
  },
  {
   "cell_type": "code",
   "execution_count": null,
   "id": "5ce1e80e-59f0-4c41-a10f-615c78527cb5",
   "metadata": {},
   "outputs": [],
   "source": []
  },
  {
   "cell_type": "markdown",
   "id": "c514dc0f-4056-4734-ab98-41306c5b000e",
   "metadata": {},
   "source": [
    "<h3>(c) Estima la temperatura de la superficie del Sol</h3>"
   ]
  },
  {
   "cell_type": "code",
   "execution_count": null,
   "id": "68b49afb-3e8c-4753-ae57-5de74ffaf7b2",
   "metadata": {},
   "outputs": [],
   "source": []
  },
  {
   "cell_type": "code",
   "execution_count": null,
   "id": "98c7eda9-05ad-4392-b9e1-9e4ae357e6e2",
   "metadata": {},
   "outputs": [],
   "source": []
  },
  {
   "cell_type": "markdown",
   "id": "7a6b206b-aca8-4b1c-ad2f-8cc5113b38f9",
   "metadata": {},
   "source": [
    "<h2>6. El punto de Lagrange</h2>"
   ]
  },
  {
   "cell_type": "markdown",
   "id": "bdc46de0-6661-4451-81ce-4f27cf7b0639",
   "metadata": {},
   "source": [
    "<h3>(a) Demuestra que la distancia $r$ satisface una ecuación</h3>"
   ]
  },
  {
   "cell_type": "code",
   "execution_count": null,
   "id": "55c5af31-adec-49f1-9b80-92cda19ab422",
   "metadata": {},
   "outputs": [],
   "source": []
  },
  {
   "cell_type": "code",
   "execution_count": null,
   "id": "949b9895-d9a1-437a-9306-00b739f42be7",
   "metadata": {},
   "outputs": [],
   "source": []
  },
  {
   "cell_type": "markdown",
   "id": "5dff45d0-5a28-42b6-b6dc-e2629ff6fe1a",
   "metadata": {},
   "source": [
    "<h3>(b) Resuelve usando el método de Newton</h3>"
   ]
  },
  {
   "cell_type": "code",
   "execution_count": null,
   "id": "8d593693-bf79-4933-9ce6-8783c91aee59",
   "metadata": {},
   "outputs": [],
   "source": []
  },
  {
   "cell_type": "code",
   "execution_count": null,
   "id": "55db29b5-7197-49fa-8a63-cdcde8c84069",
   "metadata": {},
   "outputs": [],
   "source": []
  }
 ],
 "metadata": {
  "kernelspec": {
   "display_name": "Python 3 (ipykernel)",
   "language": "python",
   "name": "python3"
  },
  "language_info": {
   "codemirror_mode": {
    "name": "ipython",
    "version": 3
   },
   "file_extension": ".py",
   "mimetype": "text/x-python",
   "name": "python",
   "nbconvert_exporter": "python",
   "pygments_lexer": "ipython3",
   "version": "3.12.3"
  }
 },
 "nbformat": 4,
 "nbformat_minor": 5
}
