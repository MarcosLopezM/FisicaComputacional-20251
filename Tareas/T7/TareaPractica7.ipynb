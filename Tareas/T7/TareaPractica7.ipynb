{
 "cells": [
  {
   "cell_type": "markdown",
   "id": "ad3b503a-0fad-46fa-b9a1-7d38553fa344",
   "metadata": {},
   "source": [
    "<h1 align=\"center\">Física Computacional.</h1>\n",
    "<h1 align=\"center\">Semestre 2015-1</h1>\n",
    "\n",
    "<h2>Sergio A. Alcalá Corona </h2> \n",
    "\n",
    "---\n",
    "### Rodrigo Vega Vilchis\n",
    "### Joel Gómez Uribe\n",
    "---"
   ]
  },
  {
   "cell_type": "markdown",
   "id": "c814e49c-ff46-4bb1-8875-b3e0b5b4674b",
   "metadata": {},
   "source": [
    "<h1 align=\"center\" font-weight=\"bold\">Tarea-Práctica 7.</h1> \n",
    "<h2 align=\"center\">Métodos de solución numérica para ecuaciones lineales y no lineales</h2> \n",
    "<hr>"
   ]
  },
  {
   "cell_type": "code",
   "execution_count": 1,
   "id": "b2e02a0c-bd6a-4489-bc56-8dd9416c1de6",
   "metadata": {},
   "outputs": [],
   "source": [
    "import matplotlib.pyplot as plt\n",
    "import numpy as np\n",
    "import scipy as sp\n",
    "from scipy import constants\n",
    "\n",
    "plt.rcParams.update({\n",
    "    \"text.usetex\": True,\n",
    "})"
   ]
  },
  {
   "cell_type": "markdown",
   "id": "35fdae1b-e17e-4064-ac97-fdf85661e2dc",
   "metadata": {},
   "source": [
    "<h2>1. Descomposición LU</h2>"
   ]
  },
  {
   "cell_type": "markdown",
   "id": "a0036ace-d24b-49ea-b937-3107b37e67ee",
   "metadata": {},
   "source": [
    "<h3>(a), (b) y (c)</h3>"
   ]
  },
  {
   "cell_type": "markdown",
   "id": "82d74a20-77f7-4b4a-9a1d-8955089ea3c2",
   "metadata": {},
   "source": [
    "Calcula la descomposición LU de la matriz:\n",
    "\n",
    "$$\n",
    "    \\begin{equation}\n",
    "        \\begin{pmatrix}\n",
    "            2 & 1 & 4 & 1\\\\\n",
    "            3 & 4 & -1 & -1\\\\\n",
    "            1 & -4 & 1 & 5\\\\\n",
    "            2 & -2 & 1 & 3\n",
    "        \\end{pmatrix}\n",
    "        \\begin{pmatrix}\n",
    "        w \\\\ x \\\\ y \\\\ z\n",
    "        \\end{pmatrix}\n",
    "        =\n",
    "        \\begin{pmatrix}\n",
    "            -4\\\\ 3\\\\ 9\\\\ 7\n",
    "        \\end{pmatrix}\n",
    "        \\label{eq:sistemaaa}\n",
    "    \\end{equation}\n",
    "$$"
   ]
  },
  {
   "cell_type": "code",
   "execution_count": 97,
   "id": "7619d8c5-6e00-4f58-adce-54b97372bcff",
   "metadata": {},
   "outputs": [
    {
     "name": "stdout",
     "output_type": "stream",
     "text": [
      "a, b) Descomposición LU\n",
      "La matriz L:\n",
      "[[ 1.          0.          0.          0.        ]\n",
      " [ 1.5         1.          0.          0.        ]\n",
      " [ 0.5        -1.8         1.          0.        ]\n",
      " [ 1.         -1.2         0.83823529  1.        ]]\n",
      "La matriz U:\n",
      "[[  2.    1.    4.    1. ]\n",
      " [  0.    2.5  -7.   -2.5]\n",
      " [  0.    0.  -13.6   0. ]\n",
      " [  0.    0.    0.   -1. ]]\n",
      "c) Multiplicación de matrices L y U\n",
      "Recuperamos la matriz original multiplicando LU:\n",
      "[[ 2.  1.  4.  1.]\n",
      " [ 3.  4. -1. -1.]\n",
      " [ 1. -4.  1.  5.]\n",
      " [ 2. -2.  1.  3.]]\n",
      "La matriz original A es:\n",
      "[[ 2.  1.  4.  1.]\n",
      " [ 3.  4. -1. -1.]\n",
      " [ 1. -4.  1.  5.]\n",
      " [ 2. -2.  1.  3.]]\n",
      "Solución del sistema de ecuaciones lineales\n",
      "La solución del sistema es:\n",
      "[ 2. -1. -2.  1.]\n"
     ]
    }
   ],
   "source": [
    "A = np.array([[2, 1, 4, 1],\n",
    "              [3, 4, -1, -1],\n",
    "              [1, -4, 1, 5],\n",
    "              [2, -2, 1, 3]], float)\n",
    "v = np.array([-4, 3, 9, 7], float)\n",
    "\n",
    "############ Descomposición LU ############\n",
    "dim, _ = A.shape # Dimensión de la matriz\n",
    "\n",
    "# Igualamos la matriz U a A para \"ahorrarnos\" la multiplicación de A\n",
    "# para únicamente enfocarnos en U = L3L2L1L0\n",
    "U = A.astype(float)\n",
    "v = v.astype(float)\n",
    "L = np.identity(dim, float)\n",
    "\n",
    "# Eliminacion Gaussiana\n",
    "for m in range(dim):\n",
    "    pivote = U[m, m]\n",
    "    \n",
    "    for i in range(m + 1, dim):\n",
    "        mult = U[i, m]\n",
    "        factor = mult / pivote\n",
    "        L[i, m] = factor\n",
    "        U[i, :] -= factor * U[m, :] \n",
    "        v[i] -= factor * v[m]\n",
    "        \n",
    "############ Backsubstitution ############\n",
    "\n",
    "x = np.empty(dim, float)  #definimos unvector x vacio\n",
    "\n",
    "for m in range(dim - 1, -1, -1):\n",
    "    x[m] = v[m]\n",
    "    for i in range(m + 1, dim):\n",
    "        x[m] -= U[m, i] * x[i]\n",
    "    x[m] /= U[m, m]\n",
    "\n",
    "print(\"a, b) Descomposición LU\")\n",
    "print(f\"La matriz L:\\n{L}\")\n",
    "print(f\"La matriz U:\\n{U}\")\n",
    "print(\"c) Multiplicación de matrices L y U\")\n",
    "print(f\"Recuperamos la matriz original multiplicando LU:\\n{L @ U}\")\n",
    "print(f\"La matriz original A es:\\n{A}\")\n",
    "print(\"Solución del sistema de ecuaciones lineales\")\n",
    "print(f\"La solución del sistema es:\\n{x}\")"
   ]
  },
  {
   "cell_type": "markdown",
   "id": "3ba78b07-89c5-401f-896a-618bd29aeb98",
   "metadata": {},
   "source": [
    "<h3>(d) Convierte tu programa en función y resuelve el sistema</h3>"
   ]
  },
  {
   "cell_type": "code",
   "execution_count": 62,
   "id": "a57f1185-bf6d-4bed-a594-10ddca23bb69",
   "metadata": {},
   "outputs": [],
   "source": [
    "def LU_decomposition_solution(A, v):\n",
    "    \"\"\"\n",
    "    Parámetros\n",
    "    ------------\n",
    "    A: Matriz de coeficientes\n",
    "    v: Vector de términos independientes\n",
    "\n",
    "    Devuelve\n",
    "    ------------\n",
    "    L: Matriz L de la descomposición LU\n",
    "    U: Matriz U de la descomposición LU\n",
    "    x: Solución del sistema\n",
    "    \"\"\"\n",
    "    \n",
    "    dim, _ = A.shape # Dimensión de la matriz\n",
    "\n",
    "    # Verificamos si no tiene solución o infinitas soluciones\n",
    "    # Teorema de Rouché-Frobenius\n",
    "    rango = np.linalg.matrix_rank(A)\n",
    "    m_aumentada = np.hstack((A, v.reshape(-1, 1)))\n",
    "    rango_aum = np.linalg.matrix_rank(m_aumentada)\n",
    "\n",
    "    if rango != rango_aum:\n",
    "        raise ValueError(\"El sistema no tiene solución.\")\n",
    "    elif rango < rango_aum:\n",
    "        raise ValueError(\"El sistema tiene infinitas soluciones.\")\n",
    "    \n",
    "    # Igualamos la matriz U a A para \"ahorrarnos\" la multiplicación de A\n",
    "    # para únicamente enfocarnos en U = L3L2L1L0\n",
    "    U = A.astype(float)\n",
    "    v = v.astype(float)\n",
    "    L = np.identity(dim, float)\n",
    "    \n",
    "    # Eliminacion Gaussiana\n",
    "    for m in range(dim):\n",
    "        pivote = U[m, m]\n",
    "\n",
    "        if pivote == 0:\n",
    "            raise ValueError(\"El sistema tiene infinitas soluciones.\")\n",
    "        \n",
    "        for i in range(m + 1, dim):\n",
    "            mult = U[i, m]\n",
    "            factor = mult / pivote\n",
    "            L[i, m] = factor\n",
    "            U[i, :] -= factor * U[m, :] \n",
    "            v[i] -= factor * v[m]\n",
    "            \n",
    "    ############ Backsubstitution ############\n",
    "    \n",
    "    x = np.empty(dim, float)  #definimos unvector x vacio\n",
    "    \n",
    "    for m in range(dim - 1, -1, -1):\n",
    "        x[m] = v[m]\n",
    "        for i in range(m + 1, dim):\n",
    "            x[m] -= U[m, i] * x[i]\n",
    "        x[m] /= U[m, m]\n",
    "        \n",
    "    return L, U, x"
   ]
  },
  {
   "cell_type": "code",
   "execution_count": 63,
   "id": "dcfa8ade-5e41-4b12-a96b-fdfd19c771b9",
   "metadata": {},
   "outputs": [
    {
     "name": "stdout",
     "output_type": "stream",
     "text": [
      "Matriz L\n",
      "[[ 1.          0.          0.          0.        ]\n",
      " [ 1.5         1.          0.          0.        ]\n",
      " [ 0.5        -1.8         1.          0.        ]\n",
      " [ 1.         -1.2         0.83823529  1.        ]]\n",
      "Matriz U\n",
      "[[  2.    1.    4.    1. ]\n",
      " [  0.    2.5  -7.   -2.5]\n",
      " [  0.    0.  -13.6   0. ]\n",
      " [  0.    0.    0.   -1. ]]\n",
      "Descomposición LU:\n",
      "[[ 2.  1.  4.  1.]\n",
      " [ 3.  4. -1. -1.]\n",
      " [ 1. -4.  1.  5.]\n",
      " [ 2. -2.  1.  3.]]\n",
      "Matriz original\n",
      "[[ 2.  1.  4.  1.]\n",
      " [ 3.  4. -1. -1.]\n",
      " [ 1. -4.  1.  5.]\n",
      " [ 2. -2.  1.  3.]]\n",
      "La solución del sistema es: \n",
      "[ 2. -1. -2.  1.]\n"
     ]
    }
   ],
   "source": [
    "A = np.array([[2, 1, 4, 1],\n",
    "              [3, 4, -1, -1],\n",
    "              [1, -4, 1, 5],\n",
    "              [2, -2, 1, 3]], float)\n",
    "v = np.array([-4, 3, 9, 7], float)\n",
    "\n",
    "L, U, x = LU_decomposition_solution(A, v)\n",
    "\n",
    "print(f\"Matriz L\\n{L}\")\n",
    "print(f\"Matriz U\\n{U}\")\n",
    "print(f\"Descomposición LU:\\n{L @ U}\")\n",
    "print(f\"Matriz original\\n{A}\")\n",
    "print(f\"La solución del sistema es: \\n{x}\")"
   ]
  },
  {
   "cell_type": "markdown",
   "id": "b08afad9-ff0a-4fea-961a-4f752eccfda6",
   "metadata": {},
   "source": [
    "<h3>(e) Usa numpy para resolver</h3>"
   ]
  },
  {
   "cell_type": "code",
   "execution_count": 64,
   "id": "1cf0a46e-ca5e-4ba0-a338-cb5854ea3edd",
   "metadata": {},
   "outputs": [
    {
     "name": "stdout",
     "output_type": "stream",
     "text": [
      "Solución del sistema de ecuaciones lineales es:\n",
      "[ 2. -1. -2.  1.]\n"
     ]
    }
   ],
   "source": [
    "A = np.array([[2, 1, 4, 1],\n",
    "              [3, 4, -1, -1],\n",
    "              [1, -4, 1, 5],\n",
    "              [2, -2, 1, 3]], float)\n",
    "v = np.array([-4, 3, 9, 7])\n",
    "\n",
    "print(\"Solución del sistema de ecuaciones lineales es:\")\n",
    "print(sp.linalg.solve(A, v))"
   ]
  },
  {
   "cell_type": "markdown",
   "id": "15e261bb-ad2d-42ee-9efe-0670726d3e07",
   "metadata": {},
   "source": [
    "<h4>Solución a distintos sistemas de ecuaciones</h4>"
   ]
  },
  {
   "cell_type": "code",
   "execution_count": 69,
   "id": "483234f1-8495-4e02-9646-ed716b287818",
   "metadata": {},
   "outputs": [
    {
     "name": "stdout",
     "output_type": "stream",
     "text": [
      "La solución obtenida con mi implementación es: \n",
      "[1.5 1. ]\n",
      "Solución con paquetería scipy: \n",
      "[1.5 1. ]\n",
      "Solución con paquetería numpy: \n",
      "[1.5 1. ]\n"
     ]
    }
   ],
   "source": [
    "B = np.array([[2, 3],\n",
    "             [4, 9]])\n",
    "w = np.array([6, 15])\n",
    "\n",
    "_, _, sol = LU_decomposition_solution(B, w)\n",
    "print(f\"La solución obtenida con mi implementación es: \\n{sol}\")\n",
    "print(f\"Solución con paquetería scipy: \\n{np.linalg.solve(B, w)}\")\n",
    "print(f\"Solución con paquetería numpy: \\n{sp.linalg.solve(B, w)}\")"
   ]
  },
  {
   "cell_type": "code",
   "execution_count": 71,
   "id": "1c1ac3a3-c282-4a3d-8c77-80e2fe2f0a99",
   "metadata": {},
   "outputs": [
    {
     "name": "stdout",
     "output_type": "stream",
     "text": [
      "La solución obtenida con mi implementación es: \n",
      "[ 1. -2. -2.]\n",
      "Solución con paquetería scipy: \n",
      "[ 1. -2. -2.]\n",
      "Solución con paquetería numpy: \n",
      "[ 1. -2. -2.]\n"
     ]
    }
   ],
   "source": [
    "C = np.array([[3, 2, -1],\n",
    "             [2, -2, 4],\n",
    "             [-1, 0.5, -1]])\n",
    "z = np.array([1, -2, 0])\n",
    "\n",
    "L, U, sol = LU_decomposition_solution(C, z)\n",
    "print(f\"La solución obtenida con mi implementación es: \\n{sol}\")\n",
    "print(f\"Solución con paquetería scipy: \\n{np.linalg.solve(C, z)}\")\n",
    "print(f\"Solución con paquetería numpy: \\n{sp.linalg.solve(C, z)}\")"
   ]
  },
  {
   "cell_type": "code",
   "execution_count": 74,
   "id": "a7fc6897-6f78-46af-9c81-34d131130a71",
   "metadata": {},
   "outputs": [
    {
     "name": "stdout",
     "output_type": "stream",
     "text": [
      "La solución obtenida con mi implementación es: \n",
      "[-15.   8.   2.]\n",
      "Solución con paquetería scipy: \n",
      "[-15.   8.   2.]\n",
      "Solución con paquetería numpy: \n",
      "[-15.   8.   2.]\n"
     ]
    }
   ],
   "source": [
    "D = np.array([[1, 3, -2],\n",
    "             [3, 5, 6],\n",
    "             [2, 4, 3]])\n",
    "v = np.array([5, 7, 8])\n",
    "\n",
    "_, _, sol = LU_decomposition_solution(D, v)\n",
    "print(f\"La solución obtenida con mi implementación es: \\n{sol}\")\n",
    "print(f\"Solución con paquetería scipy: \\n{np.linalg.solve(D, v)}\")\n",
    "print(f\"Solución con paquetería numpy: \\n{sp.linalg.solve(D, v)}\")"
   ]
  },
  {
   "cell_type": "code",
   "execution_count": 76,
   "id": "9b5429c6-ff64-41d8-9dac-d10779b2409b",
   "metadata": {},
   "outputs": [
    {
     "ename": "ValueError",
     "evalue": "El sistema tiene infinitas soluciones.",
     "output_type": "error",
     "traceback": [
      "\u001b[0;31m---------------------------------------------------------------------------\u001b[0m",
      "\u001b[0;31mValueError\u001b[0m                                Traceback (most recent call last)",
      "Cell \u001b[0;32mIn[76], line 6\u001b[0m\n\u001b[1;32m      1\u001b[0m E \u001b[38;5;241m=\u001b[39m np\u001b[38;5;241m.\u001b[39marray([[\u001b[38;5;241m1\u001b[39m, \u001b[38;5;241m1\u001b[39m, \u001b[38;5;241m2\u001b[39m],\n\u001b[1;32m      2\u001b[0m              [\u001b[38;5;241m1\u001b[39m, \u001b[38;5;241m1\u001b[39m, \u001b[38;5;241m1\u001b[39m],\n\u001b[1;32m      3\u001b[0m              [\u001b[38;5;241m2\u001b[39m, \u001b[38;5;241m2\u001b[39m, \u001b[38;5;241m2\u001b[39m]])\n\u001b[1;32m      4\u001b[0m w \u001b[38;5;241m=\u001b[39m np\u001b[38;5;241m.\u001b[39marray([\u001b[38;5;241m3\u001b[39m, \u001b[38;5;241m1\u001b[39m, \u001b[38;5;241m2\u001b[39m])\n\u001b[0;32m----> 6\u001b[0m _, _, sol \u001b[38;5;241m=\u001b[39m \u001b[43mLU_decomposition_solution\u001b[49m\u001b[43m(\u001b[49m\u001b[43mE\u001b[49m\u001b[43m,\u001b[49m\u001b[43m \u001b[49m\u001b[43mw\u001b[49m\u001b[43m)\u001b[49m\n\u001b[1;32m      7\u001b[0m \u001b[38;5;28mprint\u001b[39m(\u001b[38;5;124mf\u001b[39m\u001b[38;5;124m\"\u001b[39m\u001b[38;5;124mLa solución obtenida con mi implementación es: \u001b[39m\u001b[38;5;130;01m\\n\u001b[39;00m\u001b[38;5;132;01m{\u001b[39;00msol\u001b[38;5;132;01m}\u001b[39;00m\u001b[38;5;124m\"\u001b[39m)\n",
      "Cell \u001b[0;32mIn[62], line 39\u001b[0m, in \u001b[0;36mLU_decomposition_solution\u001b[0;34m(A, v)\u001b[0m\n\u001b[1;32m     36\u001b[0m pivote \u001b[38;5;241m=\u001b[39m U[m, m]\n\u001b[1;32m     38\u001b[0m \u001b[38;5;28;01mif\u001b[39;00m pivote \u001b[38;5;241m==\u001b[39m \u001b[38;5;241m0\u001b[39m:\n\u001b[0;32m---> 39\u001b[0m     \u001b[38;5;28;01mraise\u001b[39;00m \u001b[38;5;167;01mValueError\u001b[39;00m(\u001b[38;5;124m\"\u001b[39m\u001b[38;5;124mEl sistema tiene infinitas soluciones.\u001b[39m\u001b[38;5;124m\"\u001b[39m)\n\u001b[1;32m     41\u001b[0m \u001b[38;5;28;01mfor\u001b[39;00m i \u001b[38;5;129;01min\u001b[39;00m \u001b[38;5;28mrange\u001b[39m(m \u001b[38;5;241m+\u001b[39m \u001b[38;5;241m1\u001b[39m, dim):\n\u001b[1;32m     42\u001b[0m     mult \u001b[38;5;241m=\u001b[39m U[i, m]\n",
      "\u001b[0;31mValueError\u001b[0m: El sistema tiene infinitas soluciones."
     ]
    }
   ],
   "source": [
    "E = np.array([[1, 1, 2],\n",
    "             [1, 1, 1],\n",
    "             [2, 2, 2]])\n",
    "w = np.array([3, 1, 2])\n",
    "\n",
    "_, _, sol = LU_decomposition_solution(E, w)\n",
    "print(f\"La solución obtenida con mi implementación es: \\n{sol}\")"
   ]
  },
  {
   "cell_type": "code",
   "execution_count": 77,
   "id": "cbc73653-4e59-4ab5-99f8-b66c5d236fe6",
   "metadata": {},
   "outputs": [
    {
     "ename": "ValueError",
     "evalue": "El sistema no tiene solución.",
     "output_type": "error",
     "traceback": [
      "\u001b[0;31m---------------------------------------------------------------------------\u001b[0m",
      "\u001b[0;31mValueError\u001b[0m                                Traceback (most recent call last)",
      "Cell \u001b[0;32mIn[77], line 3\u001b[0m\n\u001b[1;32m      1\u001b[0m A \u001b[38;5;241m=\u001b[39m np\u001b[38;5;241m.\u001b[39marray([[\u001b[38;5;241m1\u001b[39m, \u001b[38;5;241m1\u001b[39m], [\u001b[38;5;241m1\u001b[39m, \u001b[38;5;241m1\u001b[39m]])\n\u001b[1;32m      2\u001b[0m v \u001b[38;5;241m=\u001b[39m np\u001b[38;5;241m.\u001b[39marray([\u001b[38;5;241m2\u001b[39m, \u001b[38;5;241m3\u001b[39m])\n\u001b[0;32m----> 3\u001b[0m \u001b[43mLU_decomposition_solution\u001b[49m\u001b[43m(\u001b[49m\u001b[43mA\u001b[49m\u001b[43m,\u001b[49m\u001b[43m \u001b[49m\u001b[43mv\u001b[49m\u001b[43m)\u001b[49m\n",
      "Cell \u001b[0;32mIn[62], line 24\u001b[0m, in \u001b[0;36mLU_decomposition_solution\u001b[0;34m(A, v)\u001b[0m\n\u001b[1;32m     21\u001b[0m rango_aum \u001b[38;5;241m=\u001b[39m np\u001b[38;5;241m.\u001b[39mlinalg\u001b[38;5;241m.\u001b[39mmatrix_rank(m_aumentada)\n\u001b[1;32m     23\u001b[0m \u001b[38;5;28;01mif\u001b[39;00m rango \u001b[38;5;241m!=\u001b[39m rango_aum:\n\u001b[0;32m---> 24\u001b[0m     \u001b[38;5;28;01mraise\u001b[39;00m \u001b[38;5;167;01mValueError\u001b[39;00m(\u001b[38;5;124m\"\u001b[39m\u001b[38;5;124mEl sistema no tiene solución.\u001b[39m\u001b[38;5;124m\"\u001b[39m)\n\u001b[1;32m     25\u001b[0m \u001b[38;5;28;01melif\u001b[39;00m rango \u001b[38;5;241m<\u001b[39m rango_aum:\n\u001b[1;32m     26\u001b[0m     \u001b[38;5;28;01mraise\u001b[39;00m \u001b[38;5;167;01mValueError\u001b[39;00m(\u001b[38;5;124m\"\u001b[39m\u001b[38;5;124mEl sistema tiene infinitas soluciones.\u001b[39m\u001b[38;5;124m\"\u001b[39m)\n",
      "\u001b[0;31mValueError\u001b[0m: El sistema no tiene solución."
     ]
    }
   ],
   "source": [
    "A = np.array([[1, 1], [1, 1]])\n",
    "v = np.array([2, 3])\n",
    "LU_decomposition_solution(A, v)"
   ]
  },
  {
   "cell_type": "code",
   "execution_count": 78,
   "id": "1d3756fb-d875-4b02-a6d5-af45ffb20bb1",
   "metadata": {},
   "outputs": [
    {
     "ename": "ValueError",
     "evalue": "El sistema tiene infinitas soluciones.",
     "output_type": "error",
     "traceback": [
      "\u001b[0;31m---------------------------------------------------------------------------\u001b[0m",
      "\u001b[0;31mValueError\u001b[0m                                Traceback (most recent call last)",
      "Cell \u001b[0;32mIn[78], line 3\u001b[0m\n\u001b[1;32m      1\u001b[0m A \u001b[38;5;241m=\u001b[39m np\u001b[38;5;241m.\u001b[39marray([[\u001b[38;5;241m1\u001b[39m, \u001b[38;5;241m2\u001b[39m], [\u001b[38;5;241m2\u001b[39m, \u001b[38;5;241m4\u001b[39m]])\n\u001b[1;32m      2\u001b[0m v \u001b[38;5;241m=\u001b[39m np\u001b[38;5;241m.\u001b[39marray([\u001b[38;5;241m3\u001b[39m, \u001b[38;5;241m6\u001b[39m])\n\u001b[0;32m----> 3\u001b[0m \u001b[43mLU_decomposition_solution\u001b[49m\u001b[43m(\u001b[49m\u001b[43mA\u001b[49m\u001b[43m,\u001b[49m\u001b[43m \u001b[49m\u001b[43mv\u001b[49m\u001b[43m)\u001b[49m  \n",
      "Cell \u001b[0;32mIn[62], line 39\u001b[0m, in \u001b[0;36mLU_decomposition_solution\u001b[0;34m(A, v)\u001b[0m\n\u001b[1;32m     36\u001b[0m pivote \u001b[38;5;241m=\u001b[39m U[m, m]\n\u001b[1;32m     38\u001b[0m \u001b[38;5;28;01mif\u001b[39;00m pivote \u001b[38;5;241m==\u001b[39m \u001b[38;5;241m0\u001b[39m:\n\u001b[0;32m---> 39\u001b[0m     \u001b[38;5;28;01mraise\u001b[39;00m \u001b[38;5;167;01mValueError\u001b[39;00m(\u001b[38;5;124m\"\u001b[39m\u001b[38;5;124mEl sistema tiene infinitas soluciones.\u001b[39m\u001b[38;5;124m\"\u001b[39m)\n\u001b[1;32m     41\u001b[0m \u001b[38;5;28;01mfor\u001b[39;00m i \u001b[38;5;129;01min\u001b[39;00m \u001b[38;5;28mrange\u001b[39m(m \u001b[38;5;241m+\u001b[39m \u001b[38;5;241m1\u001b[39m, dim):\n\u001b[1;32m     42\u001b[0m     mult \u001b[38;5;241m=\u001b[39m U[i, m]\n",
      "\u001b[0;31mValueError\u001b[0m: El sistema tiene infinitas soluciones."
     ]
    }
   ],
   "source": [
    "A = np.array([[1, 2], [2, 4]])\n",
    "v = np.array([3, 6])\n",
    "LU_decomposition_solution(A, v)  "
   ]
  },
  {
   "cell_type": "markdown",
   "id": "259b602e-2704-4333-bdaa-6ef4108e42fb",
   "metadata": {},
   "source": [
    "<h2>2. Pozo cuántico asimétrico</h2>"
   ]
  },
  {
   "cell_type": "markdown",
   "id": "0410ee82-06b4-4804-95f8-80186c255220",
   "metadata": {},
   "source": [
    "<h3>(a) Demuestra que la ec. de Schrödinger se puede escribir en forma matricial</h3>"
   ]
  },
  {
   "cell_type": "code",
   "execution_count": null,
   "id": "8a5cb309-f3d3-466c-8171-afddfb8cf6fd",
   "metadata": {},
   "outputs": [],
   "source": []
  },
  {
   "cell_type": "code",
   "execution_count": null,
   "id": "fe81f54f-f764-478c-824b-433e34bbcfcf",
   "metadata": {},
   "outputs": [],
   "source": []
  },
  {
   "cell_type": "markdown",
   "id": "f041b5d8-bdce-40a7-9ff5-1f8703e162ae",
   "metadata": {},
   "source": [
    "<h3>(b) Escribe un programa para evular tu expresión para $H_{mn}$</h3>"
   ]
  },
  {
   "cell_type": "markdown",
   "id": "c42a505a-da64-4c4e-9e0a-bb436a88b9b2",
   "metadata": {},
   "source": [
    "<span style=\"font-weight:bold\">Operador Hamiltoniano</span>\n",
    "\n",
    "$$\n",
    "\\begin{equation*}\n",
    "    \\hat{H} = -\\dfrac{-\\hbar^{2}}{2M}\\dfrac{\\text{d}^{2}}{\\text{d}x^{2}} + V(x).\n",
    "\\end{equation*}\n",
    "$$\n",
    "\n",
    "<span style=\"font-weight:bold\">Matriz asociada al Hamiltoniano $\\mathbb{H}$</span>\n",
    "\n",
    "$$\n",
    "\\begin{align*}\n",
    "    H_{mn} &= \\dfrac{2}{L}\\int_{0}^{L}\\sin\\bigl(\\tfrac{\\pi mx}{L}\\bigr)\\hat{H}\\sin\\bigl(\\tfrac{\\pi n x}{L}\\bigr)\\text{d}x,\\\\\n",
    "    H_{mn} &= \\dfrac{2}{L}\\int_{0}^{L}\\sin\\bigl(\\tfrac{\\pi mx}{L}\\bigr)\\Biggl[-\\dfrac{-\\hbar^{2}}{2M}\\dfrac{\\text{d}^{2}}{\\text{d}x^{2}} + V(x)\\Biggr]\\sin\\bigl(\\tfrac{\\pi n x}{L}\\bigr)\\text{d}x.\n",
    "\\end{align*}\n",
    "$$\n",
    "\n",
    "<span style=\"font-weight:bold\">Potencial $V(x)$</span>\n",
    "\n",
    "$$\n",
    "    \\begin{equation*}\n",
    "        V(x) = \\dfrac{ax}{L}\n",
    "    \\end{equation*}\n",
    "$$"
   ]
  },
  {
   "cell_type": "code",
   "execution_count": 79,
   "id": "19d7866a-6c44-481c-a9ca-8ea9ac4d1751",
   "metadata": {},
   "outputs": [],
   "source": [
    "L = 5 * constants.angstrom # m\n",
    "hbar = constants.hbar # J * s\n",
    "m_e = constants.m_e # Masa del electrón en kg\n",
    "c_e = constants.elementary_charge # Carga del electrón en C\n",
    "a = 10 * c_e # J"
   ]
  },
  {
   "cell_type": "code",
   "execution_count": 80,
   "id": "7019d42d-afa1-4b46-ad8f-9c67ef849590",
   "metadata": {},
   "outputs": [],
   "source": [
    "def hamiltonian_mn(m, n, L):\n",
    "    if m == n:\n",
    "        return (hbar ** 2 * np.pi ** 2 * n ** 2) / (2 * m_e * L ** 2) +  a / 2\n",
    "    elif ((m & 1) == (n & 1)):\n",
    "        return 0 # Si ambos son pares o impares\n",
    "    return -((8 * a) / (np.pi ** 2)) * ((m * n) / (m ** 2 - n ** 2) ** 2) # Uno par y otro impar"
   ]
  },
  {
   "cell_type": "markdown",
   "id": "6dc98dbc-93c3-4651-a628-915dfe58579d",
   "metadata": {},
   "source": [
    "<h3>(c) Calcula los valores propios de esta matriz</h3>"
   ]
  },
  {
   "cell_type": "code",
   "execution_count": 81,
   "id": "ef1897e7-33d2-401b-92ae-7d8d519c8a6c",
   "metadata": {},
   "outputs": [],
   "source": [
    "def hamiltonian_op(m, n, L):    \n",
    "    H = np.zeros((m, n), float)\n",
    "\n",
    "    for i in range(m):\n",
    "        for j in range(n):\n",
    "            H[i, j] = hamiltonian_mn(i + 1, j + 1, L)\n",
    "\n",
    "    # Eigenvalores y eigenvectores\n",
    "    energias, ψ = sp.linalg.eigh(H)\n",
    "\n",
    "    return energias / c_e, ψ # Energías en eV"
   ]
  },
  {
   "cell_type": "code",
   "execution_count": 82,
   "id": "c78cead9-943a-49d1-9419-97f723a62cd3",
   "metadata": {},
   "outputs": [
    {
     "name": "stdout",
     "output_type": "stream",
     "text": [
      "[  5.8363769   11.18109291  18.66289158  29.14419776  42.65507485\n",
      "  59.18525782  78.72936019 101.28548383 126.85138575 155.55532885]\n"
     ]
    }
   ],
   "source": [
    "energias_10, _ = hamiltonian_op(10, 10, L)\n",
    "\n",
    "print(energias_10)"
   ]
  },
  {
   "cell_type": "markdown",
   "id": "ed0d846c-36b7-44ac-a480-ab6ab3b3bdb3",
   "metadata": {},
   "source": [
    "<h3>(d) Usa una matriz $100\\times 100$</h3>"
   ]
  },
  {
   "cell_type": "code",
   "execution_count": 83,
   "id": "76b6d202-6ea8-4164-ac9a-8ddec97b0185",
   "metadata": {},
   "outputs": [
    {
     "name": "stdout",
     "output_type": "stream",
     "text": [
      "Las primeras 10 energías para esta matriz son: \n",
      "[  5.8363765   11.18109158  18.66288971  29.14418896  42.65506573\n",
      "  59.18520524  78.72930836 101.2848529  126.85055342 155.42570639]\n"
     ]
    }
   ],
   "source": [
    "energias_100, ψ = hamiltonian_op(100, 100, L)\n",
    "\n",
    "print(f\"Las primeras 10 energías para esta matriz son: \\n{energias_100[0:10]}\")"
   ]
  },
  {
   "cell_type": "markdown",
   "id": "4c6f9dcc-0a59-40c6-b249-74bd0594b1a1",
   "metadata": {},
   "source": [
    "<h3>(e) Calcula la función de onda $\\psi(x)$ para el estado fundamental y los dos primeros estados excitados</h3>"
   ]
  },
  {
   "cell_type": "markdown",
   "id": "07e5bdd0-852c-4e6a-85fc-da0d2fd8588f",
   "metadata": {},
   "source": [
    "<span style=\"font-weight:bold\">Función de onda</span>\n",
    "\n",
    "$$\n",
    "    \\begin{equation*}\n",
    "        \\Psi(x) = \\sum_{n = 1}^{\\infty} \\psi_{n}\\sin\\bigl(\\tfrac{\\pi n x}{L}\\bigr)\n",
    "    \\end{equation*}\n",
    "$$"
   ]
  },
  {
   "cell_type": "code",
   "execution_count": 84,
   "id": "87754020-d277-4648-8227-3bc1f800db8d",
   "metadata": {},
   "outputs": [],
   "source": [
    "def funcion_onda_n(n, x, psi, L):\n",
    "    f_onda = 0\n",
    "    for m in range(100):\n",
    "        f_onda += np.sqrt(2 / L) * psi[n, m] * np.sin((np.pi * (m + 1) * x) / L)\n",
    "    return f_onda"
   ]
  },
  {
   "cell_type": "code",
   "execution_count": 85,
   "id": "c37adfe4-4b5f-4695-8377-db324af8cfad",
   "metadata": {},
   "outputs": [
    {
     "data": {
      "image/png": "[encoded data removed]",
      "text/plain": [
       "<Figure size 1200x700 with 1 Axes>"
      ]
     },
     "metadata": {},
     "output_type": "display_data"
    }
   ],
   "source": [
    "x = np.linspace(0, L, 1000)\n",
    "ψ_0 = funcion_onda_n(0, x, ψ, L) \n",
    "ψ_1 = funcion_onda_n(1, x, ψ, L) \n",
    "ψ_2 = funcion_onda_n(2, x, ψ, L) \n",
    "# Funciones de densidad de probabilidad\n",
    "ψ_0_prob = funcion_onda_n(0, x, ψ, L) ** 2\n",
    "ψ_1_prob = funcion_onda_n(1, x, ψ, L) ** 2\n",
    "ψ_2_prob = funcion_onda_n(2, x, ψ, L) ** 2\n",
    "\n",
    "plt.figure(figsize=(12, 7))\n",
    "plt.plot(x, ψ_0_prob, label=\"$\\\\psi_{0}$\")\n",
    "plt.plot(x, ψ_1_prob, label=\"$\\\\psi_{1}$\")\n",
    "plt.plot(x, ψ_2_prob, label=\"$\\\\psi_{2}$\")\n",
    "plt.title(\"Funciones de onda $\\\\psi_{n}$ para $n = 0, 1, 2$\")\n",
    "plt.xlabel(\"$x$\", fontsize=16)\n",
    "plt.ylabel(\"$\\\\psi_{n}(x)$\", fontsize=16)\n",
    "plt.grid(alpha=0.5)\n",
    "plt.legend()\n",
    "plt.show()"
   ]
  },
  {
   "cell_type": "markdown",
   "id": "ac1cf698-7886-49da-b48a-a662d97de99b",
   "metadata": {},
   "source": [
    "Verificamos que cada una de las funciones de onda para el estado base y los dos primeros estados excitados cumplan la condición de normalización:\n",
    "$$\n",
    "    \\begin{equation*}\n",
    "        \\int_{0}^{L}\\lvert\\psi(x)\\rvert^{2}\\text{d}x = 1.\n",
    "    \\end{equation*}\n",
    "$$"
   ]
  },
  {
   "cell_type": "code",
   "execution_count": 86,
   "id": "c7eb5aa8-6297-4ca0-8ee1-53ba9d9cc30a",
   "metadata": {},
   "outputs": [
    {
     "name": "stdout",
     "output_type": "stream",
     "text": [
      "0.9999999999999766\n",
      "1.000000000002503\n",
      "1.000000000001184\n"
     ]
    }
   ],
   "source": [
    "print(sp.integrate.simpson(funcion_onda_n(0, x, ψ, L) ** 2, x=x))\n",
    "print(sp.integrate.simpson(funcion_onda_n(1, x, ψ, L) ** 2, x=x))\n",
    "print(sp.integrate.simpson(funcion_onda_n(2, x, ψ, L) ** 2, x=x))"
   ]
  },
  {
   "cell_type": "markdown",
   "id": "a30fc608-43c1-4d65-8d05-7844b44d80f9",
   "metadata": {},
   "source": [
    "<h2>3. Método de relajación</h2>\n",
    "\n",
    "Considera la ecuación $x = 1 - \\mathrm{e}^{-cx}$, donde $c$ es un parámetro conocido y $x$ desconocido."
   ]
  },
  {
   "cell_type": "markdown",
   "id": "29bd48a0-26cf-4d5d-a45e-df74e51bbd45",
   "metadata": {},
   "source": [
    "<h3>(a) Resuelve la ecuación por método de relajación</h3>"
   ]
  },
  {
   "cell_type": "code",
   "execution_count": 87,
   "id": "08a38aee-1549-4582-a826-5c6d91eb6dec",
   "metadata": {},
   "outputs": [
    {
     "name": "stdout",
     "output_type": "stream",
     "text": [
      "Solución obtenida por el método de relajación:\n",
      "0.7968121300200199\n"
     ]
    }
   ],
   "source": [
    "x = 0.5\n",
    "c = 2\n",
    "for k in range(200):\n",
    "    x = 1 - np.exp(-c * x)\n",
    "\n",
    "print(f\"Solución obtenida por el método de relajación:\\n{x}\")"
   ]
  },
  {
   "cell_type": "markdown",
   "id": "1fa8d11b-f320-4f8e-92ae-abbc516a0c6d",
   "metadata": {},
   "source": [
    "<h3>(b) Soluciones para valores de $c$ específicos</h3>"
   ]
  },
  {
   "cell_type": "code",
   "execution_count": 88,
   "id": "aed05b2a-6c86-4b65-b1eb-6d0ddae909a6",
   "metadata": {},
   "outputs": [
    {
     "data": {
      "image/png": "[encoded data removed]",
      "text/plain": [
       "<Figure size 1200x700 with 1 Axes>"
      ]
     },
     "metadata": {},
     "output_type": "display_data"
    }
   ],
   "source": [
    "f = lambda x, c: 1 - np.exp(-c * x)\n",
    "C = np.linspace(0.01, 3, 300) # pasos de 0.01\n",
    "\n",
    "y = []\n",
    "precision = 1e-6\n",
    "\n",
    "for c in C:\n",
    "    x1 = .5\n",
    "    error = 1.\n",
    "\n",
    "    while error > precision:\n",
    "        x1, x2 = f(x1, c), x1\n",
    "        # Calculamos el error\n",
    "        error = np.abs(x1 - x2) / np.abs(1 - 1 / (c * np.exp(-c * x2)))\n",
    "    y.append(x1)\n",
    "\n",
    "plt.figure(figsize=(12, 7))\n",
    "plt.plot(C, y, c=\"indigo\")\n",
    "plt.title(\"Solución de $x = 1 - \\\\mathrm{e}^{-cx}$ por el método de relajación\")\n",
    "plt.xlabel(\"$c$\", fontsize=14)\n",
    "plt.ylabel(\"$x$\", fontsize=14)\n",
    "plt.grid(alpha=0.5)\n",
    "plt.show()"
   ]
  },
  {
   "cell_type": "markdown",
   "id": "8eccbc42-41ce-4185-be28-ca4fffa39f21",
   "metadata": {},
   "source": [
    "<h2>4. Glucólisis</h2>"
   ]
  },
  {
   "cell_type": "markdown",
   "id": "b6ebd2ff-b7a1-4df7-af4b-3aaf3bc19d94",
   "metadata": {},
   "source": [
    "<h3>(a) Demuestre analíticamente las soluciones</h3>\n",
    "La solución de estas ecuaciones es:\n",
    "\n",
    "$$\n",
    "    \\begin{equation*}\n",
    "        x = b,\\qquad y= \\dfrac{b}{a + b^{2}}\n",
    "    \\end{equation*}\n",
    "$$"
   ]
  },
  {
   "cell_type": "code",
   "execution_count": null,
   "id": "b6614039-394f-453b-a4a9-84788fd9bd2b",
   "metadata": {},
   "outputs": [],
   "source": []
  },
  {
   "cell_type": "code",
   "execution_count": null,
   "id": "2579d098-f571-4dd6-8433-e6738bc0dc9d",
   "metadata": {},
   "outputs": [],
   "source": []
  },
  {
   "cell_type": "markdown",
   "id": "d098df74-b060-47a5-959d-6ec0d7d15ce2",
   "metadata": {},
   "source": [
    "<h3>(b) Resuelve por método de relajación</h3>"
   ]
  },
  {
   "cell_type": "markdown",
   "id": "f013cd79-e088-459a-9bc5-ef1e876ee913",
   "metadata": {},
   "source": [
    "$$\n",
    "\\begin{equation*}\n",
    "    x = y\\cdot(a + x^{2}),\\qquad y = \\dfrac{b}{a + x^{2}}\n",
    "\\end{equation*}\n",
    "$$"
   ]
  },
  {
   "cell_type": "code",
   "execution_count": 91,
   "id": "3de94bf8-2568-4ec2-a51a-50c646f5d26f",
   "metadata": {},
   "outputs": [],
   "source": [
    "f1 = lambda x, y: y * (a + x ** 2)\n",
    "g1 = lambda x, y: b / (a + x ** 2)\n",
    "\n",
    "precision = 1e-6\n",
    "a = 1\n",
    "b = 2\n",
    "\n",
    "def puntos_estacionarios(f, g):\n",
    "    x1, y1 = 0.5, 0.25\n",
    "    x2, y2 = f(x1, y1), g(x1, y1)\n",
    "    \n",
    "    error = lambda x1, y1, x2, y2: np.sqrt((x2 - x1) ** 2 + (y2 - y1) ** 2)\n",
    "    \n",
    "    iteraciones = 1\n",
    "    \n",
    "    while error(x1, y1, x2, y2) > precision:\n",
    "        if iteraciones > 1000000:\n",
    "            raise ValueError(\"No converge a una solución.\")\n",
    "\n",
    "        x1, y1 = x2, y2\n",
    "        x2, y2 = f(x1, y1), g(x1, y1)\n",
    "    \n",
    "        iteraciones += 1\n",
    "        \n",
    "    print(f\"La solución encontrada en {iteraciones} iteraciones es:\\n x = {x2} y y = {y2}.\")"
   ]
  },
  {
   "cell_type": "code",
   "execution_count": 92,
   "id": "ad45c52b-d2a1-495c-974a-3781f41d2354",
   "metadata": {},
   "outputs": [
    {
     "ename": "ValueError",
     "evalue": "No converge a una solución.",
     "output_type": "error",
     "traceback": [
      "\u001b[0;31m---------------------------------------------------------------------------\u001b[0m",
      "\u001b[0;31mValueError\u001b[0m                                Traceback (most recent call last)",
      "Cell \u001b[0;32mIn[92], line 1\u001b[0m\n\u001b[0;32m----> 1\u001b[0m \u001b[43mpuntos_estacionarios\u001b[49m\u001b[43m(\u001b[49m\u001b[43mf1\u001b[49m\u001b[43m,\u001b[49m\u001b[43m \u001b[49m\u001b[43mg1\u001b[49m\u001b[43m)\u001b[49m\n",
      "Cell \u001b[0;32mIn[91], line 18\u001b[0m, in \u001b[0;36mpuntos_estacionarios\u001b[0;34m(f, g)\u001b[0m\n\u001b[1;32m     16\u001b[0m \u001b[38;5;28;01mwhile\u001b[39;00m error(x1, y1, x2, y2) \u001b[38;5;241m>\u001b[39m precision:\n\u001b[1;32m     17\u001b[0m     \u001b[38;5;28;01mif\u001b[39;00m iteraciones \u001b[38;5;241m>\u001b[39m \u001b[38;5;241m1000000\u001b[39m:\n\u001b[0;32m---> 18\u001b[0m         \u001b[38;5;28;01mraise\u001b[39;00m \u001b[38;5;167;01mValueError\u001b[39;00m(\u001b[38;5;124m\"\u001b[39m\u001b[38;5;124mNo converge a una solución.\u001b[39m\u001b[38;5;124m\"\u001b[39m)\n\u001b[1;32m     20\u001b[0m     x1, y1 \u001b[38;5;241m=\u001b[39m x2, y2\n\u001b[1;32m     21\u001b[0m     x2, y2 \u001b[38;5;241m=\u001b[39m f(x1, y1), g(x1, y1)\n",
      "\u001b[0;31mValueError\u001b[0m: No converge a una solución."
     ]
    }
   ],
   "source": [
    "puntos_estacionarios(f1, g1)"
   ]
  },
  {
   "cell_type": "markdown",
   "id": "ad2651ef-e0c3-4181-bad5-307321b10c81",
   "metadata": {},
   "source": [
    "<h3>(c) Encuentra una forma diferente de reorganizar</h3>"
   ]
  },
  {
   "cell_type": "markdown",
   "id": "91781b96-2213-4a3a-96c1-7275ce862bb2",
   "metadata": {},
   "source": [
    "Reordenando las expresiones llegamos a las siguientes expresiones:\n",
    "\n",
    "$$\n",
    "    \\begin{align*}\n",
    "        x &= \\dfrac{b}{y} - a,\\\\\n",
    "        y &= \\dfrac{x}{a + x^{2}}.\n",
    "    \\end{align*}\n",
    "$$"
   ]
  },
  {
   "cell_type": "code",
   "execution_count": 93,
   "id": "4fb81fea-45b5-48fd-92ad-2791368a9a20",
   "metadata": {},
   "outputs": [],
   "source": [
    "a = 1\n",
    "b = 2\n",
    "\n",
    "f2 = lambda x, y: np.sqrt((b / y) - a)\n",
    "g2 = lambda x, y: x / (a + x ** 2)"
   ]
  },
  {
   "cell_type": "code",
   "execution_count": 94,
   "id": "e6c89053-efb9-451d-ad1b-616e14a4f37c",
   "metadata": {},
   "outputs": [
    {
     "name": "stdout",
     "output_type": "stream",
     "text": [
      "La solución encontrada en 29 iteraciones es:\n",
      " x = 2.0000007317806836 y y = 0.4.\n"
     ]
    }
   ],
   "source": [
    "puntos_estacionarios(f2, g2)"
   ]
  },
  {
   "cell_type": "markdown",
   "id": "331bf1ae-7aee-45d0-be97-63b55e48a10d",
   "metadata": {},
   "source": [
    "<h2>5. Constante de desplazamiento de Wien</h2>"
   ]
  },
  {
   "cell_type": "markdown",
   "id": "b97a260f-7008-40ac-b204-2d51a781163a",
   "metadata": {},
   "source": [
    "<h3>(a) Demuestra que $\\lambda$ obedece al desplazamiento de Wienley</h3>"
   ]
  },
  {
   "cell_type": "code",
   "execution_count": null,
   "id": "1b999d1b-c5fc-4fce-9308-14889e7d69aa",
   "metadata": {},
   "outputs": [],
   "source": []
  },
  {
   "cell_type": "code",
   "execution_count": null,
   "id": "4d258692-6122-444f-84d3-c24d2c7a3239",
   "metadata": {},
   "outputs": [],
   "source": []
  },
  {
   "cell_type": "markdown",
   "id": "b36c8e4d-da02-43cb-b131-9044ce19662b",
   "metadata": {},
   "source": [
    "<h3>(b) Resolver ecuación con precisión $\\epsilon = 10^{-6}$</h3>"
   ]
  },
  {
   "cell_type": "code",
   "execution_count": 7,
   "id": "eacc7d5b-f4a1-4716-8bec-f990d2ac7165",
   "metadata": {},
   "outputs": [],
   "source": [
    "ϵ = 1e-6 # Precisión\n",
    "f = lambda x: 5 * np.exp(-x) + x - 5\n",
    "\n",
    "def binary_search(f, x1, x2, precision):\n",
    "    # Punto medio x'\n",
    "    def punto_medio(x1, x2):\n",
    "        return (x1 + x2) / 2\n",
    "        \n",
    "    while np.abs(x1 - x2) > ϵ:\n",
    "        x_p = punto_medio(x1, x2)\n",
    "\n",
    "        # Verificamos si f(x') comparte signo con f(x1)\n",
    "        if f(x1) * f(x_p) > 0:\n",
    "            x1 = x_p\n",
    "        else:\n",
    "            x2 = x_p\n",
    "\n",
    "    return punto_medio(x1, x2)"
   ]
  },
  {
   "cell_type": "code",
   "execution_count": 21,
   "id": "5ce1e80e-59f0-4c41-a10f-615c78527cb5",
   "metadata": {},
   "outputs": [
    {
     "data": {
      "text/plain": [
       "4.96511447429657"
      ]
     },
     "execution_count": 21,
     "metadata": {},
     "output_type": "execute_result"
    }
   ],
   "source": [
    "binary_search(f, 2, 5, ϵ)"
   ]
  },
  {
   "cell_type": "markdown",
   "id": "b8f4b2b6-5729-4d72-a34d-845b8a28200d",
   "metadata": {},
   "source": [
    "<p style=\"font-size:10px;font-style:italic;text-align:right\"><a href=\"https://es.wikipedia.org/wiki/Ley_de_desplazamiento_de_Wien#Descripci%C3%B3n\" target=\"_blank\">Ley de desplazamiento de Wien</a></p>"
   ]
  },
  {
   "cell_type": "markdown",
   "id": "c514dc0f-4056-4734-ab98-41306c5b000e",
   "metadata": {},
   "source": [
    "<h3>(c) Estima la temperatura de la superficie del Sol</h3>"
   ]
  },
  {
   "cell_type": "markdown",
   "id": "4c54c8c7-3da5-4c02-a473-b35c8354c91f",
   "metadata": {},
   "source": [
    "Resolvemos la siguiente expresión para la temperatura $T$,\n",
    "\n",
    "$$\n",
    "    \\begin{align*}\n",
    "        \\lambda &= \\dfrac{b}{T},\\\\\n",
    "        \\implies\\, T &= \\dfrac{b}{\\lambda},\n",
    "    \\end{align*}\n",
    "$$\n",
    "\n",
    "con $b = hc / \\kappa_{B}x.$"
   ]
  },
  {
   "cell_type": "code",
   "execution_count": 24,
   "id": "98c7eda9-05ad-4392-b9e1-9e4ae357e6e2",
   "metadata": {},
   "outputs": [],
   "source": [
    "def temperatura(x, λ):\n",
    "    k_b = constants.k # Constante de Boltzmann\n",
    "    h = constants.h # Constante de Planck\n",
    "    c = constants.c # Velocidad de la luz\n",
    "\n",
    "    b = (h * c) / (k_b * x) # Constante de desplazamiento de Wien\n",
    "\n",
    "    return b / λ"
   ]
  },
  {
   "cell_type": "code",
   "execution_count": 26,
   "id": "1313ef21-ce37-4c07-a8ab-54b49e750dde",
   "metadata": {},
   "outputs": [
    {
     "name": "stdout",
     "output_type": "stream",
     "text": [
      "La temperatura de la superficie del Sol es: 5772.453812002484 K\n"
     ]
    }
   ],
   "source": [
    "ϵ = 1e-6 # Precisión\n",
    "f = lambda x: 5 * np.exp(-x) + x - 5\n",
    "x = binary_search(f, 2, 5, ϵ) # Solución de f\n",
    "λ = 502e-9 # λ en la radiación emitida por el sol\n",
    "T = temperatura(x, λ)\n",
    "print(f\"La temperatura de la superficie del Sol es: {T} K\")"
   ]
  },
  {
   "cell_type": "markdown",
   "id": "aaa2bc52-e4d6-474c-8afe-52f4dc3203c8",
   "metadata": {},
   "source": [
    "<p style=\"font-size:10px;font-style:italic;text-align:right\"><a href=\"https://es.wikipedia.org/wiki/Sol\" target=\"_blank\">Temperatura del Sol</a></p>"
   ]
  },
  {
   "cell_type": "markdown",
   "id": "7a6b206b-aca8-4b1c-ad2f-8cc5113b38f9",
   "metadata": {},
   "source": [
    "<h2>6. El punto de Lagrange</h2>"
   ]
  },
  {
   "cell_type": "markdown",
   "id": "bdc46de0-6661-4451-81ce-4f27cf7b0639",
   "metadata": {},
   "source": [
    "<h3>(a) Demuestra que la distancia $r$ satisface una ecuación</h3>"
   ]
  },
  {
   "cell_type": "code",
   "execution_count": null,
   "id": "55c5af31-adec-49f1-9b80-92cda19ab422",
   "metadata": {},
   "outputs": [],
   "source": []
  },
  {
   "cell_type": "code",
   "execution_count": null,
   "id": "949b9895-d9a1-437a-9306-00b739f42be7",
   "metadata": {},
   "outputs": [],
   "source": []
  },
  {
   "cell_type": "markdown",
   "id": "5dff45d0-5a28-42b6-b6dc-e2629ff6fe1a",
   "metadata": {},
   "source": [
    "<h3>(b) Resuelve usando el método de Newton</h3>"
   ]
  },
  {
   "cell_type": "code",
   "execution_count": null,
   "id": "8d593693-bf79-4933-9ce6-8783c91aee59",
   "metadata": {},
   "outputs": [],
   "source": []
  },
  {
   "cell_type": "code",
   "execution_count": null,
   "id": "55db29b5-7197-49fa-8a63-cdcde8c84069",
   "metadata": {},
   "outputs": [],
   "source": []
  }
 ],
 "metadata": {
  "kernelspec": {
   "display_name": "Python 3 (ipykernel)",
   "language": "python",
   "name": "python3"
  },
  "language_info": {
   "codemirror_mode": {
    "name": "ipython",
    "version": 3
   },
   "file_extension": ".py",
   "mimetype": "text/x-python",
   "name": "python",
   "nbconvert_exporter": "python",
   "pygments_lexer": "ipython3",
   "version": "3.12.3"
  }
 },
 "nbformat": 4,
 "nbformat_minor": 5
}
