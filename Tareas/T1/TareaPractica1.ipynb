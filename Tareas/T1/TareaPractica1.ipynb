{
 "cells": [
  {
   "cell_type": "markdown",
   "metadata": {},
   "source": [
    "<h1 align=\"center\">Física Computacional.</h1>\n",
    "<h1 align=\"center\">Semestre 2015-1</h1>\n",
    "\n",
    "<h2>Sergio A. Alcalá Corona </h2> \n",
    "\n",
    "---\n",
    "### Rodrigo Vega Vilchis\n",
    "### Joel Gómez Uribe\n",
    "---"
   ]
  },
  {
   "cell_type": "markdown",
   "metadata": {},
   "source": [
    "<h1 align=\"center\">Programación para la física computacional</h1> \n",
    "\n",
    "## Práctica 1.  Programación para la física computacional\n",
    "\n",
    "\n",
    "### Programación básica para la física\n",
    "\n",
    "---"
   ]
  },
  {
   "cell_type": "markdown",
   "metadata": {},
   "source": [
    "### EJERCICIOS:\n",
    "\n",
    "\n",
    "**1. Coordenadas polares y cartesianas:** Supongamos que se nos da (es decir, el usuario introduce) la posición de un punto en un espacio bidimensional: \n",
    " \n",
    "(a) Si el punto se especifica  en coordenadas polares $r$,$\\theta$. Escribe un programa (en `python` sin usar la biblioteca `numpy`) que calcule e imprima la conversión a coordenadas cartesianas $x$, $y$."
   ]
  },
  {
   "cell_type": "code",
   "execution_count": 1,
   "metadata": {},
   "outputs": [],
   "source": [
    "import math"
   ]
  },
  {
   "cell_type": "code",
   "execution_count": 2,
   "metadata": {},
   "outputs": [
    {
     "name": "stdout",
     "output_type": "stream",
     "text": [
      "Ingresa el valor del radio:  10\n",
      "Ingresa el valor del ángulo (en grados):  45\n"
     ]
    },
    {
     "name": "stdout",
     "output_type": "stream",
     "text": [
      "El punto (10.0,45.0) en coordendas cartesiandas es (7.0710678118654755, 7.071067811865475).\n"
     ]
    }
   ],
   "source": [
    "radio = float(input(\"Ingresa el valor del radio: \"))\n",
    "ang_deg = float(input(\"Ingresa el valor del ángulo (en grados): \"))\n",
    "\n",
    "ang_rad = (ang_deg * math.pi) / 180\n",
    "x = radio * math.cos(ang_rad)\n",
    "y = radio * math.sin(ang_rad)\n",
    "\n",
    "print(f\"El punto ({radio},{ang_deg}) en coordendas cartesiandas es ({x}, {y}).\")"
   ]
  },
  {
   "cell_type": "markdown",
   "metadata": {},
   "source": [
    "(b) Si el punto se especifica en coordenadas cartesianas $x$, $y$. Escribe un programa (en `python` sin usar `numpy`) que calcule e imprima la conversión a coordenadas polares $r$,$\\theta$."
   ]
  },
  {
   "cell_type": "code",
   "execution_count": 3,
   "metadata": {},
   "outputs": [
    {
     "name": "stdout",
     "output_type": "stream",
     "text": [
      "Ingresa la compenente x:  7.0710678118654755\n",
      "Ingresa la compenente y:  7.071067811865475\n"
     ]
    }
   ],
   "source": [
    "x = float(input(\"Ingresa la compenente x: \"))\n",
    "y = float(input(\"Ingresa la compenente y: \"))"
   ]
  },
  {
   "cell_type": "code",
   "execution_count": 4,
   "metadata": {},
   "outputs": [
    {
     "name": "stdout",
     "output_type": "stream",
     "text": [
      "El punto (7.0710678118654755,7.071067811865475) en coordenadas polares es (10.0, 45.0°).\n"
     ]
    }
   ],
   "source": [
    "radio = math.sqrt(pow(x,2) + pow(y,2))\n",
    "ang_rad = math.atan(y / x)\n",
    "ang_deg = (ang_rad * 180) / math.pi\n",
    "\n",
    "print(f\"El punto ({x},{y}) en coordenadas polares es ({radio}, {ang_deg}°).\")"
   ]
  },
  {
   "cell_type": "markdown",
   "metadata": {},
   "source": [
    "**2. Productos vectoriales y matriciales:** Escribe el pseudocódigo de los algoritmos que realicen las siguientes operaciones vectoriales; así como los respectivos programas en `python`, sin usar bibliotecas como `numpy` ni cualquier otra (*i.e.* usando sólo listas ) que implementen dichos algoritmos:\n",
    "\n",
    "(a) El *producto interior* (producto punto) de dos vectores en $\\mathbb{R}^3$. En este caso, para la implementación el usuario del programa debe insertar las entradas de los vectores."
   ]
  },
  {
   "cell_type": "markdown",
   "metadata": {},
   "source": [
    "<div class=\"alert alert-block alert-info\">\n",
    "<strong>Producto punto de dos vectores $\\vec{u}\\cdot\\vec{v}$</strong> <br>\n",
    "</div>\n",
    "   <strong>Entrada</strong>: Dos vectores $\\vec{u},\\vec{v}\\in\\mathbb{R}^{3}$<br>\n",
    "          $\\vec{u} = (u_{1}, u_{2}, u_{3})$<br>\n",
    "          $\\vec{v} = (v_{1}, v_{2}, v_{3})$<br>\n",
    "\n",
    "$r = 0$<br>\n",
    "para cada $i = 0$ hasta $2$<br>\n",
    "  $\\quad r = r + u[i]\\cdot v[i]$\n",
    "<br>\n",
    "print $r$<br>\n",
    "<strong>Salida</strong>: Un escalar."
   ]
  },
  {
   "cell_type": "code",
   "execution_count": 55,
   "metadata": {},
   "outputs": [
    {
     "name": "stdout",
     "output_type": "stream",
     "text": [
      "Ingresa el vector u, e.g. 123: 123\n",
      "Ingresa el vector v, e.g. 456: 456\n"
     ]
    },
    {
     "name": "stdout",
     "output_type": "stream",
     "text": [
      "El resultado del producto punto es 32.\n"
     ]
    }
   ],
   "source": [
    "u = input(\"Ingresa el vector u, e.g. 123:\")\n",
    "v = input(\"Ingresa el vector v, e.g. 456:\")\n",
    "\n",
    "u_vect = [int(comp) for comp in u]\n",
    "v_vect = [int(comp) for comp in v]\n",
    "\n",
    "res = 0\n",
    "\n",
    "for comp in range(3):\n",
    "    res += u_vect[comp] * v_vect[comp]\n",
    "\n",
    "print(f\"El resultado del producto punto es {res}.\")"
   ]
  },
  {
   "cell_type": "markdown",
   "metadata": {},
   "source": [
    "(b) El producto interior de dos vectores en $\\mathbb{R}^n$. Para la implementación, en este caso, encuentra una manera de generar dos vectores diferentes en $\\mathbb{R}^n$<a name=\"cite_ref-1\"></a>[<sup>[1]</sup>](#cite_note-1)."
   ]
  },
  {
   "cell_type": "markdown",
   "metadata": {},
   "source": [
    "<div class=\"alert alert-block alert-info\">\n",
    "    <strong>Producto interior de dos vectores diferentes en $\\mathbb{R}^{n}$</strong>\n",
    "</div>\n",
    "\n",
    "<strong>Entrada</strong>: Dos vectores diferentes $\\vec{u},\\,\\vec{v}\\in\\mathbb{R}^{n}$<br>\n",
    "          $\\vec{u} = (u_{1}, \\dots, u_{n})$<br>\n",
    "          $\\vec{v} = (v_{1}, \\dots, v_{n})$<br>\n",
    "1. Pedir al usuario la dimensión $n$.\n",
    "2. Definir $\\vec{u}$ de dimensión $n$.\n",
    "3. Definir $\\vec{v}$ de dimensión $n$.\n",
    "4. Definir variable para el resultado $res$\n",
    "\n",
    "    $res = 0$<br>\n",
    "\n",
    "    para cada $elem = 0 \\to n$: <br>\n",
    "        $\\quad res = res + u[elem]\\cdot v[elem]$<br>\n",
    "    print $res$\n",
    "\n",
    "<strong>Salida</strong>: Un escalar."
   ]
  },
  {
   "cell_type": "code",
   "execution_count": 57,
   "metadata": {},
   "outputs": [],
   "source": [
    "import numpy as np"
   ]
  },
  {
   "cell_type": "code",
   "execution_count": 58,
   "metadata": {},
   "outputs": [
    {
     "name": "stdout",
     "output_type": "stream",
     "text": [
      "Ingresa la dimensión de los vectores:  5\n"
     ]
    },
    {
     "name": "stdout",
     "output_type": "stream",
     "text": [
      "El resultado del producto punto es 1.3992720025185448\n"
     ]
    }
   ],
   "source": [
    "n = int(input(\"Ingresa la dimensión de los vectores: \"))\n",
    "\n",
    "u = np.random.rand(n)\n",
    "v = np.random.rand(n)\n",
    "\n",
    "res = 0\n",
    "\n",
    "for elem in range(n):\n",
    "    res += u[elem] * v[elem]\n",
    "\n",
    "print(f\"El resultado del producto punto es {res}\")"
   ]
  },
  {
   "cell_type": "markdown",
   "metadata": {},
   "source": [
    "(c) El producto de una matriz en $\\mathbb{A} \\in \\mathbb{R}^{nxn}$, por un vector de $\\mathbb{R}^n$. Para la implementación las entradas tanto del vector como de la matriz deben leerse de un archivo de datos (que tú puedes generar)."
   ]
  },
  {
   "cell_type": "markdown",
   "metadata": {},
   "source": [
    "<div class=\"alert alert-block alert-info\">\n",
    "    <strong>Producto de una matriz $\\mathbb{A}\\in\\mathbb{R}^{n\\times n}$ por un vector $\\vec{u}\\in\\mathbb{R}^{n}$</strong>\n",
    "</div>\n",
    "<strong>Entrada</strong>: Una matrix $\\mathbb{A}_{n\\times n}$ y un vector $\\vec{u}\\in\\mathbb{R}^{n}$.<br>\n",
    "\n",
    "1. Pedir al usuario la dimensión $n$.  \n",
    "2. Crear el archivo de datos.  \n",
    "   - Crear el archivo ``datos.dat``.    \n",
    "   - Escribir los datos en el archivo\n",
    "    \n",
    "     para cada $i=1 \\to n + 1$:<br>\n",
    "          $\\quad$escribir $i$\n",
    "3. Leer archivo ``datos.dat``\n",
    "   - Asignar los datos a un vector $v$\n",
    "\n",
    "     $v = [\\;]$<br>\n",
    "     para cada $dato$ en ``datos.dat``:<br>\n",
    "         $\\quad$agregar $dato$ a $v$  \n",
    "\n",
    "   - Asignar $v$ $n$-veces a una matriz\n",
    "  \n",
    "     $A = [0] * n$<br>\n",
    "     para cada $i=0 \\to n$:<br>\n",
    "  \n",
    "        $\\quad A[i] = v $\n",
    "  \n",
    "4. Realizar producto de matriz por vector\n",
    "\n",
    "    $res = [0] * n$<br>\n",
    "    para cada $i=0\\to n$:<br>\n",
    "        $\\quad$para cada $j=0\\to n$:  \n",
    "                 $\\qquad res[i] = res[i] + A[i][j]\\cdot v[j]$\n",
    "5. Imprimir resultado $res$\n",
    "     \n",
    "\n",
    "<strong>Salida</strong>: Un vector $\\vec{v}\\in\\mathbb{R}^{n}$."
   ]
  },
  {
   "cell_type": "code",
   "execution_count": 176,
   "metadata": {},
   "outputs": [
    {
     "name": "stdout",
     "output_type": "stream",
     "text": [
      "Ingresa la dimensión de la matrix y del vector:  2\n"
     ]
    },
    {
     "name": "stdout",
     "output_type": "stream",
     "text": [
      "El vector es [5, 5].\n"
     ]
    }
   ],
   "source": [
    "n = int(input(\"Ingresa la dimensión de la matrix y del vector: \"))\n",
    "\n",
    "with open(\"datos.dat\", \"w\") as out:\n",
    "    for i in range(1, n + 1):\n",
    "        out.write(f\"{i}\\n\")\n",
    "\n",
    "with open(\"datos.dat\", \"r\") as file:\n",
    "    v = []\n",
    "    for dato in file.readlines():\n",
    "        v.append(int(dato))\n",
    "        \n",
    "A = [v for _ in range(n)]\n",
    "\n",
    "res = [0] * n\n",
    "\n",
    "for i in range(n):\n",
    "    for j in range(n):\n",
    "        res[i] = res[i] + A[i][j] * v[j]   \n",
    "\n",
    "print(f\"El vector es {res}.\")"
   ]
  },
  {
   "cell_type": "markdown",
   "metadata": {},
   "source": [
    "(d) El producto de dos matrices $\\mathbb{A}, \\mathbb{B} \\in \\mathbb{R}^{nxn}$. En la implementación las entradas de ambas matrices deben leerse de un archivo de datos (que tú generes).\n"
   ]
  },
  {
   "cell_type": "markdown",
   "metadata": {},
   "source": [
    "<div class=\"alert alert-block alert-info\">\n",
    "    <strong>Producto de dos matrices $\\mathbb{A},\\ \\mathbb{B}\\in\\mathbb{R}^{n\\times n}$</strong>\n",
    "</div>\n",
    "<strong>Entrada</strong>: Dos matrices $\\mathbb{A}_{n\\times n}$ y $\\mathbb{B}_{n\\times n}$.<br>\n",
    "\n",
    "1. Pedir al usuario la dimensión $n$.  \n",
    "2. Crear el archivo de datos.  \n",
    "   - Crear el archivo ``datos.dat``.    \n",
    "   - Escribir los datos en el archivo\n",
    "    \n",
    "     para cada $i=1 \\to n + 1$:<br>\n",
    "          $\\quad$escribir $i$\n",
    "3. Leer el archivo ``datos.dat``\n",
    "   - Asignar el archivo a una variable  \n",
    "      $\\quad datos =\\,$ ``datos.dat``\n",
    "   - Asignar los datos a una variable $A$\n",
    "\n",
    "     $A = [[0] * n] * n$<br>\n",
    "     para cada $i=0\\to n$:<br>\n",
    "         $\\quad j = 0$<br>\n",
    "         $\\quad$para $dato$ en datos:<br>\n",
    "               $\\qquad A[i][j] = int(dato)$<br>\n",
    "               $\\qquad j = j + 1$\n",
    "\n",
    "   - Hacer una copia de la matrix $A$\n",
    "  \n",
    "     $B = [0] * n $<br>\n",
    "     para cada $fila = 0\\to n$:<br>\n",
    "         $\\quad B[fila] = A[fila]$\n",
    "  \n",
    "4. Realizar producto de matrices\n",
    "\n",
    "    $C = [[0] * n] * n$<br>\n",
    "    para cada $i=0\\to n$:<br>\n",
    "        $\\quad$para cada $j=0\\to n$:  \n",
    "                 $\\qquad C[i][j] = C[i][j] + A[i][j]\\cdot B[j][i]$\n",
    "5. Imprimir resultado $C$\n",
    "\n",
    "<strong>Salida</strong>: Una matrix $\\mathbb{C}\\in\\mathbb{R}^{n\\times n}$."
   ]
  },
  {
   "cell_type": "code",
   "execution_count": 24,
   "metadata": {},
   "outputs": [
    {
     "name": "stdin",
     "output_type": "stream",
     "text": [
      "Ingresa la dimensión de las matrices:  4\n"
     ]
    },
    {
     "name": "stdout",
     "output_type": "stream",
     "text": [
      "La matriz A es [[1, 2, 3, 4], [1, 2, 3, 4], [1, 2, 3, 4], [1, 2, 3, 4]]\n",
      "La matriz B es [[1, 2, 3, 4], [1, 2, 3, 4], [1, 2, 3, 4], [1, 2, 3, 4]]\n",
      "La matriz resultante es [[10, 20, 30, 40], [10, 20, 30, 40], [10, 20, 30, 40], [10, 20, 30, 40]]\n"
     ]
    }
   ],
   "source": [
    "n = int(input(\"Ingresa la dimensión de las matrices: \"))\n",
    "\n",
    "with open(\"datos.dat\", \"w\") as out:\n",
    "    for i in range(1, n + 1):\n",
    "        out.write(f\"{i}\\n\")\n",
    "\n",
    "datos = open(\"datos.dat\", \"r\")\n",
    "\n",
    "A = [[0] * n] * n\n",
    "\n",
    "for i in range(n):\n",
    "    j = 0\n",
    "    for dato in datos:\n",
    "        A[i][j] = int(dato)\n",
    "        j += 1\n",
    "\n",
    "B = [A[row] for row in range(n)]\n",
    "\n",
    "C = [[0] * n] * n\n",
    "\n",
    "for i in range(n):\n",
    "    for j in range(n):\n",
    "        C[i][j] += A[i][j] * B[j][i]\n",
    "\n",
    "\n",
    "print(f\"La matriz A es {A}\")\n",
    "print(f\"La matriz B es {B}\")\n",
    "print(f\"La matriz resultante es {C}\")"
   ]
  },
  {
   "cell_type": "markdown",
   "metadata": {},
   "source": [
    "(e) Convierte tus códigos en funciones y generaliza todo en un única función que realice el producto de dos matrices $\\mathbb{A}, \\in \\mathbb{R}^{nm}$ y $\\mathbb{B} \\in \\mathbb{R}^{mn}$, así como el cálculo de cualquiera de los incisos anteriores, dependiendo de la entrada que se le de a la función.En todos los casos, las entradas deben leerse de un archivo de datos."
   ]
  },
  {
   "cell_type": "code",
   "execution_count": 48,
   "metadata": {},
   "outputs": [],
   "source": [
    "import random\n",
    "\n",
    "def prod_int(u: list, v:list):\n",
    "    res = 0\n",
    "    \n",
    "    if len(u) == 3 and len(v) == 3:\n",
    "        for comp in range(3):\n",
    "            res += u[comp] * v[comp]\n",
    "        return res\n",
    "    else:\n",
    "        for comp in range(len(u)):\n",
    "            res += u[comp] * v[comp]\n",
    "        return res\n",
    "\n",
    "def prod_matriz_vect(A: list, u: list):\n",
    "    res = [0 for _ in range(n)]\n",
    "    for i in range(n):\n",
    "        for j in range(n):\n",
    "            res[i] = prod_int(A[i], u)\n",
    "    return res\n",
    "\n",
    "def prod_matriz_matriz(A: list, B: list):\n",
    "    C = [[0 for _ in range(n)] for _ in range(n)]\n",
    "\n",
    "    for i in range(n):\n",
    "        for j in range(n):\n",
    "            for k in range(n):\n",
    "                C[i][j] += A[i][k] * B[k][j]\n",
    "\n",
    "    return C\n",
    "\n",
    "def generar_datos(n: int):\n",
    "    with open(\"datos.dat\", \"w\") as out:\n",
    "        for i in range(1, n + 1):\n",
    "            out.write(f\"{random.randint(1,10) * i}\\n\")\n",
    "            \n",
    "def leer_datos():\n",
    "    with open(\"datos.dat\", \"r\") as file:\n",
    "        datos = []\n",
    "        for dato in file.readlines():\n",
    "            datos.append(int(dato))\n",
    "    return datos"
   ]
  },
  {
   "cell_type": "code",
   "execution_count": 59,
   "metadata": {},
   "outputs": [],
   "source": [
    "def productos_mat_vec():\n",
    "    while True:\n",
    "        n = int(input(\"Ingresa la dimensión n: \"))\n",
    "        opt = input(\"\"\"\n",
    "            Elige alguna de las opciones siguientes:\n",
    "            1: Producto interior en tres dimensiones.\n",
    "            2: Producto interior en n-dimensiones.\n",
    "            3: Producto de una matriz nxn con un vector\n",
    "            4: Producto de matrices nxn\n",
    "            Escribe \"salir\" para detener el programa. \n",
    "            Opción: \"\"\")\n",
    "        \n",
    "        generar_datos(n)\n",
    "\n",
    "        datos = leer_datos()\n",
    "    \n",
    "        if opt == \"1\":\n",
    "            u = datos\n",
    "            v = [random.randint(2,4) * datos[i] for i in range(n)]\n",
    "\n",
    "            if len(u) != 3 or len(v) != 3:\n",
    "                print(f\"Elegiste la opción 1, pero el vector es de dimensión {len(u)}. Intenta nuevamente.\")\n",
    "                break\n",
    "            \n",
    "            print(f\"El producto interior es {prod_int(u, v)}.\")\n",
    "            \n",
    "        elif opt == \"2\":\n",
    "            u = datos\n",
    "            v = [random.randint(1,3)*dato for dato in datos]\n",
    "\n",
    "            print(f\"El producto interior es {prod_int(u, v)}.\")\n",
    "            \n",
    "        elif opt == \"3\":\n",
    "            v = datos\n",
    "            A = [[random.randint(1,5) * v[j] for j in range(n)] for i in range(n)]\n",
    "            \n",
    "            print(f\"El vector resultante es {prod_matriz_vect(A, v)}.\")\n",
    "            \n",
    "        elif opt == \"4\":\n",
    "            A = [[random.randint(1,5) * datos[j] for j in range(n)] for i in range(n)]\n",
    "            B = [[random.randint(1,5) * datos[j] for j in range(n)] for i in range(n)]\n",
    "            print(f\"La matriz resultante es {prod_matriz_matriz(A, B)}\")\n",
    "    \n",
    "        elif opt == \"salir\":\n",
    "            print(\"Adiós.\")\n",
    "            break\n",
    "        else:\n",
    "            print(\"Esta no es una opción válida. Inténtalo nuevamente.\")"
   ]
  },
  {
   "cell_type": "code",
   "execution_count": 60,
   "metadata": {},
   "outputs": [
    {
     "name": "stdin",
     "output_type": "stream",
     "text": [
      "Ingresa la dimensión n:  4\n",
      "\n",
      "            Elige alguna de las opciones siguientes:\n",
      "            1: Producto interior en tres dimensiones.\n",
      "            2: Producto interior en n-dimensiones.\n",
      "            3: Producto de una matriz nxn con un vector\n",
      "            4: Producto de matrices nxn\n",
      "            Escribe \"salir\" para detener el programa. \n",
      "            Opción:  4\n"
     ]
    },
    {
     "name": "stdout",
     "output_type": "stream",
     "text": [
      "La matriz resultante es [[5313, 6050, 9234, 12992], [3031, 3630, 3726, 5600], [5691, 7150, 12150, 16744], [2863, 2830, 4446, 6328]]\n"
     ]
    },
    {
     "name": "stdin",
     "output_type": "stream",
     "text": [
      "Ingresa la dimensión n:  3\n",
      "\n",
      "            Elige alguna de las opciones siguientes:\n",
      "            1: Producto interior en tres dimensiones.\n",
      "            2: Producto interior en n-dimensiones.\n",
      "            3: Producto de una matriz nxn con un vector\n",
      "            4: Producto de matrices nxn\n",
      "            Escribe \"salir\" para detener el programa. \n",
      "            Opción:  salir\n"
     ]
    },
    {
     "name": "stdout",
     "output_type": "stream",
     "text": [
      "Adiós.\n"
     ]
    }
   ],
   "source": [
    "productos_mat_vec()"
   ]
  },
  {
   "cell_type": "markdown",
   "metadata": {},
   "source": [
    "**3. Caida de una pelota desde una torre:** Se deja caer una pelota desde una torre de altura $h$. Tiene velocidad inicial cero y acelera hacia abajo con la gravedad. \n",
    "\n",
    "Escribe un programa que le pida al usuario que ingrese la altura en metros de la torre y luego calcule e imprima el tiempo en segundos hasta que la pelota toque el suelo (ignora la resistencia del aire). \n",
    "    \n",
    "Despues, usa tu programa para calcular el tiempo de una pelota lanzada desde una torre de 100 m de altura.\n",
    "\n"
   ]
  },
  {
   "cell_type": "code",
   "execution_count": 1,
   "metadata": {},
   "outputs": [],
   "source": [
    "import math\n",
    "\n",
    "def tiempo_de_caida(h):\n",
    "    v0 = 0\n",
    "    g = 9.81 # m/s^2\n",
    "    \n",
    "    h = float(h)\n",
    "    t = math.sqrt(2*g*h)\n",
    "\n",
    "    print(f\"La altura de la torre es de {h} m.\")\n",
    "    print(f\"El tiempo que tardar en tocar el suelo es de {t:.6} s.\")"
   ]
  },
  {
   "cell_type": "code",
   "execution_count": 2,
   "metadata": {},
   "outputs": [
    {
     "name": "stdout",
     "output_type": "stream",
     "text": [
      "La altura de la torre es de 100.0 m.\n",
      "El tiempo que tardar en tocar el suelo es de 44.2945 s.\n"
     ]
    }
   ],
   "source": [
    "tiempo_de_caida(100)"
   ]
  },
  {
   "cell_type": "markdown",
   "metadata": {},
   "source": [
    "\n",
    "**4. Altitud de un satélite**: se va a lanzar un satélite en una órbita circular alrededor de la Tierra de modo que orbite el planeta una vez cada $T$ segundos."
   ]
  },
  {
   "cell_type": "markdown",
   "metadata": {},
   "source": [
    "(a) Demuestre que la altitud $h$ sobre la superficie de la Tierra que debe tener el satélite es:\n",
    "\n",
    "<h3 align=\"center\">$h = \\biggl( {GMT^2\\over4\\pi^2} \\biggr)^{1/3} - R$,</h3> \n",
    "\n",
    "donde $G = 6,67 × 10^{−11} m^3 kg^{−1}s^{−2}$ es la constante gravitatoria de Newton, $M = 5,97 ×\n",
    "1024 kg$ es la masa de la Tierra, y $R = 6371 km$ es su radio.\n",
    "\n",
    "\n"
   ]
  },
  {
   "cell_type": "markdown",
   "metadata": {},
   "source": [
    "<div class=\"alert alert-block alert-success\">\n",
    "Del siguiente diagrama podemos observar las fuerzas que actúan en nuestro sistema:<br>\n",
    "    <div align=\"center\"><img src=\"https://github.com/user-attachments/assets/5deb5e57-9384-450c-8e80-f2a0923fadcd\"></div>\n",
    "</div>"
   ]
  },
  {
   "cell_type": "markdown",
   "metadata": {},
   "source": [
    "<div align=center>\n",
    "    <img src=\"https://github.com/user-attachments/assets/72a762b4-4b77-4223-a62e-6b0b8af8211a\">\n",
    "</div>"
   ]
  },
  {
   "cell_type": "markdown",
   "metadata": {},
   "source": [
    "(b) Escribe un programa que le pida al usuario que ingrese el valor deseado de $T$ y luego calcule\n",
    "e imprima la altura correcta en metros.\n"
   ]
  },
  {
   "cell_type": "code",
   "execution_count": 6,
   "metadata": {},
   "outputs": [],
   "source": [
    "G = 6.67e-11 #m^3 kg^{−1}s^{−2}\n",
    "M = 5.97e24 #kg\n",
    "R = 6.371e6 #m"
   ]
  },
  {
   "cell_type": "code",
   "execution_count": 14,
   "metadata": {},
   "outputs": [],
   "source": [
    "import math\n",
    "\n",
    "def tiempo_orbita(T):\n",
    "    T_s = 60 * T\n",
    "    h = ((G * M * (T_s ** 2)) / (4 * (math.pi ** 2))) ** (1/3) - R\n",
    "\n",
    "    print(f\"El satélite orbita una vez cada {T} minutos.\")\n",
    "    print(f\"La altitud del satélite es de {h:.3} m.\")"
   ]
  },
  {
   "cell_type": "markdown",
   "metadata": {},
   "source": [
    "(c) Utiliza tu programa para calcular las altitudes de los satélites que orbitan la Tierra una vez al día (la llamada *órbita \"geosincrónica\"*), una vez cada **90 minutos** y una vez cada **45 minutos**. \n",
    "¿Qué concluyes del último de estos cálculos?"
   ]
  },
  {
   "cell_type": "code",
   "execution_count": 15,
   "metadata": {},
   "outputs": [
    {
     "name": "stdout",
     "output_type": "stream",
     "text": [
      "El satélite orbita una vez cada 720 minutos.\n",
      "La altitud del satélite es de 2.02e+07 m.\n",
      "\n",
      "\n",
      "El satélite orbita una vez cada 90 minutos.\n",
      "La altitud del satélite es de 2.79e+05 m.\n",
      "\n",
      "\n",
      "El satélite orbita una vez cada 45 minutos.\n",
      "La altitud del satélite es de -2.18e+06 m.\n",
      "\n",
      "\n"
     ]
    }
   ],
   "source": [
    "for T in [720, 90, 45]:\n",
    "    tiempo_orbita(T)\n",
    "    print(\"\\n\")"
   ]
  },
  {
   "cell_type": "markdown",
   "metadata": {},
   "source": [
    "<div class=\"alert alert-block alert-info\">\n",
    "    De los resultados anteriores, en particular del último, podemos inferir que existe un valor mínimo para el periodo, pues en caso de no acotarse resultará en valores negativos para la altitud del satélite, i.e., estaría orbitando dentro de la tierra, lo cual no es posible.\n",
    "</div>"
   ]
  },
  {
   "cell_type": "markdown",
   "metadata": {},
   "source": [
    "**5. Relatividad especial:** Una nave espacial viaja desde la Tierra en línea recta a una velocidad relativista $v$ a otro planeta a $x$ años luz de distancia.\n",
    " \n",
    " Escribe un programa que le pida al usuario el valor de $x$ y la velocidad $v$ como una fracción de la velocidad de la luz $c$, y que imprima el tiempo en años que tarda la nave espacial en llegar a su destino\n",
    " \n",
    "(a) en el marco de reposo de un observador en la Tierra y "
   ]
  },
  {
   "cell_type": "code",
   "execution_count": 72,
   "metadata": {},
   "outputs": [],
   "source": [
    "c = 3e8 #m/s\n",
    "\n",
    "def tiempo_tierra(x, v):\n",
    "    t = x / v\n",
    "    return t"
   ]
  },
  {
   "cell_type": "code",
   "execution_count": 78,
   "metadata": {},
   "outputs": [
    {
     "name": "stdout",
     "output_type": "stream",
     "text": [
      "El tiempo que tarda la nave en llegar a su destino es de 10.1 años luz.\n"
     ]
    }
   ],
   "source": [
    "t_tierra = tiempo_tierra(10, 0.99)\n",
    "print(f\"El tiempo que tarda la nave en llegar a su destino es de {t_tierra:.4} años luz.\")"
   ]
  },
  {
   "cell_type": "markdown",
   "metadata": {},
   "source": [
    "(b) como lo percibiría un pasajero a bordo de la nave. \n",
    " Usa tu programa para calcular las respuestas para un planeta a 10 años luz de distancia con $v = 0.99c$"
   ]
  },
  {
   "cell_type": "code",
   "execution_count": 74,
   "metadata": {},
   "outputs": [],
   "source": [
    "import math\n",
    "\n",
    "def tiempo_pasajero(x, v):\n",
    "    t_pasajero = math.sqrt(1 - (v ** 2))*tiempo_tierra(x, v) \n",
    "    return t_pasajero"
   ]
  },
  {
   "cell_type": "code",
   "execution_count": 79,
   "metadata": {},
   "outputs": [
    {
     "name": "stdout",
     "output_type": "stream",
     "text": [
      "El tiempo que percibe el pasajero es de 1.425 años luz.\n"
     ]
    }
   ],
   "source": [
    "t_pasajero = tiempo_pasajero(10, 0.99)\n",
    "print(f\"El tiempo que percibe el pasajero es de {t_pasajero:.4} años luz.\")"
   ]
  },
  {
   "cell_type": "markdown",
   "metadata": {},
   "source": [
    "<a name=\"cite_note-1\"></a>[1](#cite_ref-1) sólo para esto si puedes usar `numpy` mas no para realizar el resto del programa"
   ]
  }
 ],
 "metadata": {
  "@webio": {
   "lastCommId": null,
   "lastKernelId": null
  },
  "kernelspec": {
   "display_name": "Python 3 (ipykernel)",
   "language": "python",
   "name": "python3"
  },
  "language_info": {
   "codemirror_mode": {
    "name": "ipython",
    "version": 3
   },
   "file_extension": ".py",
   "mimetype": "text/x-python",
   "name": "python",
   "nbconvert_exporter": "python",
   "pygments_lexer": "ipython3",
   "version": "3.12.3"
  }
 },
 "nbformat": 4,
 "nbformat_minor": 4
}
