{
 "cells": [
  {
   "cell_type": "markdown",
   "id": "2fb0f4ec-9099-4814-b414-14ea032ce822",
   "metadata": {},
   "source": [
    "<h1 align=\"center\">Física Computacional.</h1>\n",
    "<h1 align=\"center\">Semestre 2015-1</h1>\n",
    "\n",
    "<h2>Sergio A. Alcalá Corona </h2> \n",
    "\n",
    "---\n",
    "### Rodrigo Vega Vilchis\n",
    "### Joel Gómez Uribe\n",
    "---"
   ]
  },
  {
   "cell_type": "markdown",
   "id": "3a701489-7331-407d-9e6b-01c41ea606b7",
   "metadata": {},
   "source": [
    "<h1 align=\"center\">Programación para la física computacional</h1> \n",
    "\n",
    "## Práctica 1.  Programación para la física computacional\n",
    "\n",
    "\n",
    "### Programación básica para la física\n",
    "\n",
    "---"
   ]
  },
  {
   "cell_type": "markdown",
   "id": "47dd5234-fa35-470c-8ea1-6d8837d79d3b",
   "metadata": {},
   "source": [
    "### EJERCICIOS:\n",
    "\n",
    "\n",
    "**1. Órbitas planetarias:** En el espacio, la órbita de unc uerpo alrededor de otro (como un planeta alrededor del Sol), no necesariamente es circular. En general, toma la forma de una elipse, con el cuerpo a veces más cerca y otras más lejos. Si tenemos la distancias $\\ell_{1}$ de máxima aproximación de un planeta al Sol (su _perihelio_), y su velocidad inicial $v_{1}$ en el perihelio, entonces cualquier otra propiedad de la órbita se puede calcular a partir de estas dos cantidades de la siguiente manera:"
   ]
  },
  {
   "cell_type": "markdown",
   "id": "9a915deb-b99c-49cc-a331-0bf9fd3c2511",
   "metadata": {},
   "source": [
    "(a) La segunda ley de Kepler nos dice que la distancia $\\ell_{2}$ y la velocidad $v_{2}$ del planeta en su punto más distante, o _afelio_, satisfacen que $\\ell_{2}v_{2} = \\ell_{1}v_{1}$. Al mismo tiempo, la energía total, cinética más la gravitatoria, de un planeta con velocidad $v$ y distancia $r$ del Sol está dada por:\n",
    "\n",
    "\\begin{equation}\n",
    "    E = \\dfrac{1}{2}mv^{2} - G\\dfrac{mM}{r},\n",
    "\\end{equation}\n",
    "\n",
    "donde $m$ es la masa del planeta, $M = 1.9891\\times 10^{30}$ kg es la masa del Sol y $6.6738\\times 10^{-11}$ m$^{3}$ kg$^{-1}$ s$^{-2}$ es la constante gravitatoria de Newton. Dado que la energía debe conservarse, demuestre que $v_{2}$ es la raíz más pequeña de la ecuación cuadrática:\n",
    "\n",
    "\\begin{equation}\n",
    "    v_{2}^{2} - \\dfrac{2GM}{v_{1}\\ell_{1}}v_{2} - \\Biggl[v_{1}^{2} - \\dfrac{2GM}{\\ell_{1}}\\Biggr] = 0.\n",
    "\\end{equation}"
   ]
  },
  {
   "cell_type": "markdown",
   "id": "65cb1eb0-4cad-4c30-b60c-8f3846ec8879",
   "metadata": {},
   "source": [
    "(b) Dados los valores de $v_{1},\\ell_{1}$ y $\\ell_{2}$; otros parámetros de la órbita se obtienen mediante fórmulas simples que pueden derivarse de las leyes de Kepler y del hecho de que la órbita es una elipse:\n",
    "\n",
    "\\begin{align*}\n",
    "    \\text{Semieje mayor}:\\quad a &= \\tfrac{1}{2}(\\ell_{1} + \\ell_{2}),\\\\\n",
    "    \\text{Semieje menor}:\\quad b &= \\sqrt{\\ell_{1}\\ell_{2}},\\\\\n",
    "    \\text{Período orbital}:\\quad T &= \\dfrac{2\\pi ab}{\\ell_{1}v_{1}},\\\\\n",
    "    \\text{Excentricidad orbital}:\\quad e &= \\dfrac{\\ell_{2} - \\ell_{1}}{\\ell_{2} + \\ell_{1}}.\n",
    "\\end{align*}\n",
    "\n",
    "Escribe un programa que le pida al usuario que ingrese la distancia al Sol y la velcidad en el perihelio; para que calcule e imprima las cantitades $\\ell_{2},v_{2}, T$ y $e$."
   ]
  },
  {
   "cell_type": "markdown",
   "id": "c0ffba54-b3a8-438d-bf2e-b28ed904952a",
   "metadata": {},
   "source": [
    "(c) Prueba tu programa haciendo que calcule las propiedades de las órbitas de la Tierra (para las cuales $\\ell_{1} = 1.4710\\times 10^{11}$m y $v_{1} = 3.0287\\times 10^{4}$ms$^{-1}$) y del cometa Halley ($\\ell_{1} = 8.7830\\times 10^{10}$m y $v_{1} = 5.4529\\times 10^{4}$ms$^{-1}$). Entre otras cosas, deberías encontrar que el período orbital de la Tierra es de un año y el del cometa Halley de unos 76 años."
   ]
  },
  {
   "cell_type": "markdown",
   "id": "d53b1862-ba5b-4aee-a545-c6f9f7373aae",
   "metadata": {},
   "source": [
    "**2. La constante de Madelung**\n",
    "\n",
    "En física de la materia condensada, la _constante de Madelung_ da el potencial eléctrico total que siente un átomo en un sólido; y depende de las cargas de los otros átomos cercanos y de sus ubicaciones.\n",
    "\n",
    "Por ejemplo, el cristal de cloruro de sodio sólido (la sal de mesa), tiene átomos dispuestos en una red cúbica, con átomos de sodio y cloro alternados, teniendo los de sodio una carga positiva $+e$ y los de cloro una negativa $-e$, (donde $e$ es la carga del electrón). Si etiquetamos cada posición en la red con tres coordenadas enteras $(i,j,k)$, entonces los átomos de sodio caen en posiciones donde $i + j + k$ es para, y los átomos de clore en posiciones donde $i + j + k$ es impar.\n",
    "\n",
    "Consideremos un átomo de sodio en el origen, i.e. $i = j = k =0$, y calculemos la _constante de Madelung_. Si el espacio de los átomos en la red es $a$, entonces la distancia desde el origen al átomo en la posición $(i,j,k)$ es:\n",
    "\n",
    "\\begin{equation}\n",
    "    \\sqrt{(ia)^{2} + (ja)^{2} + (ka)^{2}} = a \\sqrt{i^{2} + j^{2} + k^{2}},\n",
    "\\end{equation}\n",
    "\n",
    "y el potencial en el origen creado por el átomo es:\n",
    "\n",
    "\\begin{equation}\n",
    "    V(i,j,k) = \\pm \\dfrac{e}{4\\pi\\varepsilon_{0}a\\sqrt{i^{2} + j^{2} + k^{2}}},\n",
    "\\end{equation}\n",
    "\n",
    "siendo $\\varepsilon_{0}$ la permitividad del vacío y el signo de la expresión se toma dependiendo de si $i + j + k$ es par o impar. Así entonces, el potencial total que siente el átomo de sodio es la suma de esta cantidad sobre los demás átomos. Supongamos una caja cúbica alrededor del átomo de sodio en el origen, con $L$ átomos en todas la direcciones, entonces:\n",
    "\n",
    "\\begin{equation}\n",
    "    V_{\\text{total}} = \\sum\\limits_{\\substack{i,j,k=-L\\\\i,j,k\\neq 0}}^{L} V(i,j,k) = \\dfrac{e}{4\\pi\\varepsilon_{0}a}M,\n",
    "\\end{equation}\n",
    "\n",
    "donde $M$ es la constante de Madelung (al menos aproximadamente).\n",
    "\n",
    "Técnicamente, la constante de Madelung es el valor de $M$ cuando $L\\to\\infty$, pero se puede obtener una buena aproximación simplemente usando un valor grande de $L$.\n",
    "Escribe un programa para calcular e imprimir la _constante de Madelung_ para el cloruro de sodio. Utiliza un valor de $L$ tan grande como puedas, sin dejar que tu programa se ejecute en un tiempo razonable (un minuto o menos)."
   ]
  },
  {
   "cell_type": "code",
   "execution_count": 31,
   "id": "6c19de24-3b30-4b2c-a41a-5d927bb4a035",
   "metadata": {},
   "outputs": [],
   "source": [
    "def madelung(L):\n",
    "    M = 0\n",
    "    \n",
    "    for i in range(-L, L + 1):\n",
    "        for j in range(-L, L + 1):\n",
    "            for k in range(-L, L + 1):\n",
    "\n",
    "                if i == j == k == 0:\n",
    "                    continue\n",
    "\n",
    "                potencial = ((i**2 + j**2 + k**2) ** (1 / 2))\n",
    "\n",
    "                if (i + j + k) % 2 == 0:\n",
    "                    M += 1 / potencial\n",
    "                else:\n",
    "                    M -= 1 / potencial\n",
    "    return M"
   ]
  },
  {
   "cell_type": "code",
   "execution_count": 32,
   "id": "e1199795-1349-4a57-b319-d36dcd0f6c7e",
   "metadata": {},
   "outputs": [
    {
     "data": {
      "text/plain": [
       "-1.745643295912666"
      ]
     },
     "execution_count": 32,
     "metadata": {},
     "output_type": "execute_result"
    }
   ],
   "source": [
    "# %%time\n",
    "madelung(300)"
   ]
  },
  {
   "cell_type": "markdown",
   "id": "65aa8475-11b2-4931-81dc-4d4c2026ff12",
   "metadata": {},
   "source": [
    "[Constante de Madelung](https://en.wikipedia.org/wiki/Madelung_constant)"
   ]
  },
  {
   "cell_type": "markdown",
   "id": "e5d15df5-6227-4909-b1fd-64a9b81c44b1",
   "metadata": {},
   "source": [
    "**3. Coeficientes binomiales**\n",
    "\n",
    "El coeficiente binomial $\\begin{pmatrix}n\\\\k\\end{pmatrix}$ es un número entero igual a:\n",
    "\n",
    "\\begin{equation}\n",
    "    \\begin{pmatrix}n\\\\k\\end{pmatrix} = \\dfrac{n!}{k!(n - k)!} = \\dfrac{n\\times(n - 1)\\times\\cdots\\times(n - k + 1)}{1\\times 2\\times \\cdots\\times k},\n",
    "\\end{equation}\n",
    "\n",
    "donde $k\\leq 1$, o bien $\\begin{pmatrix}n\\\\0\\end{pmatrix} = 1$ cuando $k = 0$."
   ]
  },
  {
   "cell_type": "markdown",
   "id": "106b5ee1-3853-43d6-b647-dfffa41de0c1",
   "metadata": {},
   "source": [
    "(a) Utiliza esta fórmula para escribir una función llamada ``binomial(n,k)`` (o como tú quieras) que calcule el coeficiente binomial para $n$ y $k$ dados. Asegúrate de que tu función devuelva la respuesta en forma de número entero (no flotante) y proporcione el valor correcto de 1 para el caso en que $k = 0$."
   ]
  },
  {
   "cell_type": "code",
   "execution_count": 33,
   "id": "413b2d87-839f-44ec-9635-af490d7fe178",
   "metadata": {},
   "outputs": [],
   "source": [
    "def factorial(n:int) -> int:\n",
    "    if n < 2:\n",
    "        return 1\n",
    "    else:\n",
    "        return n * factorial(n - 1)\n",
    "\n",
    "\n",
    "def binomial(n: int, k: int) -> int:\n",
    "    return factorial(n) // (factorial(k) * factorial(n - k))"
   ]
  },
  {
   "cell_type": "code",
   "execution_count": 34,
   "id": "ec6abd4b-0cac-458b-b68d-2d94e27a5b48",
   "metadata": {},
   "outputs": [
    {
     "name": "stdout",
     "output_type": "stream",
     "text": [
      "1\n",
      "1\n",
      "1\n",
      "1\n",
      "1\n"
     ]
    }
   ],
   "source": [
    "for i in range(5):\n",
    "    print(binomial(i, 0))"
   ]
  },
  {
   "cell_type": "markdown",
   "id": "4e9743fe-7068-49eb-8784-a242afd4f312",
   "metadata": {},
   "source": [
    "(b) Usando tu función, escribe un programa que imprima las primera 20 líneas del \"_triángulo de Pascal_\". La $n$-ésima línea del triángulo de Pascal continene $n + 1$ números, que son los coeficientes $\\begin{pmatrix}n\\\\0\\end{pmatrix}$, $\\begin{pmatrix}n\\\\1\\end{pmatrix}$, y así sucesivamente $\\begin{pmatrix}n\\\\k\\end{pmatrix}$. De tal manera que las primeras líneas son:\n",
    "\n",
    "**1**  \n",
    "**1 1**  \n",
    "**1 2 1**  \n",
    "**1 3 3 1**  \n",
    "**1 4 6 4 1**"
   ]
  },
  {
   "cell_type": "code",
   "execution_count": 35,
   "id": "62dee0ae-c5fe-46ce-89b1-27bc4e455b56",
   "metadata": {},
   "outputs": [],
   "source": [
    "def triangulo_pascal(lineas: int):\n",
    "    for n in range(lineas):\n",
    "        for k in range(n + 1):\n",
    "            print(f\" {binomial(n, k)}\", end=\" \")\n",
    "    \n",
    "        print()"
   ]
  },
  {
   "cell_type": "code",
   "execution_count": 36,
   "id": "d1ecbcec-d929-4d4b-82d3-1669cd65cfc5",
   "metadata": {},
   "outputs": [
    {
     "name": "stdout",
     "output_type": "stream",
     "text": [
      " 1 \n",
      " 1  1 \n",
      " 1  2  1 \n",
      " 1  3  3  1 \n",
      " 1  4  6  4  1 \n",
      " 1  5  10  10  5  1 \n",
      " 1  6  15  20  15  6  1 \n",
      " 1  7  21  35  35  21  7  1 \n",
      " 1  8  28  56  70  56  28  8  1 \n",
      " 1  9  36  84  126  126  84  36  9  1 \n",
      " 1  10  45  120  210  252  210  120  45  10  1 \n",
      " 1  11  55  165  330  462  462  330  165  55  11  1 \n",
      " 1  12  66  220  495  792  924  792  495  220  66  12  1 \n",
      " 1  13  78  286  715  1287  1716  1716  1287  715  286  78  13  1 \n",
      " 1  14  91  364  1001  2002  3003  3432  3003  2002  1001  364  91  14  1 \n",
      " 1  15  105  455  1365  3003  5005  6435  6435  5005  3003  1365  455  105  15  1 \n",
      " 1  16  120  560  1820  4368  8008  11440  12870  11440  8008  4368  1820  560  120  16  1 \n",
      " 1  17  136  680  2380  6188  12376  19448  24310  24310  19448  12376  6188  2380  680  136  17  1 \n",
      " 1  18  153  816  3060  8568  18564  31824  43758  48620  43758  31824  18564  8568  3060  816  153  18  1 \n",
      " 1  19  171  969  3876  11628  27132  50388  75582  92378  92378  75582  50388  27132  11628  3876  969  171  19  1 \n"
     ]
    }
   ],
   "source": [
    "triangulo_pascal(20)"
   ]
  },
  {
   "cell_type": "markdown",
   "id": "d6da0677-c75b-49b5-8ba8-d1bc5b10b852",
   "metadata": {},
   "source": [
    "(c) La probabilidad de que para una moneda no sesgada, lanzada $n$ veces, salga águila $k$ veces es:\n",
    "\n",
    "\\begin{equation}\n",
    "    p(k | n) = \\dfrac{\\begin{pmatrix}n\\\\k\\end{pmatrix}}{2^{n}}.\n",
    "\\end{equation}\n",
    "\n",
    "Escribe un programa para calcular:"
   ]
  },
  {
   "cell_type": "markdown",
   "id": "642f1948-0755-40cb-aa1b-3153a7963d7e",
   "metadata": {},
   "source": [
    "i. la probabilidad total de que un a moneda lanzada 100 veces, salga águila exactamente 60 veces"
   ]
  },
  {
   "cell_type": "code",
   "execution_count": 42,
   "id": "41052d8b-349a-4b16-ab56-1362a852cec3",
   "metadata": {},
   "outputs": [
    {
     "name": "stdout",
     "output_type": "stream",
     "text": [
      "La probabilidad total después de lanzar una moneda 100 veces y que salga exactamente 60 veces águila es de 0.010843866711637987\n"
     ]
    }
   ],
   "source": [
    "# def probabilidad(k: int, n: int):\n",
    "def probabilidad_total(n: int, k: int):\n",
    "    prob_tot = binomial(n, k) / (2 ** n)\n",
    "    \n",
    "    return n,k,prob_tot\n",
    "\n",
    "aguila_60 = probabilidad_total(100, 60)\n",
    "print(f\"La probabilidad total después de lanzar una moneda {aguila_60[0]} veces y que salga exactamente {aguila_60[1]} veces águila es de {aguila_60[2]}\")"
   ]
  },
  {
   "cell_type": "markdown",
   "id": "bc899e93-bdd5-4cfb-8a90-2c51f96df61d",
   "metadata": {},
   "source": [
    "ii. la probabilidad de que salga águila 60 veces o más."
   ]
  },
  {
   "cell_type": "code",
   "execution_count": 43,
   "id": "b2f3ad47-e13d-4428-a32b-fe6d3d8055b3",
   "metadata": {},
   "outputs": [
    {
     "name": "stdout",
     "output_type": "stream",
     "text": [
      "La probabilidad de obtener águila más de 60 veces es de 0.028443966820490392.\n"
     ]
    }
   ],
   "source": [
    "def probabilidad_mas(n: int, k: int):\n",
    "    pp = 0\n",
    "    \n",
    "    for i in range(k, n + 1):\n",
    "        pp += binomial(n, i) / (2 ** n)\n",
    "\n",
    "    return n, k, pp\n",
    "\n",
    "aguila_mas_60 = probabilidad_mas(100, 60)\n",
    "\n",
    "print(f\"La probabilidad de obtener águila más de {aguila_mas_60[1]} veces es de {aguila_mas_60[2]}.\")"
   ]
  },
  {
   "cell_type": "markdown",
   "id": "709f7ea0-ce4e-46fc-89fe-99ec15ae2424",
   "metadata": {},
   "source": [
    "**4. Números primos**\n",
    "\n",
    "Es posible escribir un programa bastante rápido para calcular número sprimos siguiendo las siguientes observaciones:\n",
    "\n",
    "(a) Un número $n$ es primo, si no tiene factores primos menores que $n$. Por lo tanto, solo necesitamos comprobar si es divisible por otros números primos.  \n",
    "(b) Si un número $n$ no es primo y tiene un factor $r$, entonces $n = rs$, donde $s$ también es un factor. Si $r \\leq \\sqrt{n}$ entonces $n = rs \\leq \\sqrt{n}s$, lo que implica que $s \\geq \\sqrt{n}$. Es decir, cualquier **no primo** debe tener factores, y por lo tanto también factores primos, menores o iguales a $\\sqrt{n}$. POr lo tanto, para determinar si un número es primo, tenemos que verificar sus factores primos solo hasta $\\sqrt{n}$; incluso si no hay ninguno, entonces el número es primo.  \n",
    "(c) Si no encontramos un **factor primo menor que $\\sqrt{n}$ entonces sabemos que el número no es primo** y, por lo tanto, no hay necesidad de realizar más comprobaciones; podemos abandonar este número y pasar al siguiente.\n",
    "\n",
    "**Escribe un programa que encuentre todos los números primos hasta $10000$ (diez mil)**. Crea una lista para almacenar los números primos, que comience con un solo número primo (el 2). Luego, para cada número $n$ del $3$ al $10000$, verifica si el número es divisible por alguno de los números primos de la lista hasta $\\sqrt{n}$. En cuanto encuentres un factor primo, puedes dejar de comprobar el resto de número (pues ya sabrías que $n$ no es primo). Si no encuentras factores primos iguales o menores a $\\sqrt{n}$, entonces $n$ es primo y habría que agregarlo a la lista. Puedes imprimir la lista completa al final del programa, o bien, ir imprimiendo los números indivualmente a medida que los vayas encontrando."
   ]
  },
  {
   "cell_type": "code",
   "execution_count": 28,
   "id": "1e8396ed-52f1-4e46-8c84-20847c58d855",
   "metadata": {},
   "outputs": [],
   "source": [
    "def primos(n: int):    \n",
    "    nums_primos = [2]\n",
    "    \n",
    "    for num in range(3, n + 1):\n",
    "        for i in range(2, int(num ** (1 / 2)) + 1):\n",
    "            if num % i == 0:\n",
    "                break\n",
    "        else:\n",
    "            nums_primos.append(num)\n",
    "    return nums_primos"
   ]
  },
  {
   "cell_type": "code",
   "execution_count": 30,
   "id": "6474c74b-547c-4877-b2cc-b971674a12d1",
   "metadata": {},
   "outputs": [
    {
     "name": "stdout",
     "output_type": "stream",
     "text": [
      "[2, 3, 5, 7, 11, 13, 17, 19, 23, 29, 31, 37, 41, 43, 47, 53, 59, 61, 67, 71, 73, 79, 83, 89, 97, 101, 103, 107, 109, 113, 127, 131, 137, 139, 149, 151, 157, 163, 167, 173, 179, 181, 191, 193, 197, 199, 211, 223, 227, 229, 233, 239, 241, 251, 257, 263, 269, 271, 277, 281, 283, 293, 307, 311, 313, 317, 331, 337, 347, 349, 353, 359, 367, 373, 379, 383, 389, 397, 401, 409, 419, 421, 431, 433, 439, 443, 449, 457, 461, 463, 467, 479, 487, 491, 499, 503, 509, 521, 523, 541, 547, 557, 563, 569, 571, 577, 587, 593, 599, 601, 607, 613, 617, 619, 631, 641, 643, 647, 653, 659, 661, 673, 677, 683, 691, 701, 709, 719, 727, 733, 739, 743, 751, 757, 761, 769, 773, 787, 797, 809, 811, 821, 823, 827, 829, 839, 853, 857, 859, 863, 877, 881, 883, 887, 907, 911, 919, 929, 937, 941, 947, 953, 967, 971, 977, 983, 991, 997, 1009, 1013, 1019, 1021, 1031, 1033, 1039, 1049, 1051, 1061, 1063, 1069, 1087, 1091, 1093, 1097, 1103, 1109, 1117, 1123, 1129, 1151, 1153, 1163, 1171, 1181, 1187, 1193, 1201, 1213, 1217, 1223, 1229, 1231, 1237, 1249, 1259, 1277, 1279, 1283, 1289, 1291, 1297, 1301, 1303, 1307, 1319, 1321, 1327, 1361, 1367, 1373, 1381, 1399, 1409, 1423, 1427, 1429, 1433, 1439, 1447, 1451, 1453, 1459, 1471, 1481, 1483, 1487, 1489, 1493, 1499, 1511, 1523, 1531, 1543, 1549, 1553, 1559, 1567, 1571, 1579, 1583, 1597, 1601, 1607, 1609, 1613, 1619, 1621, 1627, 1637, 1657, 1663, 1667, 1669, 1693, 1697, 1699, 1709, 1721, 1723, 1733, 1741, 1747, 1753, 1759, 1777, 1783, 1787, 1789, 1801, 1811, 1823, 1831, 1847, 1861, 1867, 1871, 1873, 1877, 1879, 1889, 1901, 1907, 1913, 1931, 1933, 1949, 1951, 1973, 1979, 1987, 1993, 1997, 1999, 2003, 2011, 2017, 2027, 2029, 2039, 2053, 2063, 2069, 2081, 2083, 2087, 2089, 2099, 2111, 2113, 2129, 2131, 2137, 2141, 2143, 2153, 2161, 2179, 2203, 2207, 2213, 2221, 2237, 2239, 2243, 2251, 2267, 2269, 2273, 2281, 2287, 2293, 2297, 2309, 2311, 2333, 2339, 2341, 2347, 2351, 2357, 2371, 2377, 2381, 2383, 2389, 2393, 2399, 2411, 2417, 2423, 2437, 2441, 2447, 2459, 2467, 2473, 2477, 2503, 2521, 2531, 2539, 2543, 2549, 2551, 2557, 2579, 2591, 2593, 2609, 2617, 2621, 2633, 2647, 2657, 2659, 2663, 2671, 2677, 2683, 2687, 2689, 2693, 2699, 2707, 2711, 2713, 2719, 2729, 2731, 2741, 2749, 2753, 2767, 2777, 2789, 2791, 2797, 2801, 2803, 2819, 2833, 2837, 2843, 2851, 2857, 2861, 2879, 2887, 2897, 2903, 2909, 2917, 2927, 2939, 2953, 2957, 2963, 2969, 2971, 2999, 3001, 3011, 3019, 3023, 3037, 3041, 3049, 3061, 3067, 3079, 3083, 3089, 3109, 3119, 3121, 3137, 3163, 3167, 3169, 3181, 3187, 3191, 3203, 3209, 3217, 3221, 3229, 3251, 3253, 3257, 3259, 3271, 3299, 3301, 3307, 3313, 3319, 3323, 3329, 3331, 3343, 3347, 3359, 3361, 3371, 3373, 3389, 3391, 3407, 3413, 3433, 3449, 3457, 3461, 3463, 3467, 3469, 3491, 3499, 3511, 3517, 3527, 3529, 3533, 3539, 3541, 3547, 3557, 3559, 3571, 3581, 3583, 3593, 3607, 3613, 3617, 3623, 3631, 3637, 3643, 3659, 3671, 3673, 3677, 3691, 3697, 3701, 3709, 3719, 3727, 3733, 3739, 3761, 3767, 3769, 3779, 3793, 3797, 3803, 3821, 3823, 3833, 3847, 3851, 3853, 3863, 3877, 3881, 3889, 3907, 3911, 3917, 3919, 3923, 3929, 3931, 3943, 3947, 3967, 3989, 4001, 4003, 4007, 4013, 4019, 4021, 4027, 4049, 4051, 4057, 4073, 4079, 4091, 4093, 4099, 4111, 4127, 4129, 4133, 4139, 4153, 4157, 4159, 4177, 4201, 4211, 4217, 4219, 4229, 4231, 4241, 4243, 4253, 4259, 4261, 4271, 4273, 4283, 4289, 4297, 4327, 4337, 4339, 4349, 4357, 4363, 4373, 4391, 4397, 4409, 4421, 4423, 4441, 4447, 4451, 4457, 4463, 4481, 4483, 4493, 4507, 4513, 4517, 4519, 4523, 4547, 4549, 4561, 4567, 4583, 4591, 4597, 4603, 4621, 4637, 4639, 4643, 4649, 4651, 4657, 4663, 4673, 4679, 4691, 4703, 4721, 4723, 4729, 4733, 4751, 4759, 4783, 4787, 4789, 4793, 4799, 4801, 4813, 4817, 4831, 4861, 4871, 4877, 4889, 4903, 4909, 4919, 4931, 4933, 4937, 4943, 4951, 4957, 4967, 4969, 4973, 4987, 4993, 4999, 5003, 5009, 5011, 5021, 5023, 5039, 5051, 5059, 5077, 5081, 5087, 5099, 5101, 5107, 5113, 5119, 5147, 5153, 5167, 5171, 5179, 5189, 5197, 5209, 5227, 5231, 5233, 5237, 5261, 5273, 5279, 5281, 5297, 5303, 5309, 5323, 5333, 5347, 5351, 5381, 5387, 5393, 5399, 5407, 5413, 5417, 5419, 5431, 5437, 5441, 5443, 5449, 5471, 5477, 5479, 5483, 5501, 5503, 5507, 5519, 5521, 5527, 5531, 5557, 5563, 5569, 5573, 5581, 5591, 5623, 5639, 5641, 5647, 5651, 5653, 5657, 5659, 5669, 5683, 5689, 5693, 5701, 5711, 5717, 5737, 5741, 5743, 5749, 5779, 5783, 5791, 5801, 5807, 5813, 5821, 5827, 5839, 5843, 5849, 5851, 5857, 5861, 5867, 5869, 5879, 5881, 5897, 5903, 5923, 5927, 5939, 5953, 5981, 5987, 6007, 6011, 6029, 6037, 6043, 6047, 6053, 6067, 6073, 6079, 6089, 6091, 6101, 6113, 6121, 6131, 6133, 6143, 6151, 6163, 6173, 6197, 6199, 6203, 6211, 6217, 6221, 6229, 6247, 6257, 6263, 6269, 6271, 6277, 6287, 6299, 6301, 6311, 6317, 6323, 6329, 6337, 6343, 6353, 6359, 6361, 6367, 6373, 6379, 6389, 6397, 6421, 6427, 6449, 6451, 6469, 6473, 6481, 6491, 6521, 6529, 6547, 6551, 6553, 6563, 6569, 6571, 6577, 6581, 6599, 6607, 6619, 6637, 6653, 6659, 6661, 6673, 6679, 6689, 6691, 6701, 6703, 6709, 6719, 6733, 6737, 6761, 6763, 6779, 6781, 6791, 6793, 6803, 6823, 6827, 6829, 6833, 6841, 6857, 6863, 6869, 6871, 6883, 6899, 6907, 6911, 6917, 6947, 6949, 6959, 6961, 6967, 6971, 6977, 6983, 6991, 6997, 7001, 7013, 7019, 7027, 7039, 7043, 7057, 7069, 7079, 7103, 7109, 7121, 7127, 7129, 7151, 7159, 7177, 7187, 7193, 7207, 7211, 7213, 7219, 7229, 7237, 7243, 7247, 7253, 7283, 7297, 7307, 7309, 7321, 7331, 7333, 7349, 7351, 7369, 7393, 7411, 7417, 7433, 7451, 7457, 7459, 7477, 7481, 7487, 7489, 7499, 7507, 7517, 7523, 7529, 7537, 7541, 7547, 7549, 7559, 7561, 7573, 7577, 7583, 7589, 7591, 7603, 7607, 7621, 7639, 7643, 7649, 7669, 7673, 7681, 7687, 7691, 7699, 7703, 7717, 7723, 7727, 7741, 7753, 7757, 7759, 7789, 7793, 7817, 7823, 7829, 7841, 7853, 7867, 7873, 7877, 7879, 7883, 7901, 7907, 7919, 7927, 7933, 7937, 7949, 7951, 7963, 7993, 8009, 8011, 8017, 8039, 8053, 8059, 8069, 8081, 8087, 8089, 8093, 8101, 8111, 8117, 8123, 8147, 8161, 8167, 8171, 8179, 8191, 8209, 8219, 8221, 8231, 8233, 8237, 8243, 8263, 8269, 8273, 8287, 8291, 8293, 8297, 8311, 8317, 8329, 8353, 8363, 8369, 8377, 8387, 8389, 8419, 8423, 8429, 8431, 8443, 8447, 8461, 8467, 8501, 8513, 8521, 8527, 8537, 8539, 8543, 8563, 8573, 8581, 8597, 8599, 8609, 8623, 8627, 8629, 8641, 8647, 8663, 8669, 8677, 8681, 8689, 8693, 8699, 8707, 8713, 8719, 8731, 8737, 8741, 8747, 8753, 8761, 8779, 8783, 8803, 8807, 8819, 8821, 8831, 8837, 8839, 8849, 8861, 8863, 8867, 8887, 8893, 8923, 8929, 8933, 8941, 8951, 8963, 8969, 8971, 8999, 9001, 9007, 9011, 9013, 9029, 9041, 9043, 9049, 9059, 9067, 9091, 9103, 9109, 9127, 9133, 9137, 9151, 9157, 9161, 9173, 9181, 9187, 9199, 9203, 9209, 9221, 9227, 9239, 9241, 9257, 9277, 9281, 9283, 9293, 9311, 9319, 9323, 9337, 9341, 9343, 9349, 9371, 9377, 9391, 9397, 9403, 9413, 9419, 9421, 9431, 9433, 9437, 9439, 9461, 9463, 9467, 9473, 9479, 9491, 9497, 9511, 9521, 9533, 9539, 9547, 9551, 9587, 9601, 9613, 9619, 9623, 9629, 9631, 9643, 9649, 9661, 9677, 9679, 9689, 9697, 9719, 9721, 9733, 9739, 9743, 9749, 9767, 9769, 9781, 9787, 9791, 9803, 9811, 9817, 9829, 9833, 9839, 9851, 9857, 9859, 9871, 9883, 9887, 9901, 9907, 9923, 9929, 9931, 9941, 9949, 9967, 9973]\n"
     ]
    }
   ],
   "source": [
    "print(primos(10000))"
   ]
  },
  {
   "cell_type": "markdown",
   "id": "e646450d-337a-473f-8c38-927a945954af",
   "metadata": {},
   "source": [
    "**5.Recursión**\n",
    "\n",
    "Una característica muy útil de las funciones que podemos definir es la **_recursividad_**, es decir, la capacidad de una función de llamarse a sí misma. Por ejemplo, considere la siguiente definición del factorial $n!$ de un entero positivo $n$:\n",
    "\n",
    "\\begin{equation}\n",
    "    n! = \n",
    "    \\begin{cases}\n",
    "        1 & \\text{si}\\; n = 1,\\\\\n",
    "        n\\times(n - 1)! & \\text{si}\\; n > 1.\n",
    "    \\end{cases}\n",
    "\\end{equation}\n",
    "\n",
    "Esto constituye una definición completa del factorial que nos permite calcular el valor de $n!$ para cualquier otro entero positivo. Podemos emplear esta definición directamente para crear una función para calcular factoriales, como esta (en Python):\n",
    "\n",
    "```python\n",
    "def factorial(n):\n",
    "    if n == 1:\n",
    "        return 1\n",
    "    else:\n",
    "        return n * factorial(n - 1)\n",
    "```\n",
    "\n",
    "Nota cómo si $n$ no es igual a 1, la función se llama a sí misma para calcular el factorial de $n - 1$, de tal manera que al pedir \"print(factorial(5))\" el intérprete de Python imprimirá correctamente la respuesta 120."
   ]
  },
  {
   "cell_type": "markdown",
   "id": "3ce5d01f-e1a0-4019-964e-19713ebe9460",
   "metadata": {},
   "source": [
    "(a) Anteriormente, en clase encontramos los número de Catalán $C_{n}$. Si hacemos una pequeña modificación, la definición de $C_{n}$ se puede reescribir de la siguiente forma:\n",
    "\n",
    "\\begin{equation}\n",
    "    C_{n} = \n",
    "    \\begin{cases}\n",
    "        1\\quad & \\text{if}\\; n = 0,\\\\\n",
    "        \\dfrac{4n - 2}{n + 1}C_{n - 1}\\quad & \\text{if}\\; n > 0,\n",
    "    \\end{cases}\n",
    "\\end{equation}\n",
    "\n",
    "Escribe una función, **usando recursividad**, que calcule $C_{n}$ y utilízala para calcular e imprimir C_{100}."
   ]
  },
  {
   "cell_type": "code",
   "execution_count": 2,
   "id": "7364195d-c5ef-4d25-bb75-d33375ff8894",
   "metadata": {},
   "outputs": [],
   "source": [
    "def catalan(n: int):\n",
    "    if n == 0:\n",
    "        return 1\n",
    "    else:\n",
    "        op = ((4 * n) - 2) / (n + 1)\n",
    "        return op * catalan(n - 1)"
   ]
  },
  {
   "cell_type": "code",
   "execution_count": 2,
   "id": "ff2f9553-21a2-4a27-aaed-1845104945e7",
   "metadata": {},
   "outputs": [
    {
     "data": {
      "text/plain": [
       "1"
      ]
     },
     "execution_count": 2,
     "metadata": {},
     "output_type": "execute_result"
    }
   ],
   "source": [
    "catalan(0)"
   ]
  },
  {
   "cell_type": "code",
   "execution_count": 3,
   "id": "46f71219-d10d-4fdb-bdb1-012f8abef610",
   "metadata": {},
   "outputs": [
    {
     "data": {
      "text/plain": [
       "8.965199470901317e+56"
      ]
     },
     "execution_count": 3,
     "metadata": {},
     "output_type": "execute_result"
    }
   ],
   "source": [
    "catalan(100)"
   ]
  },
  {
   "cell_type": "markdown",
   "id": "f3c08879-685c-4f3a-abf4-b5dd093d5fe6",
   "metadata": {},
   "source": [
    "(b) Euclides demostró que el máximo común divisor $g(m,n)$ de dos enteros no negativos $m$ y $n$ satisface que:\n",
    "\n",
    "\\begin{equation}\n",
    "    g(m,n) =\n",
    "    \\begin{cases}\n",
    "        m\\quad & \\text{si}\\; n = 0,\\\\\n",
    "        g(n, m\\ \\text{mod}\\ n)\\quad & \\text{si}\\; n > 0.\n",
    "    \\end{cases}\n",
    "\\end{equation}\n",
    "\n",
    "Usando esta fórmula escribe una función ``g(m, n)`` que emplee **recursividad** para calcular el máximo común divisor de $m$ y $n$. Usa tu función para calcular e imprimir el máximo común divisor de 108 y 192."
   ]
  },
  {
   "cell_type": "code",
   "execution_count": 4,
   "id": "09782f2b-8a8a-4ea4-afa8-e2701182f651",
   "metadata": {},
   "outputs": [],
   "source": [
    "def g(m: int, n: int):\n",
    "    if n == 0:\n",
    "        return m\n",
    "    else:\n",
    "        return g(n, m % n)"
   ]
  },
  {
   "cell_type": "code",
   "execution_count": 6,
   "id": "450f7913-f70f-41f3-9782-6e1fab018fdc",
   "metadata": {},
   "outputs": [
    {
     "name": "stdout",
     "output_type": "stream",
     "text": [
      "El máximo común divisor de 108 y 192 es 12.\n"
     ]
    }
   ],
   "source": [
    "print(f\"El máximo común divisor de 108 y 192 es {g(108, 192)}.\")"
   ]
  },
  {
   "cell_type": "markdown",
   "id": "05b48226-d49b-4906-8858-d202626d2eba",
   "metadata": {},
   "source": [
    "Comparando el cálculo de los números de Catalán del inciso 5a, con lo hecho en clase, vemos que es posible hacer el cálculo de dos maneras, ya sea directamente o usando _recursividad_.\n",
    "\n",
    "En la mayoría de los casos, si una cantidad se puede calcular **_sin_ recursividad**, será más rápido y normalmente se recomienda hacerlo así, si es posible. Sin embargo, hay algunos cálculos que son esencialmente imposibles (o al menos mucho más difíciles) sin recursividad."
   ]
  },
  {
   "cell_type": "code",
   "execution_count": null,
   "id": "9b839116-1cae-4564-920a-9de0ca93370b",
   "metadata": {},
   "outputs": [],
   "source": []
  }
 ],
 "metadata": {
  "kernelspec": {
   "display_name": "Python 3 (ipykernel)",
   "language": "python",
   "name": "python3"
  },
  "language_info": {
   "codemirror_mode": {
    "name": "ipython",
    "version": 3
   },
   "file_extension": ".py",
   "mimetype": "text/x-python",
   "name": "python",
   "nbconvert_exporter": "python",
   "pygments_lexer": "ipython3",
   "version": "3.12.3"
  }
 },
 "nbformat": 4,
 "nbformat_minor": 5
}
