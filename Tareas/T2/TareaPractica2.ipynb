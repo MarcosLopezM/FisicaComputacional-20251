{
 "cells": [
  {
   "cell_type": "markdown",
   "id": "e646450d-337a-473f-8c38-927a945954af",
   "metadata": {},
   "source": [
    "## Problema 5"
   ]
  },
  {
   "cell_type": "code",
   "execution_count": 2,
   "id": "7364195d-c5ef-4d25-bb75-d33375ff8894",
   "metadata": {},
   "outputs": [],
   "source": [
    "def catalan(n: int):\n",
    "    if n == 0:\n",
    "        return 1\n",
    "    else:\n",
    "        op = ((4 * n) - 2) / (n + 1)\n",
    "        return op * catalan(n - 1)"
   ]
  },
  {
   "cell_type": "code",
   "execution_count": 2,
   "id": "ff2f9553-21a2-4a27-aaed-1845104945e7",
   "metadata": {},
   "outputs": [
    {
     "data": {
      "text/plain": [
       "1"
      ]
     },
     "execution_count": 2,
     "metadata": {},
     "output_type": "execute_result"
    }
   ],
   "source": [
    "catalan(0)"
   ]
  },
  {
   "cell_type": "code",
   "execution_count": 3,
   "id": "46f71219-d10d-4fdb-bdb1-012f8abef610",
   "metadata": {},
   "outputs": [
    {
     "data": {
      "text/plain": [
       "8.965199470901317e+56"
      ]
     },
     "execution_count": 3,
     "metadata": {},
     "output_type": "execute_result"
    }
   ],
   "source": [
    "catalan(100)"
   ]
  },
  {
   "cell_type": "code",
   "execution_count": 4,
   "id": "09782f2b-8a8a-4ea4-afa8-e2701182f651",
   "metadata": {},
   "outputs": [],
   "source": [
    "def g(m: int, n: int):\n",
    "    if n == 0:\n",
    "        return m\n",
    "    else:\n",
    "        return g(n, m % n)"
   ]
  },
  {
   "cell_type": "code",
   "execution_count": 6,
   "id": "450f7913-f70f-41f3-9782-6e1fab018fdc",
   "metadata": {},
   "outputs": [
    {
     "name": "stdout",
     "output_type": "stream",
     "text": [
      "El máximo común divisor de 108 y 192 es 12.\n"
     ]
    }
   ],
   "source": [
    "print(f\"El máximo común divisor de 108 y 192 es {g(108, 192)}.\")"
   ]
  },
  {
   "cell_type": "markdown",
   "id": "e5d15df5-6227-4909-b1fd-64a9b81c44b1",
   "metadata": {},
   "source": [
    "## Problema 3"
   ]
  },
  {
   "cell_type": "markdown",
   "id": "106b5ee1-3853-43d6-b647-dfffa41de0c1",
   "metadata": {},
   "source": [
    "### a)"
   ]
  },
  {
   "cell_type": "code",
   "execution_count": 85,
   "id": "413b2d87-839f-44ec-9635-af490d7fe178",
   "metadata": {},
   "outputs": [],
   "source": [
    "def factorial(n:int) -> int:\n",
    "    if n < 2:\n",
    "        return 1\n",
    "    else:\n",
    "        return n * factorial(n - 1)\n",
    "\n",
    "\n",
    "def binomial(n: int, k: int) -> int:\n",
    "    return factorial(n) // (factorial(k) * factorial(n - k))"
   ]
  },
  {
   "cell_type": "code",
   "execution_count": 86,
   "id": "ec6abd4b-0cac-458b-b68d-2d94e27a5b48",
   "metadata": {},
   "outputs": [
    {
     "name": "stdout",
     "output_type": "stream",
     "text": [
      "1\n",
      "1\n",
      "1\n",
      "1\n",
      "1\n"
     ]
    }
   ],
   "source": [
    "for i in range(5):\n",
    "    print(binomial(i, 0))"
   ]
  },
  {
   "cell_type": "markdown",
   "id": "4e9743fe-7068-49eb-8784-a242afd4f312",
   "metadata": {},
   "source": [
    "### b)"
   ]
  },
  {
   "cell_type": "code",
   "execution_count": 99,
   "id": "62dee0ae-c5fe-46ce-89b1-27bc4e455b56",
   "metadata": {},
   "outputs": [],
   "source": [
    "def triangulo_pascal(lineas: int):\n",
    "    for n in range(lineas):\n",
    "        for k in range(n + 1):\n",
    "            print(f\" {binomial(n, k)}\", end=\" \")\n",
    "    \n",
    "        print()"
   ]
  },
  {
   "cell_type": "code",
   "execution_count": 100,
   "id": "d1ecbcec-d929-4d4b-82d3-1669cd65cfc5",
   "metadata": {},
   "outputs": [
    {
     "name": "stdout",
     "output_type": "stream",
     "text": [
      " 1 \n",
      " 1  1 \n",
      " 1  2  1 \n",
      " 1  3  3  1 \n",
      " 1  4  6  4  1 \n",
      " 1  5  10  10  5  1 \n",
      " 1  6  15  20  15  6  1 \n",
      " 1  7  21  35  35  21  7  1 \n",
      " 1  8  28  56  70  56  28  8  1 \n",
      " 1  9  36  84  126  126  84  36  9  1 \n",
      " 1  10  45  120  210  252  210  120  45  10  1 \n",
      " 1  11  55  165  330  462  462  330  165  55  11  1 \n",
      " 1  12  66  220  495  792  924  792  495  220  66  12  1 \n",
      " 1  13  78  286  715  1287  1716  1716  1287  715  286  78  13  1 \n",
      " 1  14  91  364  1001  2002  3003  3432  3003  2002  1001  364  91  14  1 \n",
      " 1  15  105  455  1365  3003  5005  6435  6435  5005  3003  1365  455  105  15  1 \n",
      " 1  16  120  560  1820  4368  8008  11440  12870  11440  8008  4368  1820  560  120  16  1 \n",
      " 1  17  136  680  2380  6188  12376  19448  24310  24310  19448  12376  6188  2380  680  136  17  1 \n",
      " 1  18  153  816  3060  8568  18564  31824  43758  48620  43758  31824  18564  8568  3060  816  153  18  1 \n",
      " 1  19  171  969  3876  11628  27132  50388  75582  92378  92378  75582  50388  27132  11628  3876  969  171  19  1 \n"
     ]
    }
   ],
   "source": [
    "triangulo_pascal(20)"
   ]
  },
  {
   "cell_type": "markdown",
   "id": "d6da0677-c75b-49b5-8ba8-d1bc5b10b852",
   "metadata": {},
   "source": [
    "### c)"
   ]
  },
  {
   "cell_type": "code",
   "execution_count": 118,
   "id": "41052d8b-349a-4b16-ab56-1362a852cec3",
   "metadata": {},
   "outputs": [
    {
     "name": "stdout",
     "output_type": "stream",
     "text": [
      "La probabilidad de obtener águila 60 veces es de 0.010843866711637987.\n"
     ]
    }
   ],
   "source": [
    "# def probabilidad(k: int, n: int):\n",
    "print(f\"La probabilidad de obtener águila 60 veces es de {binomial(100, 60) / (2 ** 100)}.\")"
   ]
  },
  {
   "cell_type": "code",
   "execution_count": 117,
   "id": "b2f3ad47-e13d-4428-a32b-fe6d3d8055b3",
   "metadata": {},
   "outputs": [
    {
     "name": "stdout",
     "output_type": "stream",
     "text": [
      "La probabilidad de obtener águila más de 60 veces es de 0.028443966820490392.\n"
     ]
    }
   ],
   "source": [
    "pp = 0\n",
    "for i in range(60, 100 + 1):\n",
    "    pp += binomial(100, i) / (2 ** 100)\n",
    "print(f\"La probabilidad de obtener águila más de 60 veces es de {pp}.\")"
   ]
  },
  {
   "cell_type": "markdown",
   "id": "46f555e7-fa38-45f8-a50b-bad18dff6999",
   "metadata": {},
   "source": [
    "## Problema 4"
   ]
  },
  {
   "cell_type": "code",
   "execution_count": 119,
   "id": "912cc746-428d-4881-a4f7-ff3c5bff2484",
   "metadata": {},
   "outputs": [],
   "source": [
    "num_primos = [2]"
   ]
  },
  {
   "cell_type": "markdown",
   "id": "d53b1862-ba5b-4aee-a545-c6f9f7373aae",
   "metadata": {},
   "source": [
    "### Problema 2"
   ]
  },
  {
   "cell_type": "code",
   "execution_count": 158,
   "id": "6c19de24-3b30-4b2c-a41a-5d927bb4a035",
   "metadata": {},
   "outputs": [],
   "source": [
    "import math\n",
    "\n",
    "def madelung(L):\n",
    "    M = 0\n",
    "    e = -1.602e-19 # Carga del electrón\n",
    "    E0 = 8.85e-12 # Permitividad del vacío\n",
    "\n",
    "    for i in range(-L, L + 1):\n",
    "        for j in range(-L, L + 1):\n",
    "            for k in range(-L, L + 1):\n",
    "\n",
    "                if i == j == k == 0:\n",
    "                    continue\n",
    "\n",
    "                potencial = ((i**2 + j**2 + k**2) ** (1 / 2))\n",
    "                \n",
    "                if (i + j + k) % 2 == 0:\n",
    "                    M += 1 / potencial\n",
    "                    \n",
    "                else:\n",
    "                    M -= 1 / potencial\n",
    "    return M"
   ]
  },
  {
   "cell_type": "code",
   "execution_count": 159,
   "id": "e1199795-1349-4a57-b319-d36dcd0f6c7e",
   "metadata": {},
   "outputs": [
    {
     "data": {
      "text/plain": [
       "-1.7418198158396672"
      ]
     },
     "execution_count": 159,
     "metadata": {},
     "output_type": "execute_result"
    }
   ],
   "source": [
    "madelung(100)"
   ]
  }
 ],
 "metadata": {
  "kernelspec": {
   "display_name": "Python 3 (ipykernel)",
   "language": "python",
   "name": "python3"
  },
  "language_info": {
   "codemirror_mode": {
    "name": "ipython",
    "version": 3
   },
   "file_extension": ".py",
   "mimetype": "text/x-python",
   "name": "python",
   "nbconvert_exporter": "python",
   "pygments_lexer": "ipython3",
   "version": "3.12.3"
  }
 },
 "nbformat": 4,
 "nbformat_minor": 5
}
